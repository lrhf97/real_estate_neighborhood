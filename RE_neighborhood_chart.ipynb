{
 "cells": [
  {
   "cell_type": "code",
   "execution_count": 38,
   "metadata": {},
   "outputs": [],
   "source": [
    "#Import libraries\n",
    "import pandas as pd\n",
    "import numpy as np\n",
    "import plotly.graph_objects as go\n",
    "\n",
    "#Read the cluster data\n",
    "df_VA=pd.read_csv('df_VA2.csv',index_col=[0])\n",
    "Fields=[\n",
    "'region',\n",
    "'period_begin',\n",
    "'period_end',\n",
    "'period_duration',\n",
    "'parent_metro_region',\n",
    "'property_type',\n",
    "'median_sale_price',\n",
    "'median_sale_price_yoy',\n",
    "'homes_sold',\n",
    "'new_listings_yoy',\n",
    "'median_dom',\n",
    "'median_dom_yoy',\n",
    "'avg_sale_to_list',\n",
    "'cluster_nbr',\n",
    "'0',\n",
    "'1',\n",
    "'2'\n",
    "]\n",
    "#Only select fields that are needed in this visualization\n",
    "df_VA=df_VA[Fields]"
   ]
  },
  {
   "cell_type": "code",
   "execution_count": 40,
   "metadata": {},
   "outputs": [],
   "source": []
  },
  {
   "cell_type": "code",
   "execution_count": 49,
   "metadata": {},
   "outputs": [
    {
     "name": "stderr",
     "output_type": "stream",
     "text": [
      "/tmp/ipykernel_3744/3497683897.py:7: FutureWarning:\n",
      "\n",
      "Indexing with multiple keys (implicitly converted to a tuple of keys) will be deprecated, use a list instead.\n",
      "\n"
     ]
    },
    {
     "data": {
      "text/html": [
       "<div>\n",
       "<style scoped>\n",
       "    .dataframe tbody tr th:only-of-type {\n",
       "        vertical-align: middle;\n",
       "    }\n",
       "\n",
       "    .dataframe tbody tr th {\n",
       "        vertical-align: top;\n",
       "    }\n",
       "\n",
       "    .dataframe thead th {\n",
       "        text-align: right;\n",
       "    }\n",
       "</style>\n",
       "<table border=\"1\" class=\"dataframe\">\n",
       "  <thead>\n",
       "    <tr style=\"text-align: right;\">\n",
       "      <th></th>\n",
       "      <th># of Neighborhoods</th>\n",
       "      <th>Median Homes Sold</th>\n",
       "      <th>Median Sale Price</th>\n",
       "      <th>Median Sale Price YoY</th>\n",
       "      <th>Median New Listings YoY</th>\n",
       "      <th>Median Sale-to-List Ratio</th>\n",
       "      <th>Median Days on Market</th>\n",
       "      <th>Median Days on Market YoY (days)</th>\n",
       "    </tr>\n",
       "    <tr>\n",
       "      <th>cluster_nbr</th>\n",
       "      <th></th>\n",
       "      <th></th>\n",
       "      <th></th>\n",
       "      <th></th>\n",
       "      <th></th>\n",
       "      <th></th>\n",
       "      <th></th>\n",
       "      <th></th>\n",
       "    </tr>\n",
       "  </thead>\n",
       "  <tbody>\n",
       "    <tr>\n",
       "      <th>0</th>\n",
       "      <td>39</td>\n",
       "      <td>56.0</td>\n",
       "      <td>305000.0</td>\n",
       "      <td>0.138130</td>\n",
       "      <td>0.121951</td>\n",
       "      <td>1.018120</td>\n",
       "      <td>17.0</td>\n",
       "      <td>-5.0</td>\n",
       "    </tr>\n",
       "    <tr>\n",
       "      <th>1</th>\n",
       "      <td>9</td>\n",
       "      <td>28.0</td>\n",
       "      <td>268000.0</td>\n",
       "      <td>0.208571</td>\n",
       "      <td>0.000000</td>\n",
       "      <td>1.000201</td>\n",
       "      <td>26.5</td>\n",
       "      <td>-5.5</td>\n",
       "    </tr>\n",
       "    <tr>\n",
       "      <th>2</th>\n",
       "      <td>20</td>\n",
       "      <td>30.0</td>\n",
       "      <td>262450.0</td>\n",
       "      <td>0.152129</td>\n",
       "      <td>0.757353</td>\n",
       "      <td>1.014511</td>\n",
       "      <td>19.0</td>\n",
       "      <td>-8.0</td>\n",
       "    </tr>\n",
       "    <tr>\n",
       "      <th>3</th>\n",
       "      <td>23</td>\n",
       "      <td>40.0</td>\n",
       "      <td>392000.0</td>\n",
       "      <td>0.023023</td>\n",
       "      <td>-0.055556</td>\n",
       "      <td>1.006661</td>\n",
       "      <td>22.0</td>\n",
       "      <td>-8.0</td>\n",
       "    </tr>\n",
       "    <tr>\n",
       "      <th>4</th>\n",
       "      <td>25</td>\n",
       "      <td>30.0</td>\n",
       "      <td>410000.0</td>\n",
       "      <td>0.150442</td>\n",
       "      <td>0.055556</td>\n",
       "      <td>1.031888</td>\n",
       "      <td>8.0</td>\n",
       "      <td>-7.0</td>\n",
       "    </tr>\n",
       "  </tbody>\n",
       "</table>\n",
       "</div>"
      ],
      "text/plain": [
       "             # of Neighborhoods  Median Homes Sold  Median Sale Price  \\\n",
       "cluster_nbr                                                             \n",
       "0                            39               56.0           305000.0   \n",
       "1                             9               28.0           268000.0   \n",
       "2                            20               30.0           262450.0   \n",
       "3                            23               40.0           392000.0   \n",
       "4                            25               30.0           410000.0   \n",
       "\n",
       "             Median Sale Price YoY  Median New Listings YoY  \\\n",
       "cluster_nbr                                                   \n",
       "0                         0.138130                 0.121951   \n",
       "1                         0.208571                 0.000000   \n",
       "2                         0.152129                 0.757353   \n",
       "3                         0.023023                -0.055556   \n",
       "4                         0.150442                 0.055556   \n",
       "\n",
       "             Median Sale-to-List Ratio  Median Days on Market  \\\n",
       "cluster_nbr                                                     \n",
       "0                             1.018120                   17.0   \n",
       "1                             1.000201                   26.5   \n",
       "2                             1.014511                   19.0   \n",
       "3                             1.006661                   22.0   \n",
       "4                             1.031888                    8.0   \n",
       "\n",
       "             Median Days on Market YoY (days)  \n",
       "cluster_nbr                                    \n",
       "0                                        -5.0  \n",
       "1                                        -5.5  \n",
       "2                                        -8.0  \n",
       "3                                        -8.0  \n",
       "4                                        -7.0  "
      ]
     },
     "execution_count": 49,
     "metadata": {},
     "output_type": "execute_result"
    }
   ],
   "source": [
    "#Rename fields to make them easier to understand\n",
    "df = df_VA.rename({'region': 'Neighborhood', '0': 'PC1','1':'PC2','2':'PC3'}, axis=1)\n",
    "df['cluster_nbr'] = df['cluster_nbr'].apply(str) #Change data type for cluster_nbr\n",
    "\n",
    "#Create summary statistics for clusters. Calucating medians for the following metrics at cluster level\n",
    "df1=df.groupby(['cluster_nbr'])['cluster_nbr'].count()\n",
    "df2=df.groupby(['cluster_nbr'])['homes_sold','median_sale_price','median_sale_price_yoy','new_listings_yoy','avg_sale_to_list','median_dom','median_dom_yoy'].median()\n",
    "df_summary=pd.concat([df1, df2],axis=1)\n",
    "df_summary = df_summary.rename({'cluster_nbr': '# of Neighborhoods','homes_sold':'Median Homes Sold','median_sale_price':'Median Sale Price','median_sale_price_yoy':'Median Sale Price YoY','new_listings_yoy':'Median New Listings YoY','avg_sale_to_list':'Median Sale-to-List Ratio','median_dom':'Median Days on Market','median_dom_yoy':'Median Days on Market YoY (days)'}, axis=1)\n",
    "df_summary"
   ]
  },
  {
   "cell_type": "code",
   "execution_count": 42,
   "metadata": {},
   "outputs": [],
   "source": [
    "#Add cluster description to the dataframe\n",
    "def f(row):\n",
    "    if row['cluster_nbr'] == '0':\n",
    "        val = 'Mid range, Steady appreciation, Inventory rising'\n",
    "    elif row['cluster_nbr'] == '1':\n",
    "        val = 'Rising prices, Affordable price, Longest Days on Market'\n",
    "    elif row['cluster_nbr'] == '2':\n",
    "        val = 'Increased inventory, Affordable but prices increasing'\n",
    "    elif row['cluster_nbr'] == '3':\n",
    "        val = 'Pricey, Value holding steady.'   \n",
    "    elif row['cluster_nbr'] == '4':\n",
    "        val = 'Pricey, Values Increasing, Very quick to sell'  \n",
    "    else:\n",
    "        val = 'NA'\n",
    "    return val\n",
    "\n",
    "df['cluster_desc']= df.apply(f, axis=1)"
   ]
  },
  {
   "cell_type": "code",
   "execution_count": 43,
   "metadata": {},
   "outputs": [],
   "source": [
    "#Define a function to assign a unique color code to each cluster. \n",
    "#You can choose any color code you want by tweaking the val parameter\n",
    "def color(row):\n",
    "    if row['cluster_nbr'] == '0':\n",
    "        val = '#0984BD'\n",
    "    elif row['cluster_nbr'] == '1':\n",
    "        val = '#E12906'\n",
    "    elif row['cluster_nbr'] == '2':\n",
    "        val = '#08E9E7'\n",
    "    elif row['cluster_nbr'] == '3':\n",
    "        val = '#E18A06'   \n",
    "    elif row['cluster_nbr'] == '4':\n",
    "        val = '#0C861A'  \n",
    "    else:\n",
    "        val = 'NA'\n",
    "    return val\n",
    "#Apply the function to each data point in the data frame\n",
    "df['color']= df.apply(color, axis=1)"
   ]
  },
  {
   "cell_type": "code",
   "execution_count": 45,
   "metadata": {},
   "outputs": [],
   "source": [
    "#Create the 'size' column for bubble size\n",
    "from sklearn.preprocessing import MinMaxScaler\n",
    "minmax_scaler=MinMaxScaler()\n",
    "scaled_features=minmax_scaler.fit_transform(df[['median_sale_price_yoy']])\n",
    "df['size']=pd.DataFrame(scaled_features)\n",
    "\n",
    "#Styling changes to reduce decimal places to 2\n",
    "df['avg_sale_to_list'] = pd.Series([round(val, 2) for val in df['avg_sale_to_list']], index = df.index)\n",
    "df['homes_sold'] = pd.Series([round(val, 0) for val in df['homes_sold']], index = df.index)\n",
    "df['median_dom'] = pd.Series([round(val, 1) for val in df['median_dom']], index = df.index)\n",
    "\n",
    "\n",
    "#Styling changes to change the data format to percentages\n",
    "df['median_sale_price_yoy'] = pd.Series([\"{0:.1f}%\".format(val * 100) for val in df['median_sale_price_yoy']], index = df.index)\n",
    "df['new_listings_yoy'] = pd.Series([\"{0:.1f}%\".format(val * 100) for val in df['new_listings_yoy']], index = df.index) "
   ]
  },
  {
   "cell_type": "code",
   "execution_count": 46,
   "metadata": {},
   "outputs": [],
   "source": [
    "#Add 'text' column for hover-over tooltips\n",
    "#You can customize what fields or information you want to show in tooltips in the code below\n",
    "hover_text = []\n",
    "for index, row in df.iterrows():\n",
    "    hover_text.append(('Cluster Description:<br>{cluster_desc}<br><br>'+\n",
    "                    'Neighborhood: {Neighborhood}<br>'+\n",
    "                    'Metro: {parent_metro_region}<br>'+ \n",
    "                    'Homes Sold: {homes_sold}<br>'+\n",
    "                    'Median Sales Price: ${median_sale_price}<br>'+\n",
    "                    'Median Sales Price YoY: {median_sale_price_yoy}<br>'+\n",
    "                    'New Listings YoY: {new_listings_yoy}<br>'+\n",
    "                    'Median Days on Market: {median_dom}<br>'+\n",
    "                    'Avg Sales-to-Listing Price: {avg_sale_to_list}'\n",
    "                    ).format(\n",
    "                    cluster_desc=row['cluster_desc'],\n",
    "                    Neighborhood=row['Neighborhood'],\n",
    "                    parent_metro_region=row['parent_metro_region'],\n",
    "                    homes_sold=row['homes_sold'],\n",
    "                    median_sale_price=row['median_sale_price'],\n",
    "                    median_sale_price_yoy=row['median_sale_price_yoy'],\n",
    "                    new_listings_yoy=row['new_listings_yoy'],\n",
    "                    median_dom=row['median_dom'],\n",
    "                    avg_sale_to_list=row['avg_sale_to_list']))\n",
    "df['text'] = hover_text"
   ]
  },
  {
   "cell_type": "code",
   "execution_count": 48,
   "metadata": {},
   "outputs": [
    {
     "name": "stderr",
     "output_type": "stream",
     "text": [
      "/home/awstclair/miniconda3/envs/realestate_env/lib/python3.10/site-packages/plotly/graph_objs/_deprecations.py:544: DeprecationWarning:\n",
      "\n",
      "plotly.graph_objs.XAxis is deprecated.\n",
      "Please replace it with one of the following more specific types\n",
      "  - plotly.graph_objs.layout.XAxis\n",
      "  - plotly.graph_objs.layout.scene.XAxis\n",
      "\n",
      "\n",
      "/home/awstclair/miniconda3/envs/realestate_env/lib/python3.10/site-packages/plotly/graph_objs/_deprecations.py:572: DeprecationWarning:\n",
      "\n",
      "plotly.graph_objs.YAxis is deprecated.\n",
      "Please replace it with one of the following more specific types\n",
      "  - plotly.graph_objs.layout.YAxis\n",
      "  - plotly.graph_objs.layout.scene.YAxis\n",
      "\n",
      "\n"
     ]
    },
    {
     "data": {
      "application/vnd.plotly.v1+json": {
       "config": {
        "plotlyServerURL": "https://plot.ly"
       },
       "data": [
        {
         "marker": {
          "color": [
           "#0C861A",
           "#0C861A",
           "#0C861A",
           "#0C861A",
           "#0C861A",
           "#0C861A",
           "#0C861A",
           "#0C861A",
           "#0C861A",
           "#0C861A",
           "#0C861A",
           "#0C861A",
           "#0C861A",
           "#0C861A",
           "#0C861A",
           "#0C861A",
           "#0C861A",
           "#0C861A",
           "#0C861A",
           "#0C861A",
           "#0C861A",
           "#0C861A",
           "#0C861A",
           "#0C861A",
           "#0C861A"
          ],
          "line": {
           "width": 2
          },
          "size": [
           0.6157728330367636,
           0.7515237397880312,
           0.1338169622529791,
           0.707474711762013,
           0.32215598088027736,
           0.5608119665646114,
           0.7321272339782979,
           0.9079281227466249,
           0.7029986678463214,
           0.6466027092952931,
           0.5459434614724725,
           0.9924864072072601,
           0.7006093833554818,
           0.7027245172616633,
           0.42243878244239175,
           0.6085502220183907,
           0.6424381101336095,
           0.6935862033581685,
           0.5416629763015757,
           0.946339750329342,
           0.7993740885430523,
           0.6623028795862419,
           0.6568874585293638,
           0.4227390824338158,
           0.764877325487107
          ],
          "sizemode": "area",
          "sizeref": 0.006172839506172839
         },
         "mode": "markers",
         "name": "4",
         "text": [
          "Cluster Description:<br>Pricey, Values Increasing, Very quick to sell<br><br>Neighborhood: Richmond, VA - Midlothian<br>Metro: Richmond, VA<br>Homes Sold: 71.0<br>Median Sales Price: $238000.0<br>Median Sales Price YoY: 12.8%<br>New Listings YoY: 34.6%<br>Median Days on Market: 11.5<br>Avg Sales-to-Listing Price: 1.03",
          "Cluster Description:<br>Pricey, Values Increasing, Very quick to sell<br><br>Neighborhood: Manassas Park, VA - Bloom Crossing<br>Metro: Washington, DC<br>Homes Sold: 23.0<br>Median Sales Price: $555000.0<br>Median Sales Price YoY: 19.4%<br>New Listings YoY: 5.6%<br>Median Days on Market: 6.0<br>Avg Sales-to-Listing Price: 1.03",
          "Cluster Description:<br>Pricey, Values Increasing, Very quick to sell<br><br>Neighborhood: Richmond, VA - Near West<br>Metro: Richmond, VA<br>Homes Sold: 73.0<br>Median Sales Price: $390000.0<br>Median Sales Price YoY: -10.5%<br>New Listings YoY: -3.8%<br>Median Days on Market: 8.0<br>Avg Sales-to-Listing Price: 1.04",
          "Cluster Description:<br>Pricey, Values Increasing, Very quick to sell<br><br>Neighborhood: Richmond, VA - Bellevue<br>Metro: Richmond, VA<br>Homes Sold: 20.0<br>Median Sales Price: $439600.0<br>Median Sales Price YoY: 17.2%<br>New Listings YoY: 29.4%<br>Median Days on Market: 6.0<br>Avg Sales-to-Listing Price: 1.06",
          "Cluster Description:<br>Pricey, Values Increasing, Very quick to sell<br><br>Neighborhood: Richmond, VA - Far West End<br>Metro: Richmond, VA<br>Homes Sold: 103.0<br>Median Sales Price: $550000.0<br>Median Sales Price YoY: -1.4%<br>New Listings YoY: -25.2%<br>Median Days on Market: 13.0<br>Avg Sales-to-Listing Price: 1.06",
          "Cluster Description:<br>Pricey, Values Increasing, Very quick to sell<br><br>Neighborhood: Richmond, VA - Huguenot<br>Metro: Richmond, VA<br>Homes Sold: 71.0<br>Median Sales Price: $391000.0<br>Median Sales Price YoY: 10.1%<br>New Listings YoY: -15.0%<br>Median Days on Market: 8.0<br>Avg Sales-to-Listing Price: 1.05",
          "Cluster Description:<br>Pricey, Values Increasing, Very quick to sell<br><br>Neighborhood: Dale City, VA - Ridgedale<br>Metro: Washington, DC<br>Homes Sold: 20.0<br>Median Sales Price: $467750.0<br>Median Sales Price YoY: 18.4%<br>New Listings YoY: 53.8%<br>Median Days on Market: 6.0<br>Avg Sales-to-Listing Price: 1.03",
          "Cluster Description:<br>Pricey, Values Increasing, Very quick to sell<br><br>Neighborhood: Richmond, VA - South Richmond<br>Metro: Richmond, VA<br>Homes Sold: 95.0<br>Median Sales Price: $207500.0<br>Median Sales Price YoY: 26.9%<br>New Listings YoY: 16.4%<br>Median Days on Market: 7.0<br>Avg Sales-to-Listing Price: 1.02",
          "Cluster Description:<br>Pricey, Values Increasing, Very quick to sell<br><br>Neighborhood: Stafford Courthouse, VA - Austin Ridge<br>Metro: Washington, DC<br>Homes Sold: 20.0<br>Median Sales Price: $567500.5<br>Median Sales Price YoY: 17.0%<br>New Listings YoY: -6.7%<br>Median Days on Market: 7.0<br>Avg Sales-to-Listing Price: 1.02",
          "Cluster Description:<br>Pricey, Values Increasing, Very quick to sell<br><br>Neighborhood: Richmond, VA - Fulton Hill<br>Metro: Richmond, VA<br>Homes Sold: 21.0<br>Median Sales Price: $240000.0<br>Median Sales Price YoY: 14.3%<br>New Listings YoY: 25.0%<br>Median Days on Market: 6.0<br>Avg Sales-to-Listing Price: 1.07",
          "Cluster Description:<br>Pricey, Values Increasing, Very quick to sell<br><br>Neighborhood: Virginia Beach, VA - Brigadoon<br>Metro: Virginia Beach, VA<br>Homes Sold: 21.0<br>Median Sales Price: $360000.0<br>Median Sales Price YoY: 9.4%<br>New Listings YoY: 31.6%<br>Median Days on Market: 11.0<br>Avg Sales-to-Listing Price: 1.03",
          "Cluster Description:<br>Pricey, Values Increasing, Very quick to sell<br><br>Neighborhood: South Riding, VA - Willowsford<br>Metro: Washington, DC<br>Homes Sold: 36.0<br>Median Sales Price: $1208444.0<br>Median Sales Price YoY: 31.0%<br>New Listings YoY: -25.7%<br>Median Days on Market: 8.0<br>Avg Sales-to-Listing Price: 1.04",
          "Cluster Description:<br>Pricey, Values Increasing, Very quick to sell<br><br>Neighborhood: Gainesville, VA - Heritage Hunt<br>Metro: Washington, DC<br>Homes Sold: 21.0<br>Median Sales Price: $640000.0<br>Median Sales Price YoY: 16.9%<br>New Listings YoY: 19.0%<br>Median Days on Market: 8.0<br>Avg Sales-to-Listing Price: 1.02",
          "Cluster Description:<br>Pricey, Values Increasing, Very quick to sell<br><br>Neighborhood: Garrisonville, VA - Hampton Oaks<br>Metro: Washington, DC<br>Homes Sold: 20.0<br>Median Sales Price: $516250.0<br>Median Sales Price YoY: 17.0%<br>New Listings YoY: 9.1%<br>Median Days on Market: 10.0<br>Avg Sales-to-Listing Price: 1.03",
          "Cluster Description:<br>Pricey, Values Increasing, Very quick to sell<br><br>Neighborhood: Richmond, VA - Huguenot<br>Metro: Richmond, VA<br>Homes Sold: 22.0<br>Median Sales Price: $381500.0<br>Median Sales Price YoY: 3.5%<br>New Listings YoY: 23.1%<br>Median Days on Market: 9.0<br>Avg Sales-to-Listing Price: 1.04",
          "Cluster Description:<br>Pricey, Values Increasing, Very quick to sell<br><br>Neighborhood: Ashburn, VA - Ashburn Farm<br>Metro: Washington, DC<br>Homes Sold: 24.0<br>Median Sales Price: $799500.0<br>Median Sales Price YoY: 12.4%<br>New Listings YoY: -30.8%<br>Median Days on Market: 11.5<br>Avg Sales-to-Listing Price: 1.02",
          "Cluster Description:<br>Pricey, Values Increasing, Very quick to sell<br><br>Neighborhood: Gainesville, VA - Dominion Valley Country Club<br>Metro: Washington, DC<br>Homes Sold: 58.0<br>Median Sales Price: $810000.0<br>Median Sales Price YoY: 14.1%<br>New Listings YoY: -13.7%<br>Median Days on Market: 5.0<br>Avg Sales-to-Listing Price: 1.02",
          "Cluster Description:<br>Pricey, Values Increasing, Very quick to sell<br><br>Neighborhood: Linton Hall, VA - Braemar<br>Metro: Washington, DC<br>Homes Sold: 42.0<br>Median Sales Price: $612500.0<br>Median Sales Price YoY: 16.6%<br>New Listings YoY: -8.1%<br>Median Days on Market: 6.0<br>Avg Sales-to-Listing Price: 1.04",
          "Cluster Description:<br>Pricey, Values Increasing, Very quick to sell<br><br>Neighborhood: Brandermill, VA - Deer Run<br>Metro: Richmond, VA<br>Homes Sold: 31.0<br>Median Sales Price: $278500.0<br>Median Sales Price YoY: 9.2%<br>New Listings YoY: -3.8%<br>Median Days on Market: 6.0<br>Avg Sales-to-Listing Price: 1.04",
          "Cluster Description:<br>Pricey, Values Increasing, Very quick to sell<br><br>Neighborhood: Hampton, VA - Coliseum Central<br>Metro: Virginia Beach, VA<br>Homes Sold: 27.0<br>Median Sales Price: $235000.0<br>Median Sales Price YoY: 28.8%<br>New Listings YoY: -12.5%<br>Median Days on Market: 14.0<br>Avg Sales-to-Listing Price: 1.03",
          "Cluster Description:<br>Pricey, Values Increasing, Very quick to sell<br><br>Neighborhood: Newport News, VA - Nicewood<br>Metro: Virginia Beach, VA<br>Homes Sold: 20.0<br>Median Sales Price: $255500.0<br>Median Sales Price YoY: 21.7%<br>New Listings YoY: -22.2%<br>Median Days on Market: 14.5<br>Avg Sales-to-Listing Price: 1.04",
          "Cluster Description:<br>Pricey, Values Increasing, Very quick to sell<br><br>Neighborhood: Richmond, VA - North Richmond<br>Metro: Richmond, VA<br>Homes Sold: 147.0<br>Median Sales Price: $325000.0<br>Median Sales Price YoY: 15.0%<br>New Listings YoY: 13.7%<br>Median Days on Market: 8.0<br>Avg Sales-to-Listing Price: 1.03",
          "Cluster Description:<br>Pricey, Values Increasing, Very quick to sell<br><br>Neighborhood: Montclair, VA - Lake Montclair<br>Metro: Washington, DC<br>Homes Sold: 30.0<br>Median Sales Price: $528000.0<br>Median Sales Price YoY: 14.8%<br>New Listings YoY: 16.7%<br>Median Days on Market: 6.0<br>Avg Sales-to-Listing Price: 1.02",
          "Cluster Description:<br>Pricey, Values Increasing, Very quick to sell<br><br>Neighborhood: Tuckahoe, VA - Midlothian<br>Metro: Richmond, VA<br>Homes Sold: 223.0<br>Median Sales Price: $410000.0<br>Median Sales Price YoY: 3.5%<br>New Listings YoY: -12.0%<br>Median Days on Market: 9.0<br>Avg Sales-to-Listing Price: 1.04",
          "Cluster Description:<br>Pricey, Values Increasing, Very quick to sell<br><br>Neighborhood: Richmond, VA - East End<br>Metro: Richmond, VA<br>Homes Sold: 107.0<br>Median Sales Price: $270000.0<br>Median Sales Price YoY: 20.0%<br>New Listings YoY: 12.1%<br>Median Days on Market: 10.0<br>Avg Sales-to-Listing Price: 1.02"
         ],
         "type": "scatter",
         "x": [
          -0.3288794776488947,
          -0.4642868976635438,
          -0.2226217969594118,
          -0.5676605720475694,
          -0.1869428188979235,
          -0.3790160226071578,
          -0.4774302818635909,
          -0.5217060890617881,
          -0.2971480688722093,
          -0.5849328586536329,
          -0.2802456146749779,
          -0.3641650092698655,
          -0.3227494632975795,
          -0.4269775798287726,
          -0.3163986513273469,
          -0.1220438240865911,
          -0.3391957460905895,
          -0.4413828422594807,
          -0.4173450628880934,
          -0.2261821735765911,
          -0.223729201971114,
          -0.329768113538939,
          -0.3368544099079013,
          -0.2426761834813526,
          -0.2394082716548226
         ],
         "y": [
          0.0885938400124723,
          -0.1233278034831504,
          -0.3980620684424595,
          -0.1800136858106469,
          -0.4986161437781247,
          -0.3647568406232644,
          0.0831786252671205,
          0.0970863854337823,
          -0.2611889813849598,
          -0.2032956433127378,
          -0.043136628201961,
          -0.3503824154297297,
          -0.0855031563096626,
          0.0713634614661396,
          -0.1593838321607535,
          -0.3303231961474192,
          -0.313998527599875,
          -0.2775935703227881,
          -0.2642690373339629,
          -0.1107344479756338,
          -0.2025416004555059,
          -0.1869429014241837,
          -0.1877459511776126,
          -0.4244348581026385,
          -0.0801067277898869
         ]
        },
        {
         "marker": {
          "color": [
           "#0984BD",
           "#0984BD",
           "#0984BD",
           "#0984BD",
           "#0984BD",
           "#0984BD",
           "#0984BD",
           "#0984BD",
           "#0984BD",
           "#0984BD",
           "#0984BD",
           "#0984BD",
           "#0984BD",
           "#0984BD",
           "#0984BD",
           "#0984BD",
           "#0984BD",
           "#0984BD",
           "#0984BD",
           "#0984BD",
           "#0984BD",
           "#0984BD",
           "#0984BD",
           "#0984BD",
           "#0984BD",
           "#0984BD",
           "#0984BD",
           "#0984BD",
           "#0984BD",
           "#0984BD",
           "#0984BD",
           "#0984BD",
           "#0984BD",
           "#0984BD",
           "#0984BD",
           "#0984BD",
           "#0984BD",
           "#0984BD",
           "#0984BD"
          ],
          "line": {
           "width": 2
          },
          "size": [
           0.4136565684325135,
           0.68689666671535,
           0.6753131702178442,
           0.6282734348077949,
           0.5841768692130824,
           0.6943857164947755,
           0.5109282433365654,
           0.8057703553467137,
           0.512619745640504,
           0.8949151236153892,
           0.5490890629669359,
           0.5250592420528276,
           0.554503622916422,
           0.5755032665410044,
           0.7680863267016133,
           0.5992928628185679,
           0.6628047115133495,
           0.6751420747529696,
           0.64560038203943,
           0.7244679503750342,
           0.5141817864797943,
           0.5980571578732796,
           0.7807145119373129,
           0.5267297874792658,
           0.6411938091645696,
           0.7086439114992733,
           0.6368181459101594,
           0.5940399690328553,
           0.48890322103954126,
           0.6406889784857022,
           0.6411938091645696,
           0.5519404715158739,
           0.7338302387367558,
           0.6104235404450782,
           0.5501442149008396,
           0.7099641108266221,
           0.8577204655636028,
           0.6340595271991566,
           0.6939331342176371
          ],
          "sizemode": "area",
          "sizeref": 0.006172839506172839
         },
         "mode": "markers",
         "name": "0",
         "text": [
          "Cluster Description:<br>Mid range, Steady appreciation, Inventory rising<br><br>Neighborhood: Norfolk, VA - Colonial Place<br>Metro: Virginia Beach, VA<br>Homes Sold: 25.0<br>Median Sales Price: $339900.0<br>Median Sales Price YoY: 3.0%<br>New Listings YoY: 0.0%<br>Median Days on Market: 15.0<br>Avg Sales-to-Listing Price: 1.02",
          "Cluster Description:<br>Mid range, Steady appreciation, Inventory rising<br><br>Neighborhood: Norfolk, VA - Snug Harbor<br>Metro: Virginia Beach, VA<br>Homes Sold: 23.0<br>Median Sales Price: $290000.0<br>Median Sales Price YoY: 16.2%<br>New Listings YoY: -34.5%<br>Median Days on Market: 15.5<br>Avg Sales-to-Listing Price: 1.02",
          "Cluster Description:<br>Mid range, Steady appreciation, Inventory rising<br><br>Neighborhood: Hampton, VA - Fox Hill<br>Metro: Virginia Beach, VA<br>Homes Sold: 86.0<br>Median Sales Price: $274000.0<br>Median Sales Price YoY: 15.7%<br>New Listings YoY: 0.0%<br>Median Days on Market: 17.5<br>Avg Sales-to-Listing Price: 1.02",
          "Cluster Description:<br>Mid range, Steady appreciation, Inventory rising<br><br>Neighborhood: Chesapeake, VA - Pleasant Grove<br>Metro: Virginia Beach, VA<br>Homes Sold: 317.0<br>Median Sales Price: $470000.0<br>Median Sales Price YoY: 13.4%<br>New Listings YoY: -5.9%<br>Median Days on Market: 16.0<br>Avg Sales-to-Listing Price: 1.02",
          "Cluster Description:<br>Mid range, Steady appreciation, Inventory rising<br><br>Neighborhood: Virginia Beach, VA - Great Neck<br>Metro: Virginia Beach, VA<br>Homes Sold: 104.0<br>Median Sales Price: $526250.0<br>Median Sales Price YoY: 11.3%<br>New Listings YoY: -6.8%<br>Median Days on Market: 13.0<br>Avg Sales-to-Listing Price: 1.01",
          "Cluster Description:<br>Mid range, Steady appreciation, Inventory rising<br><br>Neighborhood: Norfolk, VA - Larchmont-Edgewater<br>Metro: Virginia Beach, VA<br>Homes Sold: 41.0<br>Median Sales Price: $443000.0<br>Median Sales Price YoY: 16.6%<br>New Listings YoY: 34.3%<br>Median Days on Market: 15.5<br>Avg Sales-to-Listing Price: 1.02",
          "Cluster Description:<br>Mid range, Steady appreciation, Inventory rising<br><br>Neighborhood: Chesapeake, VA - Indian River<br>Metro: Virginia Beach, VA<br>Homes Sold: 116.0<br>Median Sales Price: $258500.0<br>Median Sales Price YoY: 7.7%<br>New Listings YoY: 28.7%<br>Median Days on Market: 16.5<br>Avg Sales-to-Listing Price: 1.02",
          "Cluster Description:<br>Mid range, Steady appreciation, Inventory rising<br><br>Neighborhood: Chester, VA - The Highlands<br>Metro: Richmond, VA<br>Homes Sold: 26.0<br>Median Sales Price: $547000.0<br>Median Sales Price YoY: 22.0%<br>New Listings YoY: 25.0%<br>Median Days on Market: 12.0<br>Avg Sales-to-Listing Price: 1.01",
          "Cluster Description:<br>Mid range, Steady appreciation, Inventory rising<br><br>Neighborhood: Virginia Beach, VA - Kempsville<br>Metro: Virginia Beach, VA<br>Homes Sold: 425.0<br>Median Sales Price: $345000.0<br>Median Sales Price YoY: 7.8%<br>New Listings YoY: 4.2%<br>Median Days on Market: 17.0<br>Avg Sales-to-Listing Price: 1.02",
          "Cluster Description:<br>Mid range, Steady appreciation, Inventory rising<br><br>Neighborhood: Virginia Beach, VA - Red Mill Farm<br>Metro: Virginia Beach, VA<br>Homes Sold: 20.0<br>Median Sales Price: $435675.0<br>Median Sales Price YoY: 26.3%<br>New Listings YoY: -4.8%<br>Median Days on Market: 20.0<br>Avg Sales-to-Listing Price: 1.03",
          "Cluster Description:<br>Mid range, Steady appreciation, Inventory rising<br><br>Neighborhood: Norfolk, VA - Ingleside<br>Metro: Virginia Beach, VA<br>Homes Sold: 20.0<br>Median Sales Price: $257500.0<br>Median Sales Price YoY: 9.6%<br>New Listings YoY: -5.9%<br>Median Days on Market: 22.0<br>Avg Sales-to-Listing Price: 1.02",
          "Cluster Description:<br>Mid range, Steady appreciation, Inventory rising<br><br>Neighborhood: Virginia Beach, VA - Landstown Meadows<br>Metro: Virginia Beach, VA<br>Homes Sold: 23.0<br>Median Sales Price: $355000.0<br>Median Sales Price YoY: 8.4%<br>New Listings YoY: -6.2%<br>Median Days on Market: 15.0<br>Avg Sales-to-Listing Price: 1.02",
          "Cluster Description:<br>Mid range, Steady appreciation, Inventory rising<br><br>Neighborhood: Virginia Beach, VA - Bayside<br>Metro: Virginia Beach, VA<br>Homes Sold: 226.0<br>Median Sales Price: $335000.0<br>Median Sales Price YoY: 9.8%<br>New Listings YoY: 4.5%<br>Median Days on Market: 17.0<br>Avg Sales-to-Listing Price: 1.02",
          "Cluster Description:<br>Mid range, Steady appreciation, Inventory rising<br><br>Neighborhood: Newport News, VA - North Newport News<br>Metro: Virginia Beach, VA<br>Homes Sold: 204.0<br>Median Sales Price: $248250.0<br>Median Sales Price YoY: 10.9%<br>New Listings YoY: 12.2%<br>Median Days on Market: 18.5<br>Avg Sales-to-Listing Price: 1.02",
          "Cluster Description:<br>Mid range, Steady appreciation, Inventory rising<br><br>Neighborhood: Garrisonville, VA - Park Ridge<br>Metro: Washington, DC<br>Homes Sold: 30.0<br>Median Sales Price: $465000.0<br>Median Sales Price YoY: 20.2%<br>New Listings YoY: 35.3%<br>Median Days on Market: 11.5<br>Avg Sales-to-Listing Price: 1.02",
          "Cluster Description:<br>Mid range, Steady appreciation, Inventory rising<br><br>Neighborhood: Virginia Beach, VA - Aragona Village<br>Metro: Virginia Beach, VA<br>Homes Sold: 45.0<br>Median Sales Price: $280000.0<br>Median Sales Price YoY: 12.0%<br>New Listings YoY: 0.0%<br>Median Days on Market: 18.0<br>Avg Sales-to-Listing Price: 1.01",
          "Cluster Description:<br>Mid range, Steady appreciation, Inventory rising<br><br>Neighborhood: Chesapeake, VA - Greenbrier<br>Metro: Virginia Beach, VA<br>Homes Sold: 122.0<br>Median Sales Price: $420000.0<br>Median Sales Price YoY: 15.1%<br>New Listings YoY: 10.7%<br>Median Days on Market: 21.0<br>Avg Sales-to-Listing Price: 1.02",
          "Cluster Description:<br>Mid range, Steady appreciation, Inventory rising<br><br>Neighborhood: Virginia Beach, VA - Ocean Lakes<br>Metro: Virginia Beach, VA<br>Homes Sold: 56.0<br>Median Sales Price: $365500.0<br>Median Sales Price YoY: 15.7%<br>New Listings YoY: 19.1%<br>Median Days on Market: 20.0<br>Avg Sales-to-Listing Price: 1.03",
          "Cluster Description:<br>Mid range, Steady appreciation, Inventory rising<br><br>Neighborhood: Chesapeake, VA - Washington<br>Metro: Virginia Beach, VA<br>Homes Sold: 319.0<br>Median Sales Price: $337000.0<br>Median Sales Price YoY: 14.2%<br>New Listings YoY: 16.4%<br>Median Days on Market: 19.0<br>Avg Sales-to-Listing Price: 1.02",
          "Cluster Description:<br>Mid range, Steady appreciation, Inventory rising<br><br>Neighborhood: Hampton, VA - Northampton<br>Metro: Virginia Beach, VA<br>Homes Sold: 92.0<br>Median Sales Price: $260000.0<br>Median Sales Price YoY: 18.0%<br>New Listings YoY: 30.9%<br>Median Days on Market: 17.0<br>Avg Sales-to-Listing Price: 1.01",
          "Cluster Description:<br>Mid range, Steady appreciation, Inventory rising<br><br>Neighborhood: Suffolk, VA - Nansemond<br>Metro: Virginia Beach, VA<br>Homes Sold: 84.0<br>Median Sales Price: $377500.0<br>Median Sales Price YoY: 7.9%<br>New Listings YoY: -3.1%<br>Median Days on Market: 22.0<br>Avg Sales-to-Listing Price: 1.02",
          "Cluster Description:<br>Mid range, Steady appreciation, Inventory rising<br><br>Neighborhood: Virginia Beach, VA - Green Run<br>Metro: Virginia Beach, VA<br>Homes Sold: 45.0<br>Median Sales Price: $300000.0<br>Median Sales Price YoY: 11.9%<br>New Listings YoY: 31.8%<br>Median Days on Market: 22.0<br>Avg Sales-to-Listing Price: 1.02",
          "Cluster Description:<br>Mid range, Steady appreciation, Inventory rising<br><br>Neighborhood: Norfolk, VA - North Chesapeake Boulevard<br>Metro: Virginia Beach, VA<br>Homes Sold: 39.0<br>Median Sales Price: $262000.0<br>Median Sales Price YoY: 20.8%<br>New Listings YoY: 15.6%<br>Median Days on Market: 15.0<br>Avg Sales-to-Listing Price: 1.02",
          "Cluster Description:<br>Mid range, Steady appreciation, Inventory rising<br><br>Neighborhood: Virginia Beach, VA - Princess Ann Plaza<br>Metro: Virginia Beach, VA<br>Homes Sold: 73.0<br>Median Sales Price: $281000.0<br>Median Sales Price YoY: 8.5%<br>New Listings YoY: 29.3%<br>Median Days on Market: 19.0<br>Avg Sales-to-Listing Price: 1.01",
          "Cluster Description:<br>Mid range, Steady appreciation, Inventory rising<br><br>Neighborhood: Norfolk, VA - Roosevelt Area<br>Metro: Virginia Beach, VA<br>Homes Sold: 26.0<br>Median Sales Price: $233750.0<br>Median Sales Price YoY: 14.0%<br>New Listings YoY: 36.4%<br>Median Days on Market: 15.0<br>Avg Sales-to-Listing Price: 1.03",
          "Cluster Description:<br>Mid range, Steady appreciation, Inventory rising<br><br>Neighborhood: Virginia Beach, VA - Courthouse Estates<br>Metro: Virginia Beach, VA<br>Homes Sold: 34.0<br>Median Sales Price: $455000.0<br>Median Sales Price YoY: 17.3%<br>New Listings YoY: 19.2%<br>Median Days on Market: 19.0<br>Avg Sales-to-Listing Price: 1.04",
          "Cluster Description:<br>Mid range, Steady appreciation, Inventory rising<br><br>Neighborhood: Chesapeake, VA - South Norfolk<br>Metro: Virginia Beach, VA<br>Homes Sold: 113.0<br>Median Sales Price: $227000.0<br>Median Sales Price YoY: 13.8%<br>New Listings YoY: 26.2%<br>Median Days on Market: 17.0<br>Avg Sales-to-Listing Price: 1.01",
          "Cluster Description:<br>Mid range, Steady appreciation, Inventory rising<br><br>Neighborhood: Chesapeake, VA - Deep Creek<br>Metro: Virginia Beach, VA<br>Homes Sold: 301.0<br>Median Sales Price: $391000.0<br>Median Sales Price YoY: 11.7%<br>New Listings YoY: -1.4%<br>Median Days on Market: 17.0<br>Avg Sales-to-Listing Price: 1.02",
          "Cluster Description:<br>Mid range, Steady appreciation, Inventory rising<br><br>Neighborhood: Norfolk, VA - Fairmont Park<br>Metro: Virginia Beach, VA<br>Homes Sold: 49.0<br>Median Sales Price: $208000.0<br>Median Sales Price YoY: 6.7%<br>New Listings YoY: 25.0%<br>Median Days on Market: 20.0<br>Avg Sales-to-Listing Price: 1.0",
          "Cluster Description:<br>Mid range, Steady appreciation, Inventory rising<br><br>Neighborhood: Chesapeake, VA - Norfolk Highlands<br>Metro: Virginia Beach, VA<br>Homes Sold: 43.0<br>Median Sales Price: $285000.0<br>Median Sales Price YoY: 14.0%<br>New Listings YoY: 15.2%<br>Median Days on Market: 14.0<br>Avg Sales-to-Listing Price: 1.02",
          "Cluster Description:<br>Mid range, Steady appreciation, Inventory rising<br><br>Neighborhood: Norfolk, VA - Roosevelt Gardens<br>Metro: Virginia Beach, VA<br>Homes Sold: 26.0<br>Median Sales Price: $233750.0<br>Median Sales Price YoY: 14.0%<br>New Listings YoY: 36.4%<br>Median Days on Market: 15.0<br>Avg Sales-to-Listing Price: 1.03",
          "Cluster Description:<br>Mid range, Steady appreciation, Inventory rising<br><br>Neighborhood: Virginia Beach, VA - Holland<br>Metro: Virginia Beach, VA<br>Homes Sold: 334.0<br>Median Sales Price: $305000.0<br>Median Sales Price YoY: 9.7%<br>New Listings YoY: 5.4%<br>Median Days on Market: 19.0<br>Avg Sales-to-Listing Price: 1.02",
          "Cluster Description:<br>Mid range, Steady appreciation, Inventory rising<br><br>Neighborhood: Hampton, VA - Willow Oaks<br>Metro: Virginia Beach, VA<br>Homes Sold: 73.0<br>Median Sales Price: $237000.0<br>Median Sales Price YoY: 18.5%<br>New Listings YoY: 27.3%<br>Median Days on Market: 18.0<br>Avg Sales-to-Listing Price: 1.0",
          "Cluster Description:<br>Mid range, Steady appreciation, Inventory rising<br><br>Neighborhood: Chesapeake, VA - Western Branch<br>Metro: Virginia Beach, VA<br>Homes Sold: 164.0<br>Median Sales Price: $372500.0<br>Median Sales Price YoY: 12.5%<br>New Listings YoY: 16.9%<br>Median Days on Market: 18.0<br>Avg Sales-to-Listing Price: 1.01",
          "Cluster Description:<br>Mid range, Steady appreciation, Inventory rising<br><br>Neighborhood: Suffolk, VA - Cypress<br>Metro: Virginia Beach, VA<br>Homes Sold: 63.0<br>Median Sales Price: $330000.0<br>Median Sales Price YoY: 9.6%<br>New Listings YoY: 11.6%<br>Median Days on Market: 21.0<br>Avg Sales-to-Listing Price: 1.03",
          "Cluster Description:<br>Mid range, Steady appreciation, Inventory rising<br><br>Neighborhood: Richmond, VA - North Highland Park<br>Metro: Richmond, VA<br>Homes Sold: 20.0<br>Median Sales Price: $287500.0<br>Median Sales Price YoY: 17.3%<br>New Listings YoY: 14.3%<br>Median Days on Market: 17.5<br>Avg Sales-to-Listing Price: 1.0",
          "Cluster Description:<br>Mid range, Steady appreciation, Inventory rising<br><br>Neighborhood: Norfolk, VA - Bayview<br>Metro: Virginia Beach, VA<br>Homes Sold: 54.0<br>Median Sales Price: $302500.0<br>Median Sales Price YoY: 24.5%<br>New Listings YoY: 8.3%<br>Median Days on Market: 14.0<br>Avg Sales-to-Listing Price: 1.02",
          "Cluster Description:<br>Mid range, Steady appreciation, Inventory rising<br><br>Neighborhood: Chesapeake, VA - Great Bridge<br>Metro: Virginia Beach, VA<br>Homes Sold: 148.0<br>Median Sales Price: $464950.0<br>Median Sales Price YoY: 13.7%<br>New Listings YoY: -3.4%<br>Median Days on Market: 19.0<br>Avg Sales-to-Listing Price: 1.02",
          "Cluster Description:<br>Mid range, Steady appreciation, Inventory rising<br><br>Neighborhood: Norfolk, VA - South Bayview<br>Metro: Virginia Beach, VA<br>Homes Sold: 21.0<br>Median Sales Price: $268000.0<br>Median Sales Price YoY: 16.6%<br>New Listings YoY: 0.0%<br>Median Days on Market: 15.0<br>Avg Sales-to-Listing Price: 1.03"
         ],
         "type": "scatter",
         "x": [
          -0.0765558521814556,
          -0.0127458177527187,
          -0.0299765698735948,
          0.0142737397314876,
          -0.0108586532792214,
          -0.0726303832948459,
          0.0078152937107685,
          -0.163435466539941,
          0.0304892447642589,
          0.0388810170865148,
          0.1475180440942229,
          -0.0647026142103252,
          0.0355730789995887,
          0.0374675506739963,
          -0.2313833686294313,
          0.0792859295142185,
          0.1527889552406379,
          0.0331669650176857,
          0.0701289498140577,
          -0.0266301649970244,
          0.1844789507188408,
          0.1076141637349174,
          -0.0796833221896616,
          0.0595998289261266,
          -0.1672658709142756,
          -0.0971131556948313,
          0.0022159792854764,
          0.0015435595734394,
          0.1706978330429491,
          -0.0933939679724358,
          -0.1672658709142756,
          0.0861575084632136,
          0.0276136607160422,
          0.0623044325099364,
          0.1058674502019847,
          0.0820170088278617,
          -0.1319215714885137,
          0.0850867647241361,
          -0.122086146010315
         ],
         "y": [
          -0.0818946933163295,
          -0.3126677042217964,
          0.0003460131330014,
          -0.1822432808038639,
          -0.2526002746078862,
          0.0675592001824024,
          -0.0022579354026038,
          -0.0119105577489202,
          -0.1441670980312137,
          -0.0811540265234738,
          -0.049044660269961,
          -0.107122195105024,
          -0.0814534932452931,
          0.0155085172292163,
          0.0831267503231367,
          -0.0927404289275141,
          -0.0255886587779451,
          0.0396676825293762,
          -0.0086447062714344,
          0.1383104002661874,
          -0.0395002786095246,
          0.1236410726921693,
          -0.0193321267946458,
          0.1073335980318394,
          0.0882837564303823,
          0.0620656040267465,
          0.1256271076099125,
          -0.1450625715935713,
          0.0709480554982197,
          -0.1201633434814874,
          0.0882837564303823,
          -0.0968001358407257,
          0.155297706277298,
          -0.0141421752714434,
          -0.0721732102753284,
          0.0193901735996057,
          -0.0681794689272042,
          -0.1447368011708998,
          -0.0850326923504939
         ]
        },
        {
         "marker": {
          "color": [
           "#E18A06",
           "#E18A06",
           "#E18A06",
           "#E18A06",
           "#E18A06",
           "#E18A06",
           "#E18A06",
           "#E18A06",
           "#E18A06",
           "#E18A06",
           "#E18A06",
           "#E18A06",
           "#E18A06",
           "#E18A06",
           "#E18A06",
           "#E18A06",
           "#E18A06",
           "#E18A06",
           "#E18A06",
           "#E18A06",
           "#E18A06",
           "#E18A06",
           "#E18A06"
          ],
          "line": {
           "width": 2
          },
          "size": [
           0.4025867884674871,
           0.44474736432793066,
           0.1738647691725549,
           0.4173533242109434,
           0.3834262072978017,
           0.1950655351944454,
           0.5042351157310729,
           0.4199096949276502,
           0.362420871252423,
           0.3554752123914339,
           0.3985698368511813,
           0.3668377517646565,
           0.24292630185801575,
           0,
           0.39732437023631334,
           0.09158641697106196,
           0.5658218400094045,
           0.3890654172328798,
           0.5087827116141541,
           0.46390804780793815,
           0.5383654915976988,
           0.4634383377655159,
           0.5158518677667898
          ],
          "sizemode": "area",
          "sizeref": 0.006172839506172839
         },
         "mode": "markers",
         "name": "3",
         "text": [
          "Cluster Description:<br>Pricey, Value holding steady.<br><br>Neighborhood: Hampton, VA - Wythe<br>Metro: Virginia Beach, VA<br>Homes Sold: 90.0<br>Median Sales Price: $213500.0<br>Median Sales Price YoY: 2.5%<br>New Listings YoY: 11.2%<br>Median Days on Market: 24.0<br>Avg Sales-to-Listing Price: 1.01",
          "Cluster Description:<br>Pricey, Value holding steady.<br><br>Neighborhood: Poquoson, VA - Central Poquoson<br>Metro: Virginia Beach, VA<br>Homes Sold: 28.0<br>Median Sales Price: $392000.0<br>Median Sales Price YoY: 4.5%<br>New Listings YoY: -20.0%<br>Median Days on Market: 23.0<br>Avg Sales-to-Listing Price: 1.01",
          "Cluster Description:<br>Pricey, Value holding steady.<br><br>Neighborhood: Norfolk, VA - East Ocean View<br>Metro: Virginia Beach, VA<br>Homes Sold: 25.0<br>Median Sales Price: $480000.0<br>Median Sales Price YoY: -8.6%<br>New Listings YoY: 20.7%<br>Median Days on Market: 14.0<br>Avg Sales-to-Listing Price: 1.01",
          "Cluster Description:<br>Pricey, Value holding steady.<br><br>Neighborhood: Chesapeake, VA - Butts Road<br>Metro: Virginia Beach, VA<br>Homes Sold: 31.0<br>Median Sales Price: $500000.0<br>Median Sales Price YoY: 3.2%<br>New Listings YoY: -25.0%<br>Median Days on Market: 19.0<br>Avg Sales-to-Listing Price: 1.01",
          "Cluster Description:<br>Pricey, Value holding steady.<br><br>Neighborhood: Hampton, VA - Briarfield<br>Metro: Virginia Beach, VA<br>Homes Sold: 61.0<br>Median Sales Price: $194000.0<br>Median Sales Price YoY: 1.6%<br>New Listings YoY: -1.8%<br>Median Days on Market: 21.0<br>Avg Sales-to-Listing Price: 1.01",
          "Cluster Description:<br>Pricey, Value holding steady.<br><br>Neighborhood: Arlington, VA - North Arlington<br>Metro: Washington, DC<br>Homes Sold: 243.0<br>Median Sales Price: $1050000.0<br>Median Sales Price YoY: -7.5%<br>New Listings YoY: -12.9%<br>Median Days on Market: 23.5<br>Avg Sales-to-Listing Price: 1.0",
          "Cluster Description:<br>Pricey, Value holding steady.<br><br>Neighborhood: Virginia Beach, VA - Little Neck<br>Metro: Virginia Beach, VA<br>Homes Sold: 102.0<br>Median Sales Price: $420500.0<br>Median Sales Price YoY: 7.4%<br>New Listings YoY: -2.9%<br>Median Days on Market: 19.0<br>Avg Sales-to-Listing Price: 1.02",
          "Cluster Description:<br>Pricey, Value holding steady.<br><br>Neighborhood: Suffolk, VA - Chuckatuck<br>Metro: Virginia Beach, VA<br>Homes Sold: 123.0<br>Median Sales Price: $341000.0<br>Median Sales Price YoY: 3.3%<br>New Listings YoY: -8.9%<br>Median Days on Market: 26.0<br>Avg Sales-to-Listing Price: 1.02",
          "Cluster Description:<br>Pricey, Value holding steady.<br><br>Neighborhood: Portsmouth, VA - Cavalier Manor<br>Metro: Virginia Beach, VA<br>Homes Sold: 25.0<br>Median Sales Price: $181000.0<br>Median Sales Price YoY: 0.6%<br>New Listings YoY: 25.8%<br>Median Days on Market: 23.0<br>Avg Sales-to-Listing Price: 1.01",
          "Cluster Description:<br>Pricey, Value holding steady.<br><br>Neighborhood: Norfolk, VA - Oakdale Farms-Denby Park<br>Metro: Virginia Beach, VA<br>Homes Sold: 22.0<br>Median Sales Price: $227500.0<br>Median Sales Price YoY: 0.2%<br>New Listings YoY: 26.1%<br>Median Days on Market: 14.0<br>Avg Sales-to-Listing Price: 1.01",
          "Cluster Description:<br>Pricey, Value holding steady.<br><br>Neighborhood: Poquoson, VA - Western Poquoson<br>Metro: Virginia Beach, VA<br>Homes Sold: 25.0<br>Median Sales Price: $439900.0<br>Median Sales Price YoY: 2.3%<br>New Listings YoY: -8.7%<br>Median Days on Market: 17.0<br>Avg Sales-to-Listing Price: 0.99",
          "Cluster Description:<br>Pricey, Value holding steady.<br><br>Neighborhood: Hampton, VA - Downtown Hampton<br>Metro: Virginia Beach, VA<br>Homes Sold: 48.0<br>Median Sales Price: $196500.0<br>Median Sales Price YoY: 0.8%<br>New Listings YoY: -16.7%<br>Median Days on Market: 16.0<br>Avg Sales-to-Listing Price: 1.0",
          "Cluster Description:<br>Pricey, Value holding steady.<br><br>Neighborhood: Virginia Beach, VA - Pungo-Blackwater<br>Metro: Virginia Beach, VA<br>Homes Sold: 23.0<br>Median Sales Price: $545000.0<br>Median Sales Price YoY: -5.2%<br>New Listings YoY: -18.2%<br>Median Days on Market: 35.5<br>Avg Sales-to-Listing Price: 0.99",
          "Cluster Description:<br>Pricey, Value holding steady.<br><br>Neighborhood: Virginia Beach, VA - Salem<br>Metro: Virginia Beach, VA<br>Homes Sold: 21.0<br>Median Sales Price: $301000.0<br>Median Sales Price YoY: -17.0%<br>New Listings YoY: -38.5%<br>Median Days on Market: 25.0<br>Avg Sales-to-Listing Price: 1.01",
          "Cluster Description:<br>Pricey, Value holding steady.<br><br>Neighborhood: Newport News, VA - Central Newport News<br>Metro: Virginia Beach, VA<br>Homes Sold: 297.0<br>Median Sales Price: $285000.0<br>Median Sales Price YoY: 2.2%<br>New Listings YoY: 3.8%<br>Median Days on Market: 19.0<br>Avg Sales-to-Listing Price: 1.02",
          "Cluster Description:<br>Pricey, Value holding steady.<br><br>Neighborhood: Virginia Beach, VA - Bayfront<br>Metro: Virginia Beach, VA<br>Homes Sold: 40.0<br>Median Sales Price: $562000.0<br>Median Sales Price YoY: -12.5%<br>New Listings YoY: -21.3%<br>Median Days on Market: 18.5<br>Avg Sales-to-Listing Price: 1.01",
          "Cluster Description:<br>Pricey, Value holding steady.<br><br>Neighborhood: Hampton, VA - Farmington<br>Metro: Virginia Beach, VA<br>Homes Sold: 22.0<br>Median Sales Price: $320000.0<br>Median Sales Price YoY: 10.4%<br>New Listings YoY: 0.0%<br>Median Days on Market: 22.0<br>Avg Sales-to-Listing Price: 1.0",
          "Cluster Description:<br>Pricey, Value holding steady.<br><br>Neighborhood: Virginia Beach, VA - Oceanfront<br>Metro: Virginia Beach, VA<br>Homes Sold: 67.0<br>Median Sales Price: $731030.0<br>Median Sales Price YoY: 1.8%<br>New Listings YoY: -20.8%<br>Median Days on Market: 21.0<br>Avg Sales-to-Listing Price: 0.99",
          "Cluster Description:<br>Pricey, Value holding steady.<br><br>Neighborhood: Newport News, VA - Kiln Creek<br>Metro: Virginia Beach, VA<br>Homes Sold: 22.0<br>Median Sales Price: $317500.0<br>Median Sales Price YoY: 7.6%<br>New Listings YoY: 5.3%<br>Median Days on Market: 28.0<br>Avg Sales-to-Listing Price: 1.01",
          "Cluster Description:<br>Pricey, Value holding steady.<br><br>Neighborhood: Alexandria, VA - North Ridge-Rosemont<br>Metro: Washington, DC<br>Homes Sold: 40.0<br>Median Sales Price: $1062500.0<br>Median Sales Price YoY: 5.5%<br>New Listings YoY: -33.3%<br>Median Days on Market: 24.0<br>Avg Sales-to-Listing Price: 1.02",
          "Cluster Description:<br>Pricey, Value holding steady.<br><br>Neighborhood: Arlington, VA - South Arlington<br>Metro: Washington, DC<br>Homes Sold: 73.0<br>Median Sales Price: $889900.0<br>Median Sales Price YoY: 9.1%<br>New Listings YoY: 9.1%<br>Median Days on Market: 22.0<br>Avg Sales-to-Listing Price: 1.01",
          "Cluster Description:<br>Pricey, Value holding steady.<br><br>Neighborhood: Norfolk, VA - Layfayette<br>Metro: Virginia Beach, VA<br>Homes Sold: 20.0<br>Median Sales Price: $289950.0<br>Median Sales Price YoY: 5.4%<br>New Listings YoY: -5.6%<br>Median Days on Market: 23.5<br>Avg Sales-to-Listing Price: 1.0",
          "Cluster Description:<br>Pricey, Value holding steady.<br><br>Neighborhood: Virginia Beach, VA - Courthouse-Sandbridge<br>Metro: Virginia Beach, VA<br>Homes Sold: 382.0<br>Median Sales Price: $447800.0<br>Median Sales Price YoY: 8.0%<br>New Listings YoY: 0.0%<br>Median Days on Market: 20.0<br>Avg Sales-to-Listing Price: 1.02"
         ],
         "type": "scatter",
         "x": [
          0.348111115606234,
          0.3128662971332677,
          0.0782926969279084,
          0.2389829827636559,
          0.2134503383269799,
          0.4500437753142754,
          0.1666193886263858,
          0.3549514112045578,
          0.3102492030120462,
          0.0466814864263817,
          0.2593020522306447,
          0.1708603439197317,
          0.7305123325977395,
          0.5633259826319656,
          0.1577992962593909,
          0.3251999937782068,
          0.3044295352834207,
          0.3846881398953011,
          0.4817152482164448,
          0.3551007314668792,
          0.2346543047954268,
          0.3568335998063524,
          0.1705604104281084
         ],
         "y": [
          -0.0340458250249081,
          -0.1395455507759745,
          -0.2167833551586984,
          -0.2760115217513475,
          -0.0302184067486313,
          -0.2316968969421234,
          -0.1790180433483801,
          -0.1285073819330249,
          -0.0345278880222665,
          -0.0849325933902518,
          -0.1933909410142616,
          -0.2731420752555715,
          -0.1618289216639057,
          -0.4766105913879356,
          -0.1357947812895241,
          -0.3909698551630262,
          -0.0612311549156459,
          -0.2200624842890185,
          -0.0799425398658395,
          -0.3018090834334401,
          -0.0048021006328142,
          -0.0683933166038535,
          -0.1314528113225761
         ]
        },
        {
         "marker": {
          "color": [
           "#08E9E7",
           "#08E9E7",
           "#08E9E7",
           "#08E9E7",
           "#08E9E7",
           "#08E9E7",
           "#08E9E7",
           "#08E9E7",
           "#08E9E7",
           "#08E9E7",
           "#08E9E7",
           "#08E9E7",
           "#08E9E7",
           "#08E9E7",
           "#08E9E7",
           "#08E9E7",
           "#08E9E7",
           "#08E9E7",
           "#08E9E7",
           "#08E9E7"
          ],
          "line": {
           "width": 2
          },
          "size": [
           0.7872114907780325,
           0.665699131701263,
           0.22668570979434693,
           0.9062299155700064,
           0.4180450050327338,
           0.5964047617255117,
           0.6938257088762374,
           0.6546668876720079,
           0.6302948884851007,
           0.6145499677798962,
           0.5454280376131391,
           0.7965400768472384,
           0.6658866141091757,
           0.9672266688514148,
           0.34694341299357684,
           0.6548319892126696,
           0.764877325487107,
           0.6661845993932751,
           0.8510034721771191,
           0.7153610232753003
          ],
          "sizemode": "area",
          "sizeref": 0.006172839506172839
         },
         "mode": "markers",
         "name": "2",
         "text": [
          "Cluster Description:<br>Increased inventory, Affordable but prices increasing<br><br>Neighborhood: Norfolk, VA - Estabrook<br>Metro: Virginia Beach, VA<br>Homes Sold: 24.0<br>Median Sales Price: $241250.0<br>Median Sales Price YoY: 21.1%<br>New Listings YoY: 72.2%<br>Median Days on Market: 21.0<br>Avg Sales-to-Listing Price: 1.02",
          "Cluster Description:<br>Increased inventory, Affordable but prices increasing<br><br>Neighborhood: Newport News, VA - Windsor Great Park<br>Metro: Virginia Beach, VA<br>Homes Sold: 30.0<br>Median Sales Price: $276500.0<br>Median Sales Price YoY: 15.2%<br>New Listings YoY: 75.0%<br>Median Days on Market: 19.0<br>Avg Sales-to-Listing Price: 1.0",
          "Cluster Description:<br>Increased inventory, Affordable but prices increasing<br><br>Neighborhood: Hampton, VA - Phoebus<br>Metro: Virginia Beach, VA<br>Homes Sold: 51.0<br>Median Sales Price: $231000.0<br>Median Sales Price YoY: -6.0%<br>New Listings YoY: 80.0%<br>Median Days on Market: 16.0<br>Avg Sales-to-Listing Price: 1.01",
          "Cluster Description:<br>Increased inventory, Affordable but prices increasing<br><br>Neighborhood: Norfolk, VA - Park Place<br>Metro: Virginia Beach, VA<br>Homes Sold: 39.0<br>Median Sales Price: $260000.0<br>Median Sales Price YoY: 26.8%<br>New Listings YoY: 94.7%<br>Median Days on Market: 16.0<br>Avg Sales-to-Listing Price: 1.02",
          "Cluster Description:<br>Increased inventory, Affordable but prices increasing<br><br>Neighborhood: Chesapeake, VA - Plymouth Park<br>Metro: Virginia Beach, VA<br>Homes Sold: 25.0<br>Median Sales Price: $191000.0<br>Median Sales Price YoY: 3.2%<br>New Listings YoY: 190.9%<br>Median Days on Market: 23.0<br>Avg Sales-to-Listing Price: 1.0",
          "Cluster Description:<br>Increased inventory, Affordable but prices increasing<br><br>Neighborhood: Newport News, VA - Ivy Farms<br>Metro: Virginia Beach, VA<br>Homes Sold: 25.0<br>Median Sales Price: $240500.0<br>Median Sales Price YoY: 11.9%<br>New Listings YoY: 76.5%<br>Median Days on Market: 19.0<br>Avg Sales-to-Listing Price: 1.03",
          "Cluster Description:<br>Increased inventory, Affordable but prices increasing<br><br>Neighborhood: Virginia Beach, VA - Lago Mar<br>Metro: Virginia Beach, VA<br>Homes Sold: 25.0<br>Median Sales Price: $635000.0<br>Median Sales Price YoY: 16.6%<br>New Listings YoY: 83.3%<br>Median Days on Market: 12.0<br>Avg Sales-to-Listing Price: 1.01",
          "Cluster Description:<br>Increased inventory, Affordable but prices increasing<br><br>Neighborhood: Hampton, VA - Hampton Roads Center<br>Metro: Virginia Beach, VA<br>Homes Sold: 67.0<br>Median Sales Price: $264900.0<br>Median Sales Price YoY: 14.7%<br>New Listings YoY: 102.9%<br>Median Days on Market: 15.5<br>Avg Sales-to-Listing Price: 1.02",
          "Cluster Description:<br>Increased inventory, Affordable but prices increasing<br><br>Neighborhood: Ashburn, VA - Ashburn Village<br>Metro: Washington, DC<br>Homes Sold: 37.0<br>Median Sales Price: $782000.0<br>Median Sales Price YoY: 13.5%<br>New Listings YoY: 71.4%<br>Median Days on Market: 15.0<br>Avg Sales-to-Listing Price: 1.02",
          "Cluster Description:<br>Increased inventory, Affordable but prices increasing<br><br>Neighborhood: Newport News, VA - South Newport News<br>Metro: Virginia Beach, VA<br>Homes Sold: 201.0<br>Median Sales Price: $208000.0<br>Median Sales Price YoY: 12.7%<br>New Listings YoY: 43.9%<br>Median Days on Market: 22.0<br>Avg Sales-to-Listing Price: 1.01",
          "Cluster Description:<br>Increased inventory, Affordable but prices increasing<br><br>Neighborhood: Portsmouth, VA - Port Norfolk<br>Metro: Virginia Beach, VA<br>Homes Sold: 32.0<br>Median Sales Price: $227000.0<br>Median Sales Price YoY: 9.4%<br>New Listings YoY: 105.6%<br>Median Days on Market: 20.5<br>Avg Sales-to-Listing Price: 1.01",
          "Cluster Description:<br>Increased inventory, Affordable but prices increasing<br><br>Neighborhood: Hampton, VA - Buckroe Beach<br>Metro: Virginia Beach, VA<br>Homes Sold: 100.0<br>Median Sales Price: $214500.0<br>Median Sales Price YoY: 21.5%<br>New Listings YoY: 43.0%<br>Median Days on Market: 21.0<br>Avg Sales-to-Listing Price: 1.02",
          "Cluster Description:<br>Increased inventory, Affordable but prices increasing<br><br>Neighborhood: Norfolk, VA - Northside<br>Metro: Virginia Beach, VA<br>Homes Sold: 67.0<br>Median Sales Price: $265000.0<br>Median Sales Price YoY: 15.2%<br>New Listings YoY: 56.5%<br>Median Days on Market: 20.0<br>Avg Sales-to-Listing Price: 1.02",
          "Cluster Description:<br>Increased inventory, Affordable but prices increasing<br><br>Neighborhood: Fredericksburg, VA - Lafayette Boulevard-South Route 1<br>Metro: Washington, DC<br>Homes Sold: 21.0<br>Median Sales Price: $377000.0<br>Median Sales Price YoY: 29.8%<br>New Listings YoY: 53.8%<br>Median Days on Market: 18.0<br>Avg Sales-to-Listing Price: 1.0",
          "Cluster Description:<br>Increased inventory, Affordable but prices increasing<br><br>Neighborhood: Colonial Heights, VA - Fort Clifton<br>Metro: Richmond, VA<br>Homes Sold: 30.0<br>Median Sales Price: $260000.0<br>Median Sales Price YoY: -0.2%<br>New Listings YoY: 41.2%<br>Median Days on Market: 11.0<br>Avg Sales-to-Listing Price: 1.02",
          "Cluster Description:<br>Increased inventory, Affordable but prices increasing<br><br>Neighborhood: Norfolk, VA - Ballentine Place<br>Metro: Virginia Beach, VA<br>Homes Sold: 24.0<br>Median Sales Price: $239000.0<br>Median Sales Price YoY: 14.7%<br>New Listings YoY: 100.0%<br>Median Days on Market: 14.5<br>Avg Sales-to-Listing Price: 1.03",
          "Cluster Description:<br>Increased inventory, Affordable but prices increasing<br><br>Neighborhood: Suffolk, VA - Sleepy Hole<br>Metro: Virginia Beach, VA<br>Homes Sold: 110.0<br>Median Sales Price: $420000.0<br>Median Sales Price YoY: 20.0%<br>New Listings YoY: 56.0%<br>Median Days on Market: 23.5<br>Avg Sales-to-Listing Price: 1.02",
          "Cluster Description:<br>Increased inventory, Affordable but prices increasing<br><br>Neighborhood: Dale City, VA - Kirkdale<br>Metro: Washington, DC<br>Homes Sold: 23.0<br>Median Sales Price: $435000.0<br>Median Sales Price YoY: 15.2%<br>New Listings YoY: 66.7%<br>Median Days on Market: 29.5<br>Avg Sales-to-Listing Price: 1.0",
          "Cluster Description:<br>Increased inventory, Affordable but prices increasing<br><br>Neighborhood: Virginia Beach, VA - Sandbridge<br>Metro: Virginia Beach, VA<br>Homes Sold: 25.0<br>Median Sales Price: $925000.0<br>Median Sales Price YoY: 24.2%<br>New Listings YoY: 76.9%<br>Median Days on Market: 23.0<br>Avg Sales-to-Listing Price: 0.99",
          "Cluster Description:<br>Increased inventory, Affordable but prices increasing<br><br>Neighborhood: Norfolk, VA - Willow Terrace<br>Metro: Virginia Beach, VA<br>Homes Sold: 21.0<br>Median Sales Price: $289900.0<br>Median Sales Price YoY: 17.6%<br>New Listings YoY: 94.4%<br>Median Days on Market: 13.0<br>Avg Sales-to-Listing Price: 1.01"
         ],
         "type": "scatter",
         "x": [
          0.0464931500331915,
          0.0571250427513593,
          0.0718502481613134,
          -0.3396788377341683,
          0.1683403710804771,
          -0.1585080759874327,
          -0.2789061037636431,
          -0.2866429846693307,
          -0.2603654997444224,
          0.110247549050209,
          0.0091507300813315,
          0.0157897448004765,
          -0.0444984695206098,
          -0.0161232317888013,
          -0.3250766917980419,
          -0.3312260909263954,
          0.0670424841705822,
          0.2535905603008898,
          0.2487920647367122,
          -0.204814216386465
         ],
         "y": [
          0.3462664521540355,
          0.3954984400186475,
          0.1971722404252951,
          0.6323843435269041,
          0.6080013699034236,
          0.4570634576389566,
          0.3870037311449791,
          0.5732876895167928,
          0.3875143075606561,
          0.2822638161946091,
          0.5676224015129382,
          0.284853685933392,
          0.3574121004988398,
          0.3563433311781094,
          0.2147628471656567,
          0.5002494628958191,
          0.3655177267730484,
          0.6557332560088258,
          0.456269614278102,
          0.3696536956761504
         ]
        },
        {
         "marker": {
          "color": [
           "#E12906",
           "#E12906",
           "#E12906",
           "#E12906",
           "#E12906",
           "#E12906",
           "#E12906",
           "#E12906",
           "#E12906"
          ],
          "line": {
           "width": 2
          },
          "size": [
           1,
           0.802510157911775,
           0.6628047115133495,
           0.5808945891887299,
           0.6175109690223066,
           0.7152019866865449,
           0.8642280030882306,
           0.9793720502310066,
           0.7826185179158791
          ],
          "sizemode": "area",
          "sizeref": 0.006172839506172839
         },
         "mode": "markers",
         "name": "1",
         "text": [
          "Cluster Description:<br>Rising prices, Affordable price, Longest Days on Market<br><br>Neighborhood: Poquoson, VA - Eastern Poquoson<br>Metro: Virginia Beach, VA<br>Homes Sold: 20.0<br>Median Sales Price: $299500.0<br>Median Sales Price YoY: 31.4%<br>New Listings YoY: 14.3%<br>Median Days on Market: 31.0<br>Avg Sales-to-Listing Price: 1.0",
          "Cluster Description:<br>Rising prices, Affordable price, Longest Days on Market<br><br>Neighborhood: Norfolk, VA - Wards Corner<br>Metro: Virginia Beach, VA<br>Homes Sold: 22.0<br>Median Sales Price: $268000.0<br>Median Sales Price YoY: 21.8%<br>New Listings YoY: -10.3%<br>Median Days on Market: 28.0<br>Avg Sales-to-Listing Price: 1.0",
          "Cluster Description:<br>Rising prices, Affordable price, Longest Days on Market<br><br>Neighborhood: Alexandria, VA - Seminary Hill<br>Metro: Washington, DC<br>Homes Sold: 21.0<br>Median Sales Price: $840000.0<br>Median Sales Price YoY: 15.1%<br>New Listings YoY: -7.7%<br>Median Days on Market: 26.5<br>Avg Sales-to-Listing Price: 1.0",
          "Cluster Description:<br>Rising prices, Affordable price, Longest Days on Market<br><br>Neighborhood: Suffolk, VA - Whaleyville<br>Metro: Virginia Beach, VA<br>Homes Sold: 49.0<br>Median Sales Price: $250000.0<br>Median Sales Price YoY: 11.1%<br>New Listings YoY: 36.4%<br>Median Days on Market: 30.5<br>Avg Sales-to-Listing Price: 1.0",
          "Cluster Description:<br>Rising prices, Affordable price, Longest Days on Market<br><br>Neighborhood: Norfolk, VA - Norview<br>Metro: Virginia Beach, VA<br>Homes Sold: 36.0<br>Median Sales Price: $244950.0<br>Median Sales Price YoY: 12.9%<br>New Listings YoY: 29.2%<br>Median Days on Market: 20.0<br>Avg Sales-to-Listing Price: 0.98",
          "Cluster Description:<br>Rising prices, Affordable price, Longest Days on Market<br><br>Neighborhood: Portsmouth, VA - Westhaven<br>Metro: Virginia Beach, VA<br>Homes Sold: 28.0<br>Median Sales Price: $220500.0<br>Median Sales Price YoY: 17.6%<br>New Listings YoY: 9.5%<br>Median Days on Market: 20.0<br>Avg Sales-to-Listing Price: 1.02",
          "Cluster Description:<br>Rising prices, Affordable price, Longest Days on Market<br><br>Neighborhood: Gainesville, VA - Piedmont<br>Metro: Washington, DC<br>Homes Sold: 27.0<br>Median Sales Price: $780000.0<br>Median Sales Price YoY: 24.8%<br>New Listings YoY: -11.5%<br>Median Days on Market: 26.0<br>Avg Sales-to-Listing Price: 1.02",
          "Cluster Description:<br>Rising prices, Affordable price, Longest Days on Market<br><br>Neighborhood: Suffolk, VA - Holy Neck<br>Metro: Virginia Beach, VA<br>Homes Sold: 97.0<br>Median Sales Price: $395000.0<br>Median Sales Price YoY: 30.4%<br>New Listings YoY: -28.6%<br>Median Days on Market: 25.0<br>Avg Sales-to-Listing Price: 1.01",
          "Cluster Description:<br>Rising prices, Affordable price, Longest Days on Market<br><br>Neighborhood: Portsmouth, VA - Prentis Park<br>Metro: Virginia Beach, VA<br>Homes Sold: 28.0<br>Median Sales Price: $211500.0<br>Median Sales Price YoY: 20.9%<br>New Listings YoY: 0.0%<br>Median Days on Market: 35.0<br>Avg Sales-to-Listing Price: 1.02"
         ],
         "type": "scatter",
         "x": [
          0.4499128697434645,
          0.4549398148954416,
          0.3570478695339926,
          0.5291708532626033,
          0.2326714944475097,
          -0.0875635446529827,
          0.2703805657484633,
          0.1782307107876338,
          0.3822068754355835
         ],
         "y": [
          0.2650186830981212,
          0.0005381869940418,
          0.0896684752704488,
          0.2480433026326119,
          0.251383212667673,
          0.2507132589452284,
          -0.047167242353777,
          0.0455427535504814,
          0.1154623475191592
         ]
        }
       ],
       "layout": {
        "showlegend": false,
        "template": {
         "data": {
          "bar": [
           {
            "error_x": {
             "color": "#2a3f5f"
            },
            "error_y": {
             "color": "#2a3f5f"
            },
            "marker": {
             "line": {
              "color": "#E5ECF6",
              "width": 0.5
             },
             "pattern": {
              "fillmode": "overlay",
              "size": 10,
              "solidity": 0.2
             }
            },
            "type": "bar"
           }
          ],
          "barpolar": [
           {
            "marker": {
             "line": {
              "color": "#E5ECF6",
              "width": 0.5
             },
             "pattern": {
              "fillmode": "overlay",
              "size": 10,
              "solidity": 0.2
             }
            },
            "type": "barpolar"
           }
          ],
          "carpet": [
           {
            "aaxis": {
             "endlinecolor": "#2a3f5f",
             "gridcolor": "white",
             "linecolor": "white",
             "minorgridcolor": "white",
             "startlinecolor": "#2a3f5f"
            },
            "baxis": {
             "endlinecolor": "#2a3f5f",
             "gridcolor": "white",
             "linecolor": "white",
             "minorgridcolor": "white",
             "startlinecolor": "#2a3f5f"
            },
            "type": "carpet"
           }
          ],
          "choropleth": [
           {
            "colorbar": {
             "outlinewidth": 0,
             "ticks": ""
            },
            "type": "choropleth"
           }
          ],
          "contour": [
           {
            "colorbar": {
             "outlinewidth": 0,
             "ticks": ""
            },
            "colorscale": [
             [
              0,
              "#0d0887"
             ],
             [
              0.1111111111111111,
              "#46039f"
             ],
             [
              0.2222222222222222,
              "#7201a8"
             ],
             [
              0.3333333333333333,
              "#9c179e"
             ],
             [
              0.4444444444444444,
              "#bd3786"
             ],
             [
              0.5555555555555556,
              "#d8576b"
             ],
             [
              0.6666666666666666,
              "#ed7953"
             ],
             [
              0.7777777777777778,
              "#fb9f3a"
             ],
             [
              0.8888888888888888,
              "#fdca26"
             ],
             [
              1,
              "#f0f921"
             ]
            ],
            "type": "contour"
           }
          ],
          "contourcarpet": [
           {
            "colorbar": {
             "outlinewidth": 0,
             "ticks": ""
            },
            "type": "contourcarpet"
           }
          ],
          "heatmap": [
           {
            "colorbar": {
             "outlinewidth": 0,
             "ticks": ""
            },
            "colorscale": [
             [
              0,
              "#0d0887"
             ],
             [
              0.1111111111111111,
              "#46039f"
             ],
             [
              0.2222222222222222,
              "#7201a8"
             ],
             [
              0.3333333333333333,
              "#9c179e"
             ],
             [
              0.4444444444444444,
              "#bd3786"
             ],
             [
              0.5555555555555556,
              "#d8576b"
             ],
             [
              0.6666666666666666,
              "#ed7953"
             ],
             [
              0.7777777777777778,
              "#fb9f3a"
             ],
             [
              0.8888888888888888,
              "#fdca26"
             ],
             [
              1,
              "#f0f921"
             ]
            ],
            "type": "heatmap"
           }
          ],
          "heatmapgl": [
           {
            "colorbar": {
             "outlinewidth": 0,
             "ticks": ""
            },
            "colorscale": [
             [
              0,
              "#0d0887"
             ],
             [
              0.1111111111111111,
              "#46039f"
             ],
             [
              0.2222222222222222,
              "#7201a8"
             ],
             [
              0.3333333333333333,
              "#9c179e"
             ],
             [
              0.4444444444444444,
              "#bd3786"
             ],
             [
              0.5555555555555556,
              "#d8576b"
             ],
             [
              0.6666666666666666,
              "#ed7953"
             ],
             [
              0.7777777777777778,
              "#fb9f3a"
             ],
             [
              0.8888888888888888,
              "#fdca26"
             ],
             [
              1,
              "#f0f921"
             ]
            ],
            "type": "heatmapgl"
           }
          ],
          "histogram": [
           {
            "marker": {
             "pattern": {
              "fillmode": "overlay",
              "size": 10,
              "solidity": 0.2
             }
            },
            "type": "histogram"
           }
          ],
          "histogram2d": [
           {
            "colorbar": {
             "outlinewidth": 0,
             "ticks": ""
            },
            "colorscale": [
             [
              0,
              "#0d0887"
             ],
             [
              0.1111111111111111,
              "#46039f"
             ],
             [
              0.2222222222222222,
              "#7201a8"
             ],
             [
              0.3333333333333333,
              "#9c179e"
             ],
             [
              0.4444444444444444,
              "#bd3786"
             ],
             [
              0.5555555555555556,
              "#d8576b"
             ],
             [
              0.6666666666666666,
              "#ed7953"
             ],
             [
              0.7777777777777778,
              "#fb9f3a"
             ],
             [
              0.8888888888888888,
              "#fdca26"
             ],
             [
              1,
              "#f0f921"
             ]
            ],
            "type": "histogram2d"
           }
          ],
          "histogram2dcontour": [
           {
            "colorbar": {
             "outlinewidth": 0,
             "ticks": ""
            },
            "colorscale": [
             [
              0,
              "#0d0887"
             ],
             [
              0.1111111111111111,
              "#46039f"
             ],
             [
              0.2222222222222222,
              "#7201a8"
             ],
             [
              0.3333333333333333,
              "#9c179e"
             ],
             [
              0.4444444444444444,
              "#bd3786"
             ],
             [
              0.5555555555555556,
              "#d8576b"
             ],
             [
              0.6666666666666666,
              "#ed7953"
             ],
             [
              0.7777777777777778,
              "#fb9f3a"
             ],
             [
              0.8888888888888888,
              "#fdca26"
             ],
             [
              1,
              "#f0f921"
             ]
            ],
            "type": "histogram2dcontour"
           }
          ],
          "mesh3d": [
           {
            "colorbar": {
             "outlinewidth": 0,
             "ticks": ""
            },
            "type": "mesh3d"
           }
          ],
          "parcoords": [
           {
            "line": {
             "colorbar": {
              "outlinewidth": 0,
              "ticks": ""
             }
            },
            "type": "parcoords"
           }
          ],
          "pie": [
           {
            "automargin": true,
            "type": "pie"
           }
          ],
          "scatter": [
           {
            "marker": {
             "colorbar": {
              "outlinewidth": 0,
              "ticks": ""
             }
            },
            "type": "scatter"
           }
          ],
          "scatter3d": [
           {
            "line": {
             "colorbar": {
              "outlinewidth": 0,
              "ticks": ""
             }
            },
            "marker": {
             "colorbar": {
              "outlinewidth": 0,
              "ticks": ""
             }
            },
            "type": "scatter3d"
           }
          ],
          "scattercarpet": [
           {
            "marker": {
             "colorbar": {
              "outlinewidth": 0,
              "ticks": ""
             }
            },
            "type": "scattercarpet"
           }
          ],
          "scattergeo": [
           {
            "marker": {
             "colorbar": {
              "outlinewidth": 0,
              "ticks": ""
             }
            },
            "type": "scattergeo"
           }
          ],
          "scattergl": [
           {
            "marker": {
             "colorbar": {
              "outlinewidth": 0,
              "ticks": ""
             }
            },
            "type": "scattergl"
           }
          ],
          "scattermapbox": [
           {
            "marker": {
             "colorbar": {
              "outlinewidth": 0,
              "ticks": ""
             }
            },
            "type": "scattermapbox"
           }
          ],
          "scatterpolar": [
           {
            "marker": {
             "colorbar": {
              "outlinewidth": 0,
              "ticks": ""
             }
            },
            "type": "scatterpolar"
           }
          ],
          "scatterpolargl": [
           {
            "marker": {
             "colorbar": {
              "outlinewidth": 0,
              "ticks": ""
             }
            },
            "type": "scatterpolargl"
           }
          ],
          "scatterternary": [
           {
            "marker": {
             "colorbar": {
              "outlinewidth": 0,
              "ticks": ""
             }
            },
            "type": "scatterternary"
           }
          ],
          "surface": [
           {
            "colorbar": {
             "outlinewidth": 0,
             "ticks": ""
            },
            "colorscale": [
             [
              0,
              "#0d0887"
             ],
             [
              0.1111111111111111,
              "#46039f"
             ],
             [
              0.2222222222222222,
              "#7201a8"
             ],
             [
              0.3333333333333333,
              "#9c179e"
             ],
             [
              0.4444444444444444,
              "#bd3786"
             ],
             [
              0.5555555555555556,
              "#d8576b"
             ],
             [
              0.6666666666666666,
              "#ed7953"
             ],
             [
              0.7777777777777778,
              "#fb9f3a"
             ],
             [
              0.8888888888888888,
              "#fdca26"
             ],
             [
              1,
              "#f0f921"
             ]
            ],
            "type": "surface"
           }
          ],
          "table": [
           {
            "cells": {
             "fill": {
              "color": "#EBF0F8"
             },
             "line": {
              "color": "white"
             }
            },
            "header": {
             "fill": {
              "color": "#C8D4E3"
             },
             "line": {
              "color": "white"
             }
            },
            "type": "table"
           }
          ]
         },
         "layout": {
          "annotationdefaults": {
           "arrowcolor": "#2a3f5f",
           "arrowhead": 0,
           "arrowwidth": 1
          },
          "autotypenumbers": "strict",
          "coloraxis": {
           "colorbar": {
            "outlinewidth": 0,
            "ticks": ""
           }
          },
          "colorscale": {
           "diverging": [
            [
             0,
             "#8e0152"
            ],
            [
             0.1,
             "#c51b7d"
            ],
            [
             0.2,
             "#de77ae"
            ],
            [
             0.3,
             "#f1b6da"
            ],
            [
             0.4,
             "#fde0ef"
            ],
            [
             0.5,
             "#f7f7f7"
            ],
            [
             0.6,
             "#e6f5d0"
            ],
            [
             0.7,
             "#b8e186"
            ],
            [
             0.8,
             "#7fbc41"
            ],
            [
             0.9,
             "#4d9221"
            ],
            [
             1,
             "#276419"
            ]
           ],
           "sequential": [
            [
             0,
             "#0d0887"
            ],
            [
             0.1111111111111111,
             "#46039f"
            ],
            [
             0.2222222222222222,
             "#7201a8"
            ],
            [
             0.3333333333333333,
             "#9c179e"
            ],
            [
             0.4444444444444444,
             "#bd3786"
            ],
            [
             0.5555555555555556,
             "#d8576b"
            ],
            [
             0.6666666666666666,
             "#ed7953"
            ],
            [
             0.7777777777777778,
             "#fb9f3a"
            ],
            [
             0.8888888888888888,
             "#fdca26"
            ],
            [
             1,
             "#f0f921"
            ]
           ],
           "sequentialminus": [
            [
             0,
             "#0d0887"
            ],
            [
             0.1111111111111111,
             "#46039f"
            ],
            [
             0.2222222222222222,
             "#7201a8"
            ],
            [
             0.3333333333333333,
             "#9c179e"
            ],
            [
             0.4444444444444444,
             "#bd3786"
            ],
            [
             0.5555555555555556,
             "#d8576b"
            ],
            [
             0.6666666666666666,
             "#ed7953"
            ],
            [
             0.7777777777777778,
             "#fb9f3a"
            ],
            [
             0.8888888888888888,
             "#fdca26"
            ],
            [
             1,
             "#f0f921"
            ]
           ]
          },
          "colorway": [
           "#636efa",
           "#EF553B",
           "#00cc96",
           "#ab63fa",
           "#FFA15A",
           "#19d3f3",
           "#FF6692",
           "#B6E880",
           "#FF97FF",
           "#FECB52"
          ],
          "font": {
           "color": "#2a3f5f"
          },
          "geo": {
           "bgcolor": "white",
           "lakecolor": "white",
           "landcolor": "#E5ECF6",
           "showlakes": true,
           "showland": true,
           "subunitcolor": "white"
          },
          "hoverlabel": {
           "align": "left"
          },
          "hovermode": "closest",
          "mapbox": {
           "style": "light"
          },
          "paper_bgcolor": "white",
          "plot_bgcolor": "#E5ECF6",
          "polar": {
           "angularaxis": {
            "gridcolor": "white",
            "linecolor": "white",
            "ticks": ""
           },
           "bgcolor": "#E5ECF6",
           "radialaxis": {
            "gridcolor": "white",
            "linecolor": "white",
            "ticks": ""
           }
          },
          "scene": {
           "xaxis": {
            "backgroundcolor": "#E5ECF6",
            "gridcolor": "white",
            "gridwidth": 2,
            "linecolor": "white",
            "showbackground": true,
            "ticks": "",
            "zerolinecolor": "white"
           },
           "yaxis": {
            "backgroundcolor": "#E5ECF6",
            "gridcolor": "white",
            "gridwidth": 2,
            "linecolor": "white",
            "showbackground": true,
            "ticks": "",
            "zerolinecolor": "white"
           },
           "zaxis": {
            "backgroundcolor": "#E5ECF6",
            "gridcolor": "white",
            "gridwidth": 2,
            "linecolor": "white",
            "showbackground": true,
            "ticks": "",
            "zerolinecolor": "white"
           }
          },
          "shapedefaults": {
           "line": {
            "color": "#2a3f5f"
           }
          },
          "ternary": {
           "aaxis": {
            "gridcolor": "white",
            "linecolor": "white",
            "ticks": ""
           },
           "baxis": {
            "gridcolor": "white",
            "linecolor": "white",
            "ticks": ""
           },
           "bgcolor": "#E5ECF6",
           "caxis": {
            "gridcolor": "white",
            "linecolor": "white",
            "ticks": ""
           }
          },
          "title": {
           "x": 0.05
          },
          "xaxis": {
           "automargin": true,
           "gridcolor": "white",
           "linecolor": "white",
           "ticks": "",
           "title": {
            "standoff": 15
           },
           "zerolinecolor": "white",
           "zerolinewidth": 2
          },
          "yaxis": {
           "automargin": true,
           "gridcolor": "white",
           "linecolor": "white",
           "ticks": "",
           "title": {
            "standoff": 15
           },
           "zerolinecolor": "white",
           "zerolinewidth": 2
          }
         }
        },
        "title": {
         "text": "NC Neighborhoods Housing Market Segments",
         "x": 0.5
        },
        "xaxis": {
         "showticklabels": false,
         "title": {
          "text": "Shorter Days on Market <-------------> Longer Days on Market"
         }
        },
        "yaxis": {
         "showticklabels": false,
         "title": {
          "text": "Lower Supply <------------> Higher Supply"
         }
        }
       }
      }
     },
     "metadata": {},
     "output_type": "display_data"
    }
   ],
   "source": [
    "# Dictionary with dataframes for each cluster\n",
    "cluster_name=df[\"cluster_nbr\"].unique()\n",
    "cluster_data = {cluster: df.loc[df[\"cluster_nbr\"] == cluster].copy()\n",
    "                            for cluster in cluster_name}\n",
    "\n",
    "layout = go.Layout(\n",
    "    title_text='NC Neighborhoods Housing Market Segments', \n",
    "    title_x=0.5,\n",
    "    xaxis = go.XAxis(\n",
    "        title = 'Shorter Days on Market <-------------> Longer Days on Market',\n",
    "        showticklabels=False),\n",
    "    yaxis = go.YAxis(\n",
    "        title = 'Lower Supply <------------> Higher Supply',\n",
    "        showticklabels=False\n",
    "    )\n",
    ")\n",
    "\n",
    "# Create figure\n",
    "fig = go.Figure(layout=layout)\n",
    "for cluster_name, cluster in cluster_data.items():\n",
    "    fig.add_trace(go.Scatter(\n",
    "        x=cluster['PC1'], y=cluster['PC2'],\n",
    "        marker = dict(color=cluster['color']),\n",
    "        name=cluster_name, text=cluster['text'],\n",
    "        marker_size=cluster['size']\n",
    "        ))\n",
    "\n",
    "# Tune marker appearance and layout\n",
    "sizeref = 2.*max(df['size'])/(18**2) \n",
    "fig.update_traces(mode='markers', marker=dict(sizemode='area',sizeref=sizeref, line_width=2))\n",
    "\n",
    "fig.update_layout(showlegend=False)\n",
    "fig.show()"
   ]
  },
  {
   "cell_type": "code",
   "execution_count": null,
   "metadata": {},
   "outputs": [],
   "source": []
  }
 ],
 "metadata": {
  "interpreter": {
   "hash": "c9a7628a65e68ccc20513d12bf4a0fc8d0fbbedc53273c46e8f8a64a81c216c6"
  },
  "kernelspec": {
   "display_name": "Python 3.10.2 64-bit ('realestate_env': conda)",
   "language": "python",
   "name": "python3"
  },
  "language_info": {
   "codemirror_mode": {
    "name": "ipython",
    "version": 3
   },
   "file_extension": ".py",
   "mimetype": "text/x-python",
   "name": "python",
   "nbconvert_exporter": "python",
   "pygments_lexer": "ipython3",
   "version": "3.10.2"
  },
  "orig_nbformat": 4
 },
 "nbformat": 4,
 "nbformat_minor": 2
}
