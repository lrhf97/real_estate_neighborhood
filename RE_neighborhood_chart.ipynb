{
 "cells": [
  {
   "cell_type": "code",
   "execution_count": 11,
   "metadata": {},
   "outputs": [
    {
     "data": {
      "text/plain": [
       "205"
      ]
     },
     "execution_count": 11,
     "metadata": {},
     "output_type": "execute_result"
    }
   ],
   "source": [
    "#Import libraries\n",
    "import pandas as pd\n",
    "import numpy as np\n",
    "import plotly.graph_objects as go\n",
    "\n",
    "#Read the cluster data\n",
    "dfzc=pd.read_csv('resource/df_VAZc.csv',index_col=[0])\n",
    "Fields=[\n",
    "'region',\n",
    "'period_begin',\n",
    "'period_end',\n",
    "'period_duration',\n",
    "'parent_metro_region',\n",
    "'property_type',\n",
    "'median_sale_price',\n",
    "'median_sale_price_yoy',\n",
    "'homes_sold',\n",
    "'new_listings_yoy',\n",
    "'median_dom',\n",
    "'median_dom_yoy',\n",
    "'avg_sale_to_list',\n",
    "'cluster_nbr',\n",
    "'0',\n",
    "'1',\n",
    "'2'\n",
    "]\n",
    "#Only select fields that are needed in this visualization\n",
    "df_VA=dfzc[Fields]\n",
    "len(df_VA)"
   ]
  },
  {
   "cell_type": "code",
   "execution_count": 14,
   "metadata": {},
   "outputs": [
    {
     "data": {
      "text/plain": [
       "array(['county', 'neighborhood', 'zipcode'], dtype=object)"
      ]
     },
     "execution_count": 14,
     "metadata": {},
     "output_type": "execute_result"
    }
   ],
   "source": [
    "import glob\n",
    "\n",
    "files = glob.glob('data/*.csv') \n",
    "df_list = []\n",
    "df_all = pd.DataFrame([])\n",
    "for f in files:\n",
    "    df_list.append(f[3:-4])\n",
    "    df = pd.read_csv(f,index_col=[0])\n",
    "    df.insert(0,'group',f[8:-4])\n",
    "    df_all = pd.concat([df_all, df])\n",
    "df_all['group'].unique()"
   ]
  },
  {
   "cell_type": "code",
   "execution_count": 15,
   "metadata": {},
   "outputs": [
    {
     "data": {
      "text/html": [
       "<div>\n",
       "<style scoped>\n",
       "    .dataframe tbody tr th:only-of-type {\n",
       "        vertical-align: middle;\n",
       "    }\n",
       "\n",
       "    .dataframe tbody tr th {\n",
       "        vertical-align: top;\n",
       "    }\n",
       "\n",
       "    .dataframe thead th {\n",
       "        text-align: right;\n",
       "    }\n",
       "</style>\n",
       "<table border=\"1\" class=\"dataframe\">\n",
       "  <thead>\n",
       "    <tr style=\"text-align: right;\">\n",
       "      <th></th>\n",
       "      <th>group</th>\n",
       "      <th>period_begin</th>\n",
       "      <th>period_end</th>\n",
       "      <th>period_duration</th>\n",
       "      <th>region_type</th>\n",
       "      <th>region_type_id</th>\n",
       "      <th>table_id</th>\n",
       "      <th>is_seasonally_adjusted</th>\n",
       "      <th>region</th>\n",
       "      <th>city</th>\n",
       "      <th>...</th>\n",
       "      <th>sold_above_list_yoy</th>\n",
       "      <th>price_drops</th>\n",
       "      <th>price_drops_mom</th>\n",
       "      <th>price_drops_yoy</th>\n",
       "      <th>off_market_in_two_weeks</th>\n",
       "      <th>off_market_in_two_weeks_mom</th>\n",
       "      <th>off_market_in_two_weeks_yoy</th>\n",
       "      <th>parent_metro_region</th>\n",
       "      <th>parent_metro_region_metro_code</th>\n",
       "      <th>last_updated</th>\n",
       "    </tr>\n",
       "  </thead>\n",
       "  <tbody>\n",
       "    <tr>\n",
       "      <th>6803</th>\n",
       "      <td>county</td>\n",
       "      <td>2021-07-01</td>\n",
       "      <td>2021-07-31</td>\n",
       "      <td>30</td>\n",
       "      <td>county</td>\n",
       "      <td>5</td>\n",
       "      <td>3002</td>\n",
       "      <td>f</td>\n",
       "      <td>Orange County, VA</td>\n",
       "      <td>NaN</td>\n",
       "      <td>...</td>\n",
       "      <td>0.184982</td>\n",
       "      <td>0.169935</td>\n",
       "      <td>0.044935</td>\n",
       "      <td>-0.003718</td>\n",
       "      <td>0.414634</td>\n",
       "      <td>0.007227</td>\n",
       "      <td>0.090690</td>\n",
       "      <td>Virginia nonmetropolitan area</td>\n",
       "      <td>NaN</td>\n",
       "      <td>2022-01-09 14:29:56</td>\n",
       "    </tr>\n",
       "    <tr>\n",
       "      <th>16181</th>\n",
       "      <td>county</td>\n",
       "      <td>2021-07-01</td>\n",
       "      <td>2021-07-31</td>\n",
       "      <td>30</td>\n",
       "      <td>county</td>\n",
       "      <td>5</td>\n",
       "      <td>3042</td>\n",
       "      <td>f</td>\n",
       "      <td>Fairfax City County, VA</td>\n",
       "      <td>NaN</td>\n",
       "      <td>...</td>\n",
       "      <td>0.166667</td>\n",
       "      <td>0.351351</td>\n",
       "      <td>0.163851</td>\n",
       "      <td>0.166166</td>\n",
       "      <td>0.545455</td>\n",
       "      <td>-0.061688</td>\n",
       "      <td>-0.061688</td>\n",
       "      <td>Washington, DC</td>\n",
       "      <td>47894.0</td>\n",
       "      <td>2022-01-09 14:29:56</td>\n",
       "    </tr>\n",
       "    <tr>\n",
       "      <th>18476</th>\n",
       "      <td>county</td>\n",
       "      <td>2021-07-01</td>\n",
       "      <td>2021-07-31</td>\n",
       "      <td>30</td>\n",
       "      <td>county</td>\n",
       "      <td>5</td>\n",
       "      <td>2965</td>\n",
       "      <td>f</td>\n",
       "      <td>Fairfax County, VA</td>\n",
       "      <td>NaN</td>\n",
       "      <td>...</td>\n",
       "      <td>0.155436</td>\n",
       "      <td>0.260093</td>\n",
       "      <td>0.006198</td>\n",
       "      <td>0.048141</td>\n",
       "      <td>0.448780</td>\n",
       "      <td>-0.138322</td>\n",
       "      <td>-0.034856</td>\n",
       "      <td>Washington, DC</td>\n",
       "      <td>47894.0</td>\n",
       "      <td>2022-01-09 14:29:56</td>\n",
       "    </tr>\n",
       "    <tr>\n",
       "      <th>28014</th>\n",
       "      <td>county</td>\n",
       "      <td>2021-07-01</td>\n",
       "      <td>2021-07-31</td>\n",
       "      <td>30</td>\n",
       "      <td>county</td>\n",
       "      <td>5</td>\n",
       "      <td>3055</td>\n",
       "      <td>f</td>\n",
       "      <td>Newport News, VA</td>\n",
       "      <td>NaN</td>\n",
       "      <td>...</td>\n",
       "      <td>0.276573</td>\n",
       "      <td>0.192192</td>\n",
       "      <td>0.072738</td>\n",
       "      <td>0.057272</td>\n",
       "      <td>0.433476</td>\n",
       "      <td>-0.060451</td>\n",
       "      <td>0.091371</td>\n",
       "      <td>Virginia Beach, VA</td>\n",
       "      <td>47260.0</td>\n",
       "      <td>2022-01-09 14:29:56</td>\n",
       "    </tr>\n",
       "    <tr>\n",
       "      <th>32101</th>\n",
       "      <td>county</td>\n",
       "      <td>2021-07-01</td>\n",
       "      <td>2021-07-31</td>\n",
       "      <td>30</td>\n",
       "      <td>county</td>\n",
       "      <td>5</td>\n",
       "      <td>2978</td>\n",
       "      <td>f</td>\n",
       "      <td>Hanover County, VA</td>\n",
       "      <td>NaN</td>\n",
       "      <td>...</td>\n",
       "      <td>0.220005</td>\n",
       "      <td>0.326923</td>\n",
       "      <td>0.048135</td>\n",
       "      <td>0.064685</td>\n",
       "      <td>0.652695</td>\n",
       "      <td>-0.012045</td>\n",
       "      <td>0.004210</td>\n",
       "      <td>Richmond, VA</td>\n",
       "      <td>40060.0</td>\n",
       "      <td>2022-01-09 14:29:56</td>\n",
       "    </tr>\n",
       "  </tbody>\n",
       "</table>\n",
       "<p>5 rows × 59 columns</p>\n",
       "</div>"
      ],
      "text/plain": [
       "        group period_begin  period_end  period_duration region_type  \\\n",
       "6803   county   2021-07-01  2021-07-31               30      county   \n",
       "16181  county   2021-07-01  2021-07-31               30      county   \n",
       "18476  county   2021-07-01  2021-07-31               30      county   \n",
       "28014  county   2021-07-01  2021-07-31               30      county   \n",
       "32101  county   2021-07-01  2021-07-31               30      county   \n",
       "\n",
       "       region_type_id  table_id is_seasonally_adjusted  \\\n",
       "6803                5      3002                      f   \n",
       "16181               5      3042                      f   \n",
       "18476               5      2965                      f   \n",
       "28014               5      3055                      f   \n",
       "32101               5      2978                      f   \n",
       "\n",
       "                        region city  ... sold_above_list_yoy price_drops  \\\n",
       "6803         Orange County, VA  NaN  ...            0.184982    0.169935   \n",
       "16181  Fairfax City County, VA  NaN  ...            0.166667    0.351351   \n",
       "18476       Fairfax County, VA  NaN  ...            0.155436    0.260093   \n",
       "28014         Newport News, VA  NaN  ...            0.276573    0.192192   \n",
       "32101       Hanover County, VA  NaN  ...            0.220005    0.326923   \n",
       "\n",
       "      price_drops_mom  price_drops_yoy  off_market_in_two_weeks  \\\n",
       "6803         0.044935        -0.003718                 0.414634   \n",
       "16181        0.163851         0.166166                 0.545455   \n",
       "18476        0.006198         0.048141                 0.448780   \n",
       "28014        0.072738         0.057272                 0.433476   \n",
       "32101        0.048135         0.064685                 0.652695   \n",
       "\n",
       "       off_market_in_two_weeks_mom  off_market_in_two_weeks_yoy  \\\n",
       "6803                      0.007227                     0.090690   \n",
       "16181                    -0.061688                    -0.061688   \n",
       "18476                    -0.138322                    -0.034856   \n",
       "28014                    -0.060451                     0.091371   \n",
       "32101                    -0.012045                     0.004210   \n",
       "\n",
       "                 parent_metro_region  parent_metro_region_metro_code  \\\n",
       "6803   Virginia nonmetropolitan area                             NaN   \n",
       "16181                 Washington, DC                         47894.0   \n",
       "18476                 Washington, DC                         47894.0   \n",
       "28014             Virginia Beach, VA                         47260.0   \n",
       "32101                   Richmond, VA                         40060.0   \n",
       "\n",
       "              last_updated  \n",
       "6803   2022-01-09 14:29:56  \n",
       "16181  2022-01-09 14:29:56  \n",
       "18476  2022-01-09 14:29:56  \n",
       "28014  2022-01-09 14:29:56  \n",
       "32101  2022-01-09 14:29:56  \n",
       "\n",
       "[5 rows x 59 columns]"
      ]
     },
     "execution_count": 15,
     "metadata": {},
     "output_type": "execute_result"
    }
   ],
   "source": [
    "df_all[df_all['group']=='county'].head()\n"
   ]
  },
  {
   "cell_type": "code",
   "execution_count": 9,
   "metadata": {},
   "outputs": [
    {
     "data": {
      "text/html": [
       "<div>\n",
       "<style scoped>\n",
       "    .dataframe tbody tr th:only-of-type {\n",
       "        vertical-align: middle;\n",
       "    }\n",
       "\n",
       "    .dataframe tbody tr th {\n",
       "        vertical-align: top;\n",
       "    }\n",
       "\n",
       "    .dataframe thead th {\n",
       "        text-align: right;\n",
       "    }\n",
       "</style>\n",
       "<table border=\"1\" class=\"dataframe\">\n",
       "  <thead>\n",
       "    <tr style=\"text-align: right;\">\n",
       "      <th></th>\n",
       "      <th># of Zips</th>\n",
       "      <th>Median Homes Sold</th>\n",
       "      <th>Median Sale Price</th>\n",
       "      <th>Median Sale Price YoY</th>\n",
       "      <th>Median New Listings YoY</th>\n",
       "      <th>Median Sale-to-List Ratio</th>\n",
       "      <th>Median Days on Market</th>\n",
       "      <th>Median Days on Market YoY (days)</th>\n",
       "    </tr>\n",
       "    <tr>\n",
       "      <th>cluster_nbr</th>\n",
       "      <th></th>\n",
       "      <th></th>\n",
       "      <th></th>\n",
       "      <th></th>\n",
       "      <th></th>\n",
       "      <th></th>\n",
       "      <th></th>\n",
       "      <th></th>\n",
       "    </tr>\n",
       "  </thead>\n",
       "  <tbody>\n",
       "    <tr>\n",
       "      <th>0</th>\n",
       "      <td>54</td>\n",
       "      <td>111.5</td>\n",
       "      <td>431250.0</td>\n",
       "      <td>0.140014</td>\n",
       "      <td>-0.024202</td>\n",
       "      <td>1.028527</td>\n",
       "      <td>9.00</td>\n",
       "      <td>-5.25</td>\n",
       "    </tr>\n",
       "    <tr>\n",
       "      <th>1</th>\n",
       "      <td>79</td>\n",
       "      <td>97.0</td>\n",
       "      <td>525000.0</td>\n",
       "      <td>0.079137</td>\n",
       "      <td>0.004630</td>\n",
       "      <td>1.014521</td>\n",
       "      <td>19.00</td>\n",
       "      <td>-6.50</td>\n",
       "    </tr>\n",
       "    <tr>\n",
       "      <th>2</th>\n",
       "      <td>44</td>\n",
       "      <td>88.0</td>\n",
       "      <td>310000.0</td>\n",
       "      <td>0.106040</td>\n",
       "      <td>0.423500</td>\n",
       "      <td>1.011687</td>\n",
       "      <td>18.00</td>\n",
       "      <td>-9.50</td>\n",
       "    </tr>\n",
       "    <tr>\n",
       "      <th>3</th>\n",
       "      <td>28</td>\n",
       "      <td>32.5</td>\n",
       "      <td>475000.0</td>\n",
       "      <td>0.144182</td>\n",
       "      <td>-0.108187</td>\n",
       "      <td>0.999658</td>\n",
       "      <td>33.75</td>\n",
       "      <td>-7.00</td>\n",
       "    </tr>\n",
       "  </tbody>\n",
       "</table>\n",
       "</div>"
      ],
      "text/plain": [
       "             # of Zips  Median Homes Sold  Median Sale Price  \\\n",
       "cluster_nbr                                                    \n",
       "0                   54              111.5           431250.0   \n",
       "1                   79               97.0           525000.0   \n",
       "2                   44               88.0           310000.0   \n",
       "3                   28               32.5           475000.0   \n",
       "\n",
       "             Median Sale Price YoY  Median New Listings YoY  \\\n",
       "cluster_nbr                                                   \n",
       "0                         0.140014                -0.024202   \n",
       "1                         0.079137                 0.004630   \n",
       "2                         0.106040                 0.423500   \n",
       "3                         0.144182                -0.108187   \n",
       "\n",
       "             Median Sale-to-List Ratio  Median Days on Market  \\\n",
       "cluster_nbr                                                     \n",
       "0                             1.028527                   9.00   \n",
       "1                             1.014521                  19.00   \n",
       "2                             1.011687                  18.00   \n",
       "3                             0.999658                  33.75   \n",
       "\n",
       "             Median Days on Market YoY (days)  \n",
       "cluster_nbr                                    \n",
       "0                                       -5.25  \n",
       "1                                       -6.50  \n",
       "2                                       -9.50  \n",
       "3                                       -7.00  "
      ]
     },
     "execution_count": 9,
     "metadata": {},
     "output_type": "execute_result"
    }
   ],
   "source": [
    "#Rename fields to make them easier to understand\n",
    "df = df_VA.rename({'region': 'Zip_Code', '0': 'PC1','1':'PC2','2':'PC3'}, axis=1)\n",
    "df['cluster_nbr'] = df['cluster_nbr'].apply(str) #Change data type for cluster_nbr\n",
    "\n",
    "#Create summary statistics for clusters. Calucating medians for the following metrics at cluster level\n",
    "cluster_group = ['homes_sold','median_sale_price','median_sale_price_yoy','new_listings_yoy','avg_sale_to_list','median_dom','median_dom_yoy']\n",
    "df1=df.groupby(['cluster_nbr'])['cluster_nbr'].count()\n",
    "df2=df.groupby(['cluster_nbr'])[cluster_group].median()\n",
    "df_summary=pd.concat([df1, df2],axis=1)\n",
    "df_summary = df_summary.rename({'cluster_nbr': '# of Zips','homes_sold':'Median Homes Sold','median_sale_price':'Median Sale Price','median_sale_price_yoy':'Median Sale Price YoY','new_listings_yoy':'Median New Listings YoY','avg_sale_to_list':'Median Sale-to-List Ratio','median_dom':'Median Days on Market','median_dom_yoy':'Median Days on Market YoY (days)'}, axis=1)\n",
    "df_summary"
   ]
  },
  {
   "cell_type": "code",
   "execution_count": 13,
   "metadata": {},
   "outputs": [],
   "source": [
    "#Add cluster description to the dataframe\n",
    "def f(row):\n",
    "    if row['cluster_nbr'] == '0':\n",
    "        val = 'Comment 1'\n",
    "    elif row['cluster_nbr'] == '1':\n",
    "        val = 'Comment 2'\n",
    "    elif row['cluster_nbr'] == '2':\n",
    "        val = 'Commet 3'\n",
    "    elif row['cluster_nbr'] == '3':\n",
    "        val = 'Comment 4'   \n",
    "    # elif row['cluster_nbr'] == '4':\n",
    "    #     val = 'Coment 5'  \n",
    "    else:\n",
    "        val = 'NA'\n",
    "    return val\n",
    "\n",
    "df['cluster_desc']= df.apply(f, axis=1)"
   ]
  },
  {
   "cell_type": "code",
   "execution_count": 14,
   "metadata": {},
   "outputs": [],
   "source": [
    "#Define a function to assign a unique color code to each cluster. \n",
    "#You can choose any color code you want by tweaking the val parameter\n",
    "def color(row):\n",
    "    if row['cluster_nbr'] == '0':\n",
    "        val = '#0984BD'\n",
    "    elif row['cluster_nbr'] == '1':\n",
    "        val = '#E12906'\n",
    "    elif row['cluster_nbr'] == '2':\n",
    "        val = '#08E9E7'\n",
    "    elif row['cluster_nbr'] == '3':\n",
    "        val = '#E18A06'   \n",
    "    # elif row['cluster_nbr'] == '4':\n",
    "    #     val = '#0C861A'  \n",
    "    else:\n",
    "        val = 'NA'\n",
    "    return val\n",
    "#Apply the function to each data point in the data frame\n",
    "df['color']= df.apply(color, axis=1)"
   ]
  },
  {
   "cell_type": "code",
   "execution_count": 15,
   "metadata": {},
   "outputs": [],
   "source": [
    "#Create the 'size' column for bubble size\n",
    "from sklearn.preprocessing import MinMaxScaler\n",
    "minmax_scaler=MinMaxScaler()\n",
    "scaled_features=minmax_scaler.fit_transform(df[['median_sale_price_yoy']])\n",
    "df['size']=pd.DataFrame(scaled_features)\n",
    "\n",
    "#Styling changes to reduce decimal places to 2\n",
    "df['avg_sale_to_list'] = pd.Series([round(val, 2) for val in df['avg_sale_to_list']], index = df.index)\n",
    "df['homes_sold'] = pd.Series([round(val, 0) for val in df['homes_sold']], index = df.index)\n",
    "df['median_dom'] = pd.Series([round(val, 1) for val in df['median_dom']], index = df.index)\n",
    "\n",
    "\n",
    "#Styling changes to change the data format to percentages\n",
    "df['median_sale_price_yoy'] = pd.Series([\"{0:.1f}%\".format(val * 100) for val in df['median_sale_price_yoy']], index = df.index)\n",
    "df['new_listings_yoy'] = pd.Series([\"{0:.1f}%\".format(val * 100) for val in df['new_listings_yoy']], index = df.index) "
   ]
  },
  {
   "cell_type": "code",
   "execution_count": 16,
   "metadata": {},
   "outputs": [],
   "source": [
    "#Add 'text' column for hover-over tooltips\n",
    "#You can customize what fields or information you want to show in tooltips in the code below\n",
    "hover_text = []\n",
    "for index, row in df.iterrows():\n",
    "    hover_text.append(('Cluster Description:<br>{cluster_desc}<br><br>'+\n",
    "                    'Zip Code: {Zip_Code}<br>'+\n",
    "                    'Metro: {parent_metro_region}<br>'+ \n",
    "                    'Homes Sold: {homes_sold}<br>'+\n",
    "                    'Median Sales Price: ${median_sale_price}<br>'+\n",
    "                    'Median Sales Price YoY: {median_sale_price_yoy}<br>'+\n",
    "                    'New Listings YoY: {new_listings_yoy}<br>'+\n",
    "                    'Median Days on Market: {median_dom}<br>'+\n",
    "                    'Avg Sales-to-Listing Price: {avg_sale_to_list}'\n",
    "                    ).format(\n",
    "                    cluster_desc=row['cluster_desc'],\n",
    "                    Zip_Code=row['Zip_Code'],\n",
    "                    parent_metro_region=row['parent_metro_region'],\n",
    "                    homes_sold=row['homes_sold'],\n",
    "                    median_sale_price=row['median_sale_price'],\n",
    "                    median_sale_price_yoy=row['median_sale_price_yoy'],\n",
    "                    new_listings_yoy=row['new_listings_yoy'],\n",
    "                    median_dom=row['median_dom'],\n",
    "                    avg_sale_to_list=row['avg_sale_to_list']))\n",
    "df['text'] = hover_text"
   ]
  },
  {
   "cell_type": "code",
   "execution_count": 17,
   "metadata": {},
   "outputs": [
    {
     "name": "stderr",
     "output_type": "stream",
     "text": [
      "/home/awstclair/miniconda3/envs/realestate_env/lib/python3.10/site-packages/plotly/graph_objs/_deprecations.py:544: DeprecationWarning: plotly.graph_objs.XAxis is deprecated.\n",
      "Please replace it with one of the following more specific types\n",
      "  - plotly.graph_objs.layout.XAxis\n",
      "  - plotly.graph_objs.layout.scene.XAxis\n",
      "\n",
      "  warnings.warn(\n",
      "/home/awstclair/miniconda3/envs/realestate_env/lib/python3.10/site-packages/plotly/graph_objs/_deprecations.py:572: DeprecationWarning: plotly.graph_objs.YAxis is deprecated.\n",
      "Please replace it with one of the following more specific types\n",
      "  - plotly.graph_objs.layout.YAxis\n",
      "  - plotly.graph_objs.layout.scene.YAxis\n",
      "\n",
      "  warnings.warn(\n"
     ]
    },
    {
     "data": {
      "application/vnd.plotly.v1+json": {
       "config": {
        "plotlyServerURL": "https://plot.ly"
       },
       "data": [
        {
         "marker": {
          "color": [
           "#E18A06",
           "#E18A06",
           "#E18A06",
           "#E18A06",
           "#E18A06",
           "#E18A06",
           "#E18A06",
           "#E18A06",
           "#E18A06",
           "#E18A06",
           "#E18A06",
           "#E18A06",
           "#E18A06",
           "#E18A06",
           "#E18A06",
           "#E18A06",
           "#E18A06",
           "#E18A06",
           "#E18A06",
           "#E18A06",
           "#E18A06",
           "#E18A06",
           "#E18A06",
           "#E18A06",
           "#E18A06",
           "#E18A06",
           "#E18A06",
           "#E18A06"
          ],
          "line": {
           "width": 2
          },
          "size": [
           0.9101347015175124,
           0.2962045244508821,
           0.5856194693821781,
           0.5733561404250576,
           0.10092429643542863,
           0.45968410999024467,
           0.5143316628608812,
           0.4714089256813281,
           0.47218367652881177,
           0.8812517152427822,
           0.7339392525193087,
           0.48337767938350695,
           0.5412908496154186,
           0.5119197073224127,
           0.42743656158579124,
           0.44604842466123956,
           0.40440652935382615,
           0.5690684728434725,
           0.44470220729083765,
           0.19373031403850705,
           0.47905058584303656,
           0.2195265483805494,
           0.9999999999999999,
           0.39285672016005024,
           0.4652797403416713,
           0.7452992662010433,
           0.3353863033099904,
           0.6707371313153294
          ],
          "sizemode": "area",
          "sizeref": 0.006172839506172839
         },
         "mode": "markers",
         "name": "3",
         "text": [
          "Cluster Description:<br>Comment 4<br><br>Zip Code: Zip Code: 22645<br>Metro: Winchester, VA<br>Homes Sold: 22.0<br>Median Sales Price: $524061.5<br>Median Sales Price YoY: 50.8%<br>New Listings YoY: -28.6%<br>Median Days on Market: 33.0<br>Avg Sales-to-Listing Price: 1.01",
          "Cluster Description:<br>Comment 4<br><br>Zip Code: Zip Code: 23457<br>Metro: Virginia Beach, VA<br>Homes Sold: 23.0<br>Median Sales Price: $545000.0<br>Median Sales Price YoY: -0.6%<br>New Listings YoY: -10.5%<br>Median Days on Market: 35.5<br>Avg Sales-to-Listing Price: 0.99",
          "Cluster Description:<br>Comment 4<br><br>Zip Code: Zip Code: 22630<br>Metro: Washington, DC<br>Homes Sold: 165.0<br>Median Sales Price: $340000.0<br>Median Sales Price YoY: 23.6%<br>New Listings YoY: -0.5%<br>Median Days on Market: 36.0<br>Avg Sales-to-Listing Price: 1.02",
          "Cluster Description:<br>Comment 4<br><br>Zip Code: Zip Code: 20106<br>Metro: Washington, DC<br>Homes Sold: 23.0<br>Median Sales Price: $549900.0<br>Median Sales Price YoY: 22.6%<br>New Listings YoY: 3.6%<br>Median Days on Market: 43.0<br>Avg Sales-to-Listing Price: 1.01",
          "Cluster Description:<br>Comment 4<br><br>Zip Code: Zip Code: 23523<br>Metro: Virginia Beach, VA<br>Homes Sold: 23.0<br>Median Sales Price: $220000.0<br>Median Sales Price YoY: -17.0%<br>New Listings YoY: -7.1%<br>Median Days on Market: 40.0<br>Avg Sales-to-Listing Price: 0.98",
          "Cluster Description:<br>Comment 4<br><br>Zip Code: Zip Code: 22663<br>Metro: Washington, DC<br>Homes Sold: 21.0<br>Median Sales Price: $558000.0<br>Median Sales Price YoY: 13.1%<br>New Listings YoY: 45.5%<br>Median Days on Market: 35.0<br>Avg Sales-to-Listing Price: 0.99",
          "Cluster Description:<br>Comment 4<br><br>Zip Code: Zip Code: 22656<br>Metro: Winchester, VA<br>Homes Sold: 28.0<br>Median Sales Price: $450000.0<br>Median Sales Price YoY: 17.7%<br>New Listings YoY: 14.8%<br>Median Days on Market: 41.0<br>Avg Sales-to-Listing Price: 1.01",
          "Cluster Description:<br>Comment 4<br><br>Zip Code: Zip Code: 20115<br>Metro: Washington, DC<br>Homes Sold: 34.0<br>Median Sales Price: $592000.0<br>Median Sales Price YoY: 14.1%<br>New Listings YoY: -16.7%<br>Median Days on Market: 33.0<br>Avg Sales-to-Listing Price: 0.99",
          "Cluster Description:<br>Comment 4<br><br>Zip Code: Zip Code: 22043<br>Metro: Washington, DC<br>Homes Sold: 57.0<br>Median Sales Price: $1050000.0<br>Median Sales Price YoY: 14.1%<br>New Listings YoY: -30.4%<br>Median Days on Market: 33.0<br>Avg Sales-to-Listing Price: 1.0",
          "Cluster Description:<br>Comment 4<br><br>Zip Code: Zip Code: 23437<br>Metro: Virginia Beach, VA<br>Homes Sold: 31.0<br>Median Sales Price: $400708.0<br>Median Sales Price YoY: 48.4%<br>New Listings YoY: 52.0%<br>Median Days on Market: 54.0<br>Avg Sales-to-Listing Price: 1.02",
          "Cluster Description:<br>Comment 4<br><br>Zip Code: Zip Code: 22727<br>Metro: Washington, DC<br>Homes Sold: 22.0<br>Median Sales Price: $373500.0<br>Median Sales Price YoY: 36.1%<br>New Listings YoY: -14.3%<br>Median Days on Market: 52.5<br>Avg Sales-to-Listing Price: 0.99",
          "Cluster Description:<br>Comment 4<br><br>Zip Code: Zip Code: 22304<br>Metro: Washington, DC<br>Homes Sold: 21.0<br>Median Sales Price: $840000.0<br>Median Sales Price YoY: 15.1%<br>New Listings YoY: -7.7%<br>Median Days on Market: 26.5<br>Avg Sales-to-Listing Price: 1.0",
          "Cluster Description:<br>Comment 4<br><br>Zip Code: Zip Code: 20119<br>Metro: Washington, DC<br>Homes Sold: 20.0<br>Median Sales Price: $554637.5<br>Median Sales Price YoY: 19.9%<br>New Listings YoY: -16.7%<br>Median Days on Market: 33.0<br>Avg Sales-to-Listing Price: 1.0",
          "Cluster Description:<br>Comment 4<br><br>Zip Code: Zip Code: 22602<br>Metro: Winchester, VA<br>Homes Sold: 151.0<br>Median Sales Price: $370000.0<br>Median Sales Price YoY: 17.5%<br>New Listings YoY: -6.8%<br>Median Days on Market: 36.0<br>Avg Sales-to-Listing Price: 1.0",
          "Cluster Description:<br>Comment 4<br><br>Zip Code: Zip Code: 22642<br>Metro: Washington, DC<br>Homes Sold: 39.0<br>Median Sales Price: $319000.0<br>Median Sales Price YoY: 10.4%<br>New Listings YoY: -16.7%<br>Median Days on Market: 42.5<br>Avg Sales-to-Listing Price: 0.98",
          "Cluster Description:<br>Comment 4<br><br>Zip Code: Zip Code: 23662<br>Metro: Virginia Beach, VA<br>Homes Sold: 73.0<br>Median Sales Price: $375000.0<br>Median Sales Price YoY: 11.9%<br>New Listings YoY: -9.5%<br>Median Days on Market: 26.0<br>Avg Sales-to-Listing Price: 1.0",
          "Cluster Description:<br>Comment 4<br><br>Zip Code: Zip Code: 20191<br>Metro: Washington, DC<br>Homes Sold: 51.0<br>Median Sales Price: $770000.0<br>Median Sales Price YoY: 8.5%<br>New Listings YoY: -28.1%<br>Median Days on Market: 33.5<br>Avg Sales-to-Listing Price: 1.02",
          "Cluster Description:<br>Comment 4<br><br>Zip Code: Zip Code: 20109<br>Metro: Washington, DC<br>Homes Sold: 41.0<br>Median Sales Price: $500000.0<br>Median Sales Price YoY: 22.2%<br>New Listings YoY: 29.7%<br>Median Days on Market: 33.0<br>Avg Sales-to-Listing Price: 1.01",
          "Cluster Description:<br>Comment 4<br><br>Zip Code: Zip Code: 22734<br>Metro: Washington, DC<br>Homes Sold: 24.0<br>Median Sales Price: $382450.0<br>Median Sales Price YoY: 11.8%<br>New Listings YoY: 33.3%<br>Median Days on Market: 34.0<br>Avg Sales-to-Listing Price: 0.99",
          "Cluster Description:<br>Comment 4<br><br>Zip Code: Zip Code: 20117<br>Metro: Washington, DC<br>Homes Sold: 24.0<br>Median Sales Price: $912500.0<br>Median Sales Price YoY: -9.2%<br>New Listings YoY: 35.0%<br>Median Days on Market: 35.0<br>Avg Sales-to-Listing Price: 1.0",
          "Cluster Description:<br>Comment 4<br><br>Zip Code: Zip Code: 22701<br>Metro: Washington, DC<br>Homes Sold: 149.0<br>Median Sales Price: $390000.0<br>Median Sales Price YoY: 14.7%<br>New Listings YoY: -12.4%<br>Median Days on Market: 38.0<br>Avg Sales-to-Listing Price: 1.01",
          "Cluster Description:<br>Comment 4<br><br>Zip Code: Zip Code: 22201<br>Metro: Washington, DC<br>Homes Sold: 26.0<br>Median Sales Price: $1320000.0<br>Median Sales Price YoY: -7.0%<br>New Listings YoY: -13.2%<br>Median Days on Market: 28.5<br>Avg Sales-to-Listing Price: 0.99",
          "Cluster Description:<br>Comment 4<br><br>Zip Code: Zip Code: 22067<br>Metro: Washington, DC<br>Homes Sold: 29.0<br>Median Sales Price: $1875000.0<br>Median Sales Price YoY: 58.4%<br>New Listings YoY: -40.0%<br>Median Days on Market: 32.5<br>Avg Sales-to-Listing Price: 0.99",
          "Cluster Description:<br>Comment 4<br><br>Zip Code: Zip Code: 22401<br>Metro: Washington, DC<br>Homes Sold: 87.0<br>Median Sales Price: $446000.0<br>Median Sales Price YoY: 7.5%<br>New Listings YoY: -16.9%<br>Median Days on Market: 33.0<br>Avg Sales-to-Listing Price: 1.0",
          "Cluster Description:<br>Comment 4<br><br>Zip Code: Zip Code: 23314<br>Metro: Virginia Beach, VA<br>Homes Sold: 47.0<br>Median Sales Price: $439900.0<br>Median Sales Price YoY: 13.6%<br>New Listings YoY: -44.8%<br>Median Days on Market: 30.0<br>Avg Sales-to-Listing Price: 1.01",
          "Cluster Description:<br>Comment 4<br><br>Zip Code: Zip Code: 22102<br>Metro: Washington, DC<br>Homes Sold: 36.0<br>Median Sales Price: $1952500.0<br>Median Sales Price YoY: 37.0%<br>New Listings YoY: -19.3%<br>Median Days on Market: 25.5<br>Avg Sales-to-Listing Price: 1.0",
          "Cluster Description:<br>Comment 4<br><br>Zip Code: Zip Code: 22712<br>Metro: Washington, DC<br>Homes Sold: 41.0<br>Median Sales Price: $385000.0<br>Median Sales Price YoY: 2.7%<br>New Listings YoY: -4.4%<br>Median Days on Market: 32.0<br>Avg Sales-to-Listing Price: 1.0",
          "Cluster Description:<br>Comment 4<br><br>Zip Code: Zip Code: 22603<br>Metro: Winchester, VA<br>Homes Sold: 54.0<br>Median Sales Price: $425000.0<br>Median Sales Price YoY: 30.8%<br>New Listings YoY: -11.1%<br>Median Days on Market: 37.0<br>Avg Sales-to-Listing Price: 1.01"
         ],
         "type": "scatter",
         "x": [
          0.3705394931844059,
          0.5582803740858596,
          0.3648392683412884,
          0.510727570175388,
          0.7831033556339799,
          0.5834946901111918,
          0.5639240562870718,
          0.5541512178994953,
          0.4655244033783371,
          0.515892180801109,
          0.7334894383981183,
          0.3059237542273065,
          0.4353798155761308,
          0.4801202370892751,
          0.7910860065398096,
          0.3034202313869958,
          0.2854584325711441,
          0.3381238928003045,
          0.5305367033224911,
          0.5330963060552206,
          0.4936825593871929,
          0.4297691378243606,
          0.4734690170712555,
          0.4496050547012855,
          0.2294863374964418,
          0.2502877628004812,
          0.416196116749808,
          0.4583541498171902
         ],
         "y": [
          -0.3258499676831821,
          -0.2272329730790344,
          -0.1515507516468744,
          -0.1103727732909563,
          -0.1050775279920363,
          0.1852852602225588,
          -0.0651968999850328,
          -0.2135250642585724,
          -0.2922168721578598,
          0.4134746123124371,
          -0.2000090236838926,
          -0.0470207925367487,
          -0.1715656208546968,
          -0.1776146515829578,
          -0.2994588720980184,
          -0.1490559436060617,
          -0.3178283551544415,
          0.1569473910751475,
          0.1762467471698989,
          0.1067407878353664,
          -0.2206068548246799,
          -0.2647196701235133,
          -0.0021191906424281,
          -0.2158368554553986,
          -0.4707985080881018,
          -0.2650297235088902,
          -0.176993849565612,
          -0.2273820075944544
         ]
        },
        {
         "marker": {
          "color": [
           "#08E9E7",
           "#08E9E7",
           "#08E9E7",
           "#08E9E7",
           "#08E9E7",
           "#08E9E7",
           "#08E9E7",
           "#08E9E7",
           "#08E9E7",
           "#08E9E7",
           "#08E9E7",
           "#08E9E7",
           "#08E9E7",
           "#08E9E7",
           "#08E9E7",
           "#08E9E7",
           "#08E9E7",
           "#08E9E7",
           "#08E9E7",
           "#08E9E7",
           "#08E9E7",
           "#08E9E7",
           "#08E9E7",
           "#08E9E7",
           "#08E9E7",
           "#08E9E7",
           "#08E9E7",
           "#08E9E7",
           "#08E9E7",
           "#08E9E7",
           "#08E9E7",
           "#08E9E7",
           "#08E9E7",
           "#08E9E7",
           "#08E9E7",
           "#08E9E7",
           "#08E9E7",
           "#08E9E7",
           "#08E9E7",
           "#08E9E7",
           "#08E9E7",
           "#08E9E7",
           "#08E9E7",
           "#08E9E7"
          ],
          "line": {
           "width": 2
          },
          "size": [
           0.43397484144870785,
           0.3493448442174979,
           0.6987029725260522,
           0.4199840000345012,
           0.4073994824626875,
           0.47609055264466926,
           0.5840635336824394,
           0.15512600511912647,
           0.38730439395278926,
           0.3522714927969495,
           0.37423766933996344,
           0.5353322357645198,
           0.4530631375906038,
           0.5592735264028692,
           0.5323544356730446,
           0.4833092827399105,
           0.41244080227385305,
           0.7921199730956927,
           0.3320865282471163,
           0.21516910775154968,
           0.3089560298234757,
           0.5706110728607394,
           0.4963104854773729,
           0.40102498678260157,
           0.4112305341197569,
           0.4514303506013769,
           0.37362917805919216,
           0.4482072961959796,
           0.4140249678361051,
           0.4839479165167474,
           0.432338037270652,
           0.4254372292133871,
           0.2748126798169009,
           0.6111186355404417,
           0.5586856858901464,
           0.41422130164062776,
           0.3852183964382322,
           0.5638378459551688,
           0.4278666784546017,
           0.45188230865539136,
           0.4730138095659091,
           0.35980370147712265,
           0.40944779572272155,
           0.5828214566693379
          ],
          "sizemode": "area",
          "sizeref": 0.006172839506172839
         },
         "mode": "markers",
         "name": "2",
         "text": [
          "Cluster Description:<br>Commet 3<br><br>Zip Code: Zip Code: 22554<br>Metro: Washington, DC<br>Homes Sold: 350.0<br>Median Sales Price: $492800.0<br>Median Sales Price YoY: 10.9%<br>New Listings YoY: 29.6%<br>Median Days on Market: 16.0<br>Avg Sales-to-Listing Price: 1.02",
          "Cluster Description:<br>Commet 3<br><br>Zip Code: Zip Code: 20180<br>Metro: Washington, DC<br>Homes Sold: 50.0<br>Median Sales Price: $622500.0<br>Median Sales Price YoY: 3.8%<br>New Listings YoY: 59.5%<br>Median Days on Market: 26.0<br>Avg Sales-to-Listing Price: 1.01",
          "Cluster Description:<br>Commet 3<br><br>Zip Code: Zip Code: 23124<br>Metro: Richmond, VA<br>Homes Sold: 42.0<br>Median Sales Price: $352050.0<br>Median Sales Price YoY: 33.1%<br>New Listings YoY: 16.1%<br>Median Days on Market: 8.5<br>Avg Sales-to-Listing Price: 1.01",
          "Cluster Description:<br>Commet 3<br><br>Zip Code: Zip Code: 22193<br>Metro: Washington, DC<br>Homes Sold: 279.0<br>Median Sales Price: $450000.0<br>Median Sales Price YoY: 9.8%<br>New Listings YoY: 23.6%<br>Median Days on Market: 17.0<br>Avg Sales-to-Listing Price: 1.02",
          "Cluster Description:<br>Commet 3<br><br>Zip Code: Zip Code: 22152<br>Metro: Washington, DC<br>Homes Sold: 77.0<br>Median Sales Price: $682102.0<br>Median Sales Price YoY: 8.7%<br>New Listings YoY: 54.3%<br>Median Days on Market: 23.0<br>Avg Sales-to-Listing Price: 1.02",
          "Cluster Description:<br>Commet 3<br><br>Zip Code: Zip Code: 22556<br>Metro: Washington, DC<br>Homes Sold: 153.0<br>Median Sales Price: $475000.0<br>Median Sales Price YoY: 14.5%<br>New Listings YoY: 38.9%<br>Median Days on Market: 17.0<br>Avg Sales-to-Listing Price: 1.02",
          "Cluster Description:<br>Commet 3<br><br>Zip Code: Zip Code: 23002<br>Metro: Richmond, VA<br>Homes Sold: 40.0<br>Median Sales Price: $310000.0<br>Median Sales Price YoY: 23.5%<br>New Listings YoY: 103.6%<br>Median Days on Market: 15.0<br>Avg Sales-to-Listing Price: 1.0",
          "Cluster Description:<br>Commet 3<br><br>Zip Code: Zip Code: 23072<br>Metro: Virginia Beach, VA<br>Homes Sold: 42.0<br>Median Sales Price: $269250.0<br>Median Sales Price YoY: -12.4%<br>New Listings YoY: 363.6%<br>Median Days on Market: 21.0<br>Avg Sales-to-Listing Price: 1.01",
          "Cluster Description:<br>Commet 3<br><br>Zip Code: Zip Code: 22026<br>Metro: Washington, DC<br>Homes Sold: 51.0<br>Median Sales Price: $610000.0<br>Median Sales Price YoY: 7.0%<br>New Listings YoY: 72.4%<br>Median Days on Market: 19.0<br>Avg Sales-to-Listing Price: 1.02",
          "Cluster Description:<br>Commet 3<br><br>Zip Code: Zip Code: 22042<br>Metro: Washington, DC<br>Homes Sold: 101.0<br>Median Sales Price: $702500.0<br>Median Sales Price YoY: 4.1%<br>New Listings YoY: 20.5%<br>Median Days on Market: 21.5<br>Avg Sales-to-Listing Price: 1.01",
          "Cluster Description:<br>Commet 3<br><br>Zip Code: Zip Code: 23509<br>Metro: Virginia Beach, VA<br>Homes Sold: 112.0<br>Median Sales Price: $232500.0<br>Median Sales Price YoY: 5.9%<br>New Listings YoY: 58.3%<br>Median Days on Market: 20.0<br>Avg Sales-to-Listing Price: 1.01",
          "Cluster Description:<br>Commet 3<br><br>Zip Code: Zip Code: 23875<br>Metro: Richmond, VA<br>Homes Sold: 35.0<br>Median Sales Price: $277000.0<br>Median Sales Price YoY: 19.4%<br>New Listings YoY: 55.2%<br>Median Days on Market: 6.0<br>Avg Sales-to-Listing Price: 1.03",
          "Cluster Description:<br>Commet 3<br><br>Zip Code: Zip Code: 23324<br>Metro: Virginia Beach, VA<br>Homes Sold: 124.0<br>Median Sales Price: $225000.0<br>Median Sales Price YoY: 12.5%<br>New Listings YoY: 25.2%<br>Median Days on Market: 17.5<br>Avg Sales-to-Listing Price: 1.01",
          "Cluster Description:<br>Commet 3<br><br>Zip Code: Zip Code: 22611<br>Metro: Washington, DC<br>Homes Sold: 48.0<br>Median Sales Price: $510000.0<br>Median Sales Price YoY: 21.4%<br>New Listings YoY: 54.5%<br>Median Days on Market: 32.0<br>Avg Sales-to-Listing Price: 1.01",
          "Cluster Description:<br>Commet 3<br><br>Zip Code: Zip Code: 23513<br>Metro: Virginia Beach, VA<br>Homes Sold: 160.0<br>Median Sales Price: $244900.0<br>Median Sales Price YoY: 19.2%<br>New Listings YoY: 42.1%<br>Median Days on Market: 18.0<br>Avg Sales-to-Listing Price: 1.0",
          "Cluster Description:<br>Commet 3<br><br>Zip Code: Zip Code: 23664<br>Metro: Virginia Beach, VA<br>Homes Sold: 92.0<br>Median Sales Price: $275000.0<br>Median Sales Price YoY: 15.1%<br>New Listings YoY: 17.2%<br>Median Days on Market: 16.0<br>Avg Sales-to-Listing Price: 1.02",
          "Cluster Description:<br>Commet 3<br><br>Zip Code: Zip Code: 23508<br>Metro: Virginia Beach, VA<br>Homes Sold: 99.0<br>Median Sales Price: $360000.0<br>Median Sales Price YoY: 9.1%<br>New Listings YoY: 34.6%<br>Median Days on Market: 16.0<br>Avg Sales-to-Listing Price: 1.01",
          "Cluster Description:<br>Commet 3<br><br>Zip Code: Zip Code: 23061<br>Metro: Virginia Beach, VA<br>Homes Sold: 99.0<br>Median Sales Price: $310000.0<br>Median Sales Price YoY: 40.9%<br>New Listings YoY: 365.2%<br>Median Days on Market: 13.0<br>Avg Sales-to-Listing Price: 1.02",
          "Cluster Description:<br>Commet 3<br><br>Zip Code: Zip Code: 20170<br>Metro: Washington, DC<br>Homes Sold: 128.0<br>Median Sales Price: $653250.0<br>Median Sales Price YoY: 2.4%<br>New Listings YoY: 22.0%<br>Median Days on Market: 13.0<br>Avg Sales-to-Listing Price: 1.01",
          "Cluster Description:<br>Commet 3<br><br>Zip Code: Zip Code: 23181<br>Metro: Richmond, VA<br>Homes Sold: 27.0<br>Median Sales Price: $250000.0<br>Median Sales Price YoY: -7.4%<br>New Listings YoY: 23.8%<br>Median Days on Market: 18.5<br>Avg Sales-to-Listing Price: 0.99",
          "Cluster Description:<br>Commet 3<br><br>Zip Code: Zip Code: 20137<br>Metro: Washington, DC<br>Homes Sold: 30.0<br>Median Sales Price: $542440.5<br>Median Sales Price YoY: 0.5%<br>New Listings YoY: 66.7%<br>Median Days on Market: 33.5<br>Avg Sales-to-Listing Price: 1.02",
          "Cluster Description:<br>Commet 3<br><br>Zip Code: Zip Code: 22625<br>Metro: Winchester, VA<br>Homes Sold: 34.0<br>Median Sales Price: $330300.0<br>Median Sales Price YoY: 22.4%<br>New Listings YoY: 59.3%<br>Median Days on Market: 11.0<br>Avg Sales-to-Listing Price: 1.0",
          "Cluster Description:<br>Commet 3<br><br>Zip Code: Zip Code: 23503<br>Metro: Virginia Beach, VA<br>Homes Sold: 154.0<br>Median Sales Price: $282250.0<br>Median Sales Price YoY: 16.2%<br>New Listings YoY: 31.2%<br>Median Days on Market: 18.0<br>Avg Sales-to-Listing Price: 1.02",
          "Cluster Description:<br>Commet 3<br><br>Zip Code: Zip Code: 23607<br>Metro: Virginia Beach, VA<br>Homes Sold: 68.0<br>Median Sales Price: $135750.0<br>Median Sales Price YoY: 8.2%<br>New Listings YoY: 60.7%<br>Median Days on Market: 23.0<br>Avg Sales-to-Listing Price: 0.99",
          "Cluster Description:<br>Commet 3<br><br>Zip Code: Zip Code: 20121<br>Metro: Washington, DC<br>Homes Sold: 28.0<br>Median Sales Price: $725000.0<br>Median Sales Price YoY: 9.0%<br>New Listings YoY: 52.4%<br>Median Days on Market: 8.0<br>Avg Sales-to-Listing Price: 1.02",
          "Cluster Description:<br>Commet 3<br><br>Zip Code: Zip Code: 23325<br>Metro: Virginia Beach, VA<br>Homes Sold: 84.0<br>Median Sales Price: $258500.0<br>Median Sales Price YoY: 12.4%<br>New Listings YoY: 45.5%<br>Median Days on Market: 17.5<br>Avg Sales-to-Listing Price: 1.02",
          "Cluster Description:<br>Commet 3<br><br>Zip Code: Zip Code: 22150<br>Metro: Washington, DC<br>Homes Sold: 55.0<br>Median Sales Price: $577000.0<br>Median Sales Price YoY: 5.9%<br>New Listings YoY: 39.2%<br>Median Days on Market: 24.5<br>Avg Sales-to-Listing Price: 1.0",
          "Cluster Description:<br>Commet 3<br><br>Zip Code: Zip Code: 23860<br>Metro: Richmond, VA<br>Homes Sold: 146.0<br>Median Sales Price: $185000.0<br>Median Sales Price YoY: 12.1%<br>New Listings YoY: 30.6%<br>Median Days on Market: 10.0<br>Avg Sales-to-Listing Price: 1.01",
          "Cluster Description:<br>Commet 3<br><br>Zip Code: Zip Code: 23601<br>Metro: Virginia Beach, VA<br>Homes Sold: 120.0<br>Median Sales Price: $236000.0<br>Median Sales Price YoY: 9.3%<br>New Listings YoY: 22.6%<br>Median Days on Market: 21.0<br>Avg Sales-to-Listing Price: 1.01",
          "Cluster Description:<br>Commet 3<br><br>Zip Code: Zip Code: 23666<br>Metro: Virginia Beach, VA<br>Homes Sold: 212.0<br>Median Sales Price: $247500.0<br>Median Sales Price YoY: 15.1%<br>New Listings YoY: 28.6%<br>Median Days on Market: 17.0<br>Avg Sales-to-Listing Price: 1.02",
          "Cluster Description:<br>Commet 3<br><br>Zip Code: Zip Code: 22551<br>Metro: Washington, DC<br>Homes Sold: 145.0<br>Median Sales Price: $385000.0<br>Median Sales Price YoY: 10.8%<br>New Listings YoY: 25.2%<br>Median Days on Market: 28.0<br>Avg Sales-to-Listing Price: 1.01",
          "Cluster Description:<br>Commet 3<br><br>Zip Code: Zip Code: 22015<br>Metro: Washington, DC<br>Homes Sold: 93.0<br>Median Sales Price: $750000.0<br>Median Sales Price YoY: 10.2%<br>New Listings YoY: 44.4%<br>Median Days on Market: 23.0<br>Avg Sales-to-Listing Price: 1.01",
          "Cluster Description:<br>Commet 3<br><br>Zip Code: Zip Code: 23063<br>Metro: Richmond, VA<br>Homes Sold: 23.0<br>Median Sales Price: $320000.0<br>Median Sales Price YoY: -2.4%<br>New Listings YoY: 68.4%<br>Median Days on Market: 12.0<br>Avg Sales-to-Listing Price: 1.02",
          "Cluster Description:<br>Commet 3<br><br>Zip Code: Zip Code: 23851<br>Metro: Virginia Beach, VA<br>Homes Sold: 46.0<br>Median Sales Price: $213500.0<br>Median Sales Price YoY: 25.8%<br>New Listings YoY: 38.2%<br>Median Days on Market: 21.0<br>Avg Sales-to-Listing Price: 1.0",
          "Cluster Description:<br>Commet 3<br><br>Zip Code: Zip Code: 23605<br>Metro: Virginia Beach, VA<br>Homes Sold: 54.0<br>Median Sales Price: $176000.0<br>Median Sales Price YoY: 21.4%<br>New Listings YoY: 66.7%<br>Median Days on Market: 28.0<br>Avg Sales-to-Listing Price: 1.0",
          "Cluster Description:<br>Commet 3<br><br>Zip Code: Zip Code: 23707<br>Metro: Virginia Beach, VA<br>Homes Sold: 116.0<br>Median Sales Price: $218000.0<br>Median Sales Price YoY: 9.3%<br>New Listings YoY: 42.2%<br>Median Days on Market: 21.0<br>Avg Sales-to-Listing Price: 1.01",
          "Cluster Description:<br>Commet 3<br><br>Zip Code: Zip Code: 23703<br>Metro: Virginia Beach, VA<br>Homes Sold: 133.0<br>Median Sales Price: $267000.0<br>Median Sales Price YoY: 6.8%<br>New Listings YoY: 31.7%<br>Median Days on Market: 18.5<br>Avg Sales-to-Listing Price: 1.01",
          "Cluster Description:<br>Commet 3<br><br>Zip Code: Zip Code: 22406<br>Metro: Washington, DC<br>Homes Sold: 145.0<br>Median Sales Price: $505159.0<br>Median Sales Price YoY: 21.8%<br>New Listings YoY: 53.5%<br>Median Days on Market: 15.0<br>Avg Sales-to-Listing Price: 1.01",
          "Cluster Description:<br>Commet 3<br><br>Zip Code: Zip Code: 22191<br>Metro: Washington, DC<br>Homes Sold: 153.0<br>Median Sales Price: $530000.0<br>Median Sales Price YoY: 10.4%<br>New Listings YoY: 42.5%<br>Median Days on Market: 16.5<br>Avg Sales-to-Listing Price: 1.01",
          "Cluster Description:<br>Commet 3<br><br>Zip Code: Zip Code: 23141<br>Metro: Richmond, VA<br>Homes Sold: 50.0<br>Median Sales Price: $317500.0<br>Median Sales Price YoY: 12.4%<br>New Listings YoY: 36.4%<br>Median Days on Market: 17.0<br>Avg Sales-to-Listing Price: 1.01",
          "Cluster Description:<br>Commet 3<br><br>Zip Code: Zip Code: 23009<br>Metro: Richmond, VA<br>Homes Sold: 44.0<br>Median Sales Price: $285500.0<br>Median Sales Price YoY: 14.2%<br>New Listings YoY: 64.3%<br>Median Days on Market: 7.5<br>Avg Sales-to-Listing Price: 1.0",
          "Cluster Description:<br>Commet 3<br><br>Zip Code: Zip Code: 23504<br>Metro: Virginia Beach, VA<br>Homes Sold: 68.0<br>Median Sales Price: $235499.5<br>Median Sales Price YoY: 4.7%<br>New Listings YoY: 39.7%<br>Median Days on Market: 21.0<br>Avg Sales-to-Listing Price: 1.0",
          "Cluster Description:<br>Commet 3<br><br>Zip Code: Zip Code: 23663<br>Metro: Virginia Beach, VA<br>Homes Sold: 84.0<br>Median Sales Price: $200000.0<br>Median Sales Price YoY: 8.9%<br>New Listings YoY: 54.7%<br>Median Days on Market: 19.0<br>Avg Sales-to-Listing Price: 1.01",
          "Cluster Description:<br>Commet 3<br><br>Zip Code: Zip Code: 23704<br>Metro: Virginia Beach, VA<br>Homes Sold: 110.0<br>Median Sales Price: $222000.0<br>Median Sales Price YoY: 23.4%<br>New Listings YoY: 52.6%<br>Median Days on Market: 26.0<br>Avg Sales-to-Listing Price: 1.0"
         ],
         "type": "scatter",
         "x": [
          -0.094133136480827,
          0.2105939765338871,
          -0.1759886600869897,
          -0.0947790698784293,
          0.1086789721953797,
          -0.0796056228902312,
          0.0584522181373017,
          0.1205551189477118,
          0.025189351972159,
          0.1315509723188917,
          0.0962035488762055,
          -0.3614232272517212,
          0.0676169510970668,
          0.3525415549043992,
          0.093531290098755,
          -0.1059732127686828,
          -0.0167984002830311,
          -0.1245948436876426,
          -0.0897413921024132,
          0.2496642761520474,
          0.2690618297891451,
          -0.0345429484898247,
          -0.0236875537993353,
          0.3168705518313951,
          -0.2826942515777488,
          -0.0579757560795399,
          0.2519133025970036,
          -0.1310341883428542,
          0.0757629190201511,
          -0.0772251628862249,
          0.2774159049048793,
          0.1279737140767315,
          -0.1525475792766911,
          0.2050830847006904,
          0.3295500965443014,
          0.1130268529427869,
          0.0376052428752538,
          -0.0624633132873785,
          -0.0235946200748527,
          0.0518493276915784,
          -0.129966587219114,
          0.2318837557147997,
          0.0543764629676245,
          0.2824573201597178
         ],
         "y": [
          0.1747535117526715,
          0.3128537976455478,
          0.3830465788267526,
          0.1256350950459458,
          0.4231577544748588,
          0.2628671333485479,
          0.6374003359467714,
          0.768229815186146,
          0.5310210728550986,
          0.1281083390251715,
          0.3954774111163178,
          0.4549649848192044,
          0.1705626716470537,
          0.3073141241280766,
          0.2557517235497796,
          0.2391760996398279,
          0.237189944755995,
          0.8376790203460297,
          0.1931816756786974,
          0.1886323300749029,
          0.7050667783687974,
          0.3745904038055384,
          0.1609146967612888,
          0.5387462493036419,
          0.3385283013462477,
          0.2493332729942901,
          0.1703049870726724,
          0.2186219549784366,
          0.1373297912984168,
          0.1916548928919368,
          0.1172214917417731,
          0.2857599371711886,
          0.4016864673211831,
          0.3628272448219316,
          0.4083845582525137,
          0.2695360162640927,
          0.1577021292537712,
          0.3729603498002978,
          0.2702929732055272,
          0.2681736707663339,
          0.4611041353636139,
          0.2297744662165994,
          0.3098527606199444,
          0.3441109976798274
         ]
        },
        {
         "marker": {
          "color": [
           "#0984BD",
           "#0984BD",
           "#0984BD",
           "#0984BD",
           "#0984BD",
           "#0984BD",
           "#0984BD",
           "#0984BD",
           "#0984BD",
           "#0984BD",
           "#0984BD",
           "#0984BD",
           "#0984BD",
           "#0984BD",
           "#0984BD",
           "#0984BD",
           "#0984BD",
           "#0984BD",
           "#0984BD",
           "#0984BD",
           "#0984BD",
           "#0984BD",
           "#0984BD",
           "#0984BD",
           "#0984BD",
           "#0984BD",
           "#0984BD",
           "#0984BD",
           "#0984BD",
           "#0984BD",
           "#0984BD",
           "#0984BD",
           "#0984BD",
           "#0984BD",
           "#0984BD",
           "#0984BD",
           "#0984BD",
           "#0984BD",
           "#0984BD",
           "#0984BD",
           "#0984BD",
           "#0984BD",
           "#0984BD",
           "#0984BD",
           "#0984BD",
           "#0984BD",
           "#0984BD",
           "#0984BD",
           "#0984BD",
           "#0984BD",
           "#0984BD",
           "#0984BD",
           "#0984BD",
           "#0984BD"
          ],
          "line": {
           "width": 2
          },
          "size": [
           0.48457154663999147,
           0.47156601801906656,
           0.5438835352017208,
           0.3684170468916368,
           0.49417812877847156,
           0.44143299124468827,
           0.43824163920982784,
           0.5280893040815929,
           0.3998983290602069,
           0.4671948962577937,
           0.474036652058047,
           0.34945968186176835,
           0.4939857077557714,
           0.4820682503210541,
           0.4152402382092527,
           0.3809074745331486,
           0.6917501142400031,
           0.44517535161410215,
           0.4816933329767365,
           0.4228945274511537,
           0.5834765894884362,
           0.5655103708671247,
           0.5364553648770534,
           0.5040211651674904,
           0.4479405565362027,
           0.17718739869743313,
           0.44074946138381255,
           0.5259704504204652,
           0.5604202108110957,
           0.4303267592283942,
           0.38311731942356986,
           0.5862652032787299,
           0.48962383552158484,
           0.46488158036915855,
           0.493993911028649,
           0.48358106100490106,
           0.4420728241787388,
           0.4912998164823149,
           0.46972086095198023,
           0.49534587064425284,
           0.4488667044573996,
           0.4733018514171433,
           0.46766231982249085,
           0.4622798418035887,
           0.4755276255541632,
           0.46839240999072307,
           0.6422067014410748,
           0.40501289990955186,
           0.44841004822411357,
           0.34580418622955333,
           0.38036048322363847,
           0.4895931918624251,
           0.4981096117214939,
           0.4296857580900094
          ],
          "sizemode": "area",
          "sizeref": 0.006172839506172839
         },
         "mode": "markers",
         "name": "0",
         "text": [
          "Cluster Description:<br>Comment 1<br><br>Zip Code: Zip Code: 20165<br>Metro: Washington, DC<br>Homes Sold: 80.0<br>Median Sales Price: $768750.0<br>Median Sales Price YoY: 15.2%<br>New Listings YoY: -4.8%<br>Median Days on Market: 13.0<br>Avg Sales-to-Listing Price: 1.02",
          "Cluster Description:<br>Comment 1<br><br>Zip Code: Zip Code: 22025<br>Metro: Washington, DC<br>Homes Sold: 73.0<br>Median Sales Price: $551000.0<br>Median Sales Price YoY: 14.1%<br>New Listings YoY: 3.8%<br>Median Days on Market: 11.0<br>Avg Sales-to-Listing Price: 1.02",
          "Cluster Description:<br>Comment 1<br><br>Zip Code: Zip Code: 23238<br>Metro: Richmond, VA<br>Homes Sold: 76.0<br>Median Sales Price: $432500.0<br>Median Sales Price YoY: 20.1%<br>New Listings YoY: 4.8%<br>Median Days on Market: 10.0<br>Avg Sales-to-Listing Price: 1.04",
          "Cluster Description:<br>Comment 1<br><br>Zip Code: Zip Code: 23229<br>Metro: Richmond, VA<br>Homes Sold: 136.0<br>Median Sales Price: $363750.0<br>Median Sales Price YoY: 5.4%<br>New Listings YoY: -6.2%<br>Median Days on Market: 8.0<br>Avg Sales-to-Listing Price: 1.05",
          "Cluster Description:<br>Comment 1<br><br>Zip Code: Zip Code: 22182<br>Metro: Washington, DC<br>Homes Sold: 94.0<br>Median Sales Price: $1119000.0<br>Median Sales Price YoY: 16.0%<br>New Listings YoY: 1.2%<br>Median Days on Market: 16.0<br>Avg Sales-to-Listing Price: 1.02",
          "Cluster Description:<br>Comment 1<br><br>Zip Code: Zip Code: 20152<br>Metro: Washington, DC<br>Homes Sold: 80.0<br>Median Sales Price: $854500.0<br>Median Sales Price YoY: 11.6%<br>New Listings YoY: 1.4%<br>Median Days on Market: 5.5<br>Avg Sales-to-Listing Price: 1.02",
          "Cluster Description:<br>Comment 1<br><br>Zip Code: Zip Code: 23192<br>Metro: Richmond, VA<br>Homes Sold: 31.0<br>Median Sales Price: $424000.0<br>Median Sales Price YoY: 11.3%<br>New Listings YoY: 16.1%<br>Median Days on Market: 10.0<br>Avg Sales-to-Listing Price: 1.02",
          "Cluster Description:<br>Comment 1<br><br>Zip Code: Zip Code: 23832<br>Metro: Richmond, VA<br>Homes Sold: 245.0<br>Median Sales Price: $341000.0<br>Median Sales Price YoY: 18.8%<br>New Listings YoY: -3.0%<br>Median Days on Market: 6.0<br>Avg Sales-to-Listing Price: 1.05",
          "Cluster Description:<br>Comment 1<br><br>Zip Code: Zip Code: 22151<br>Metro: Washington, DC<br>Homes Sold: 48.0<br>Median Sales Price: $622500.0<br>Median Sales Price YoY: 8.1%<br>New Listings YoY: 11.8%<br>Median Days on Market: 13.0<br>Avg Sales-to-Listing Price: 1.03",
          "Cluster Description:<br>Comment 1<br><br>Zip Code: Zip Code: 23225<br>Metro: Richmond, VA<br>Homes Sold: 150.0<br>Median Sales Price: $340000.0<br>Median Sales Price YoY: 13.7%<br>New Listings YoY: 16.9%<br>Median Days on Market: 8.0<br>Avg Sales-to-Listing Price: 1.05",
          "Cluster Description:<br>Comment 1<br><br>Zip Code: Zip Code: 20169<br>Metro: Washington, DC<br>Homes Sold: 139.0<br>Median Sales Price: $780000.0<br>Median Sales Price YoY: 14.3%<br>New Listings YoY: -0.7%<br>Median Days on Market: 9.0<br>Avg Sales-to-Listing Price: 1.01",
          "Cluster Description:<br>Comment 1<br><br>Zip Code: Zip Code: 23005<br>Metro: Richmond, VA<br>Homes Sold: 86.0<br>Median Sales Price: $405000.0<br>Median Sales Price YoY: 3.8%<br>New Listings YoY: -34.9%<br>Median Days on Market: 10.0<br>Avg Sales-to-Listing Price: 1.02",
          "Cluster Description:<br>Comment 1<br><br>Zip Code: Zip Code: 23223<br>Metro: Richmond, VA<br>Homes Sold: 164.0<br>Median Sales Price: $272500.0<br>Median Sales Price YoY: 16.0%<br>New Listings YoY: 19.1%<br>Median Days on Market: 10.5<br>Avg Sales-to-Listing Price: 1.01",
          "Cluster Description:<br>Comment 1<br><br>Zip Code: Zip Code: 23113<br>Metro: Richmond, VA<br>Homes Sold: 119.0<br>Median Sales Price: $557550.0<br>Median Sales Price YoY: 15.0%<br>New Listings YoY: -26.4%<br>Median Days on Market: 9.0<br>Avg Sales-to-Listing Price: 1.04",
          "Cluster Description:<br>Comment 1<br><br>Zip Code: Zip Code: 23231<br>Metro: Richmond, VA<br>Homes Sold: 142.0<br>Median Sales Price: $260000.0<br>Median Sales Price YoY: 9.4%<br>New Listings YoY: 32.0%<br>Median Days on Market: 6.0<br>Avg Sales-to-Listing Price: 1.04",
          "Cluster Description:<br>Comment 1<br><br>Zip Code: Zip Code: 23227<br>Metro: Richmond, VA<br>Homes Sold: 87.0<br>Median Sales Price: $345000.0<br>Median Sales Price YoY: 6.5%<br>New Listings YoY: 31.2%<br>Median Days on Market: 7.0<br>Avg Sales-to-Listing Price: 1.05",
          "Cluster Description:<br>Comment 1<br><br>Zip Code: Zip Code: 23075<br>Metro: Richmond, VA<br>Homes Sold: 53.0<br>Median Sales Price: $220000.0<br>Median Sales Price YoY: 32.5%<br>New Listings YoY: 11.1%<br>Median Days on Market: 6.5<br>Avg Sales-to-Listing Price: 1.03",
          "Cluster Description:<br>Comment 1<br><br>Zip Code: Zip Code: 23836<br>Metro: Richmond, VA<br>Homes Sold: 86.0<br>Median Sales Price: $382250.0<br>Median Sales Price YoY: 11.9%<br>New Listings YoY: -15.9%<br>Median Days on Market: 11.5<br>Avg Sales-to-Listing Price: 1.02",
          "Cluster Description:<br>Comment 1<br><br>Zip Code: Zip Code: 23233<br>Metro: Richmond, VA<br>Homes Sold: 110.0<br>Median Sales Price: $435000.0<br>Median Sales Price YoY: 14.9%<br>New Listings YoY: 15.2%<br>Median Days on Market: 9.0<br>Avg Sales-to-Listing Price: 1.05",
          "Cluster Description:<br>Comment 1<br><br>Zip Code: Zip Code: 23236<br>Metro: Richmond, VA<br>Homes Sold: 149.0<br>Median Sales Price: $308000.0<br>Median Sales Price YoY: 10.0%<br>New Listings YoY: 9.4%<br>Median Days on Market: 9.0<br>Avg Sales-to-Listing Price: 1.04",
          "Cluster Description:<br>Comment 1<br><br>Zip Code: Zip Code: 23224<br>Metro: Richmond, VA<br>Homes Sold: 113.0<br>Median Sales Price: $200000.0<br>Median Sales Price YoY: 23.5%<br>New Listings YoY: 22.7%<br>Median Days on Market: 9.0<br>Avg Sales-to-Listing Price: 1.03",
          "Cluster Description:<br>Comment 1<br><br>Zip Code: Zip Code: 23234<br>Metro: Richmond, VA<br>Homes Sold: 157.0<br>Median Sales Price: $250000.0<br>Median Sales Price YoY: 22.0%<br>New Listings YoY: 19.4%<br>Median Days on Market: 7.5<br>Avg Sales-to-Listing Price: 1.04",
          "Cluster Description:<br>Comment 1<br><br>Zip Code: Zip Code: 20155<br>Metro: Washington, DC<br>Homes Sold: 145.0<br>Median Sales Price: $692000.0<br>Median Sales Price YoY: 19.5%<br>New Listings YoY: -3.8%<br>Median Days on Market: 7.0<br>Avg Sales-to-Listing Price: 1.02",
          "Cluster Description:<br>Comment 1<br><br>Zip Code: Zip Code: 23059<br>Metro: Richmond, VA<br>Homes Sold: 164.0<br>Median Sales Price: $591000.0<br>Median Sales Price YoY: 16.8%<br>New Listings YoY: -21.6%<br>Median Days on Market: 11.0<br>Avg Sales-to-Listing Price: 1.04",
          "Cluster Description:<br>Comment 1<br><br>Zip Code: Zip Code: 22033<br>Metro: Washington, DC<br>Homes Sold: 41.0<br>Median Sales Price: $737050.0<br>Median Sales Price YoY: 12.1%<br>New Listings YoY: -43.4%<br>Median Days on Market: 7.0<br>Avg Sales-to-Listing Price: 1.03",
          "Cluster Description:<br>Comment 1<br><br>Zip Code: Zip Code: 22041<br>Metro: Washington, DC<br>Homes Sold: 24.0<br>Median Sales Price: $772500.0<br>Median Sales Price YoY: -10.6%<br>New Listings YoY: 4.2%<br>Median Days on Market: 13.0<br>Avg Sales-to-Listing Price: 1.03",
          "Cluster Description:<br>Comment 1<br><br>Zip Code: Zip Code: 22180<br>Metro: Washington, DC<br>Homes Sold: 69.0<br>Median Sales Price: $965000.0<br>Median Sales Price YoY: 11.5%<br>New Listings YoY: -11.0%<br>Median Days on Market: 8.0<br>Avg Sales-to-Listing Price: 1.02",
          "Cluster Description:<br>Comment 1<br><br>Zip Code: Zip Code: 20148<br>Metro: Washington, DC<br>Homes Sold: 102.0<br>Median Sales Price: $958000.0<br>Median Sales Price YoY: 18.6%<br>New Listings YoY: 5.4%<br>Median Days on Market: 6.0<br>Avg Sales-to-Listing Price: 1.03",
          "Cluster Description:<br>Comment 1<br><br>Zip Code: Zip Code: 23222<br>Metro: Richmond, VA<br>Homes Sold: 124.0<br>Median Sales Price: $271000.0<br>Median Sales Price YoY: 21.5%<br>New Listings YoY: 4.9%<br>Median Days on Market: 10.0<br>Avg Sales-to-Listing Price: 1.02",
          "Cluster Description:<br>Comment 1<br><br>Zip Code: Zip Code: 23112<br>Metro: Richmond, VA<br>Homes Sold: 392.0<br>Median Sales Price: $365000.0<br>Median Sales Price YoY: 10.6%<br>New Listings YoY: -5.5%<br>Median Days on Market: 8.0<br>Avg Sales-to-Listing Price: 1.04",
          "Cluster Description:<br>Comment 1<br><br>Zip Code: Zip Code: 20147<br>Metro: Washington, DC<br>Homes Sold: 131.0<br>Median Sales Price: $800000.0<br>Median Sales Price YoY: 6.7%<br>New Listings YoY: 4.2%<br>Median Days on Market: 11.0<br>Avg Sales-to-Listing Price: 1.02",
          "Cluster Description:<br>Comment 1<br><br>Zip Code: Zip Code: 23150<br>Metro: Richmond, VA<br>Homes Sold: 68.0<br>Median Sales Price: $259750.0<br>Median Sales Price YoY: 23.7%<br>New Listings YoY: -4.3%<br>Median Days on Market: 7.5<br>Avg Sales-to-Listing Price: 1.03",
          "Cluster Description:<br>Comment 1<br><br>Zip Code: Zip Code: 23116<br>Metro: Richmond, VA<br>Homes Sold: 189.0<br>Median Sales Price: $445000.0<br>Median Sales Price YoY: 15.6%<br>New Listings YoY: -20.1%<br>Median Days on Market: 13.0<br>Avg Sales-to-Listing Price: 1.02",
          "Cluster Description:<br>Comment 1<br><br>Zip Code: Zip Code: 23831<br>Metro: Richmond, VA<br>Homes Sold: 204.0<br>Median Sales Price: $306500.0<br>Median Sales Price YoY: 13.5%<br>New Listings YoY: -15.4%<br>Median Days on Market: 9.0<br>Avg Sales-to-Listing Price: 1.03",
          "Cluster Description:<br>Comment 1<br><br>Zip Code: Zip Code: 23120<br>Metro: Richmond, VA<br>Homes Sold: 131.0<br>Median Sales Price: $509636.0<br>Median Sales Price YoY: 16.0%<br>New Listings YoY: -6.8%<br>Median Days on Market: 12.0<br>Avg Sales-to-Listing Price: 1.03",
          "Cluster Description:<br>Comment 1<br><br>Zip Code: Zip Code: 22181<br>Metro: Washington, DC<br>Homes Sold: 43.0<br>Median Sales Price: $1110000.0<br>Median Sales Price YoY: 15.1%<br>New Listings YoY: 15.0%<br>Median Days on Market: 8.0<br>Avg Sales-to-Listing Price: 1.04",
          "Cluster Description:<br>Comment 1<br><br>Zip Code: Zip Code: 23139<br>Metro: Richmond, VA<br>Homes Sold: 149.0<br>Median Sales Price: $375000.0<br>Median Sales Price YoY: 11.6%<br>New Listings YoY: -3.9%<br>Median Days on Market: 10.0<br>Avg Sales-to-Listing Price: 1.02",
          "Cluster Description:<br>Comment 1<br><br>Zip Code: Zip Code: 20194<br>Metro: Washington, DC<br>Homes Sold: 24.0<br>Median Sales Price: $960000.0<br>Median Sales Price YoY: 15.7%<br>New Listings YoY: -34.2%<br>Median Days on Market: 8.0<br>Avg Sales-to-Listing Price: 1.01",
          "Cluster Description:<br>Comment 1<br><br>Zip Code: Zip Code: 23228<br>Metro: Richmond, VA<br>Homes Sold: 126.0<br>Median Sales Price: $270000.0<br>Median Sales Price YoY: 13.9%<br>New Listings YoY: 6.8%<br>Median Days on Market: 10.0<br>Avg Sales-to-Listing Price: 1.04",
          "Cluster Description:<br>Comment 1<br><br>Zip Code: Zip Code: 20136<br>Metro: Washington, DC<br>Homes Sold: 114.0<br>Median Sales Price: $650000.0<br>Median Sales Price YoY: 16.1%<br>New Listings YoY: -7.7%<br>Median Days on Market: 6.0<br>Avg Sales-to-Listing Price: 1.03",
          "Cluster Description:<br>Comment 1<br><br>Zip Code: Zip Code: 23294<br>Metro: Richmond, VA<br>Homes Sold: 44.0<br>Median Sales Price: $286050.0<br>Median Sales Price YoY: 12.2%<br>New Listings YoY: -14.0%<br>Median Days on Market: 11.0<br>Avg Sales-to-Listing Price: 1.03",
          "Cluster Description:<br>Comment 1<br><br>Zip Code: Zip Code: 23237<br>Metro: Richmond, VA<br>Homes Sold: 121.0<br>Median Sales Price: $265000.0<br>Median Sales Price YoY: 14.2%<br>New Listings YoY: -10.9%<br>Median Days on Market: 7.0<br>Avg Sales-to-Listing Price: 1.03",
          "Cluster Description:<br>Comment 1<br><br>Zip Code: Zip Code: 23103<br>Metro: Richmond, VA<br>Homes Sold: 28.0<br>Median Sales Price: $699572.0<br>Median Sales Price YoY: 13.8%<br>New Listings YoY: -10.5%<br>Median Days on Market: 16.5<br>Avg Sales-to-Listing Price: 1.03",
          "Cluster Description:<br>Comment 1<br><br>Zip Code: Zip Code: 23834<br>Metro: Richmond, VA<br>Homes Sold: 147.0<br>Median Sales Price: $230000.0<br>Median Sales Price YoY: 13.3%<br>New Listings YoY: 22.2%<br>Median Days on Market: 10.0<br>Avg Sales-to-Listing Price: 1.02",
          "Cluster Description:<br>Comment 1<br><br>Zip Code: Zip Code: 20141<br>Metro: Washington, DC<br>Homes Sold: 48.0<br>Median Sales Price: $675000.0<br>Median Sales Price YoY: 14.4%<br>New Listings YoY: 18.6%<br>Median Days on Market: 5.5<br>Avg Sales-to-Listing Price: 1.02",
          "Cluster Description:<br>Comment 1<br><br>Zip Code: Zip Code: 23235<br>Metro: Richmond, VA<br>Homes Sold: 145.0<br>Median Sales Price: $330000.0<br>Median Sales Price YoY: 13.8%<br>New Listings YoY: -0.8%<br>Median Days on Market: 7.0<br>Avg Sales-to-Listing Price: 1.04",
          "Cluster Description:<br>Comment 1<br><br>Zip Code: Zip Code: 20124<br>Metro: Washington, DC<br>Homes Sold: 47.0<br>Median Sales Price: $950000.0<br>Median Sales Price YoY: 28.4%<br>New Listings YoY: -1.9%<br>Median Days on Market: 9.5<br>Avg Sales-to-Listing Price: 1.02",
          "Cluster Description:<br>Comment 1<br><br>Zip Code: Zip Code: 23111<br>Metro: Richmond, VA<br>Homes Sold: 178.0<br>Median Sales Price: $303750.0<br>Median Sales Price YoY: 8.5%<br>New Listings YoY: -17.3%<br>Median Days on Market: 8.0<br>Avg Sales-to-Listing Price: 1.03",
          "Cluster Description:<br>Comment 1<br><br>Zip Code: Zip Code: 23060<br>Metro: Richmond, VA<br>Homes Sold: 172.0<br>Median Sales Price: $370000.0<br>Median Sales Price YoY: 12.1%<br>New Listings YoY: 17.1%<br>Median Days on Market: 8.0<br>Avg Sales-to-Listing Price: 1.04",
          "Cluster Description:<br>Comment 1<br><br>Zip Code: Zip Code: 23221<br>Metro: Richmond, VA<br>Homes Sold: 53.0<br>Median Sales Price: $585000.0<br>Median Sales Price YoY: 3.5%<br>New Listings YoY: -12.1%<br>Median Days on Market: 11.5<br>Avg Sales-to-Listing Price: 1.06",
          "Cluster Description:<br>Comment 1<br><br>Zip Code: Zip Code: 23226<br>Metro: Richmond, VA<br>Homes Sold: 106.0<br>Median Sales Price: $430000.0<br>Median Sales Price YoY: 6.4%<br>New Listings YoY: -24.3%<br>Median Days on Market: 9.0<br>Avg Sales-to-Listing Price: 1.05",
          "Cluster Description:<br>Comment 1<br><br>Zip Code: Zip Code: 23114<br>Metro: Richmond, VA<br>Homes Sold: 88.0<br>Median Sales Price: $380000.0<br>Median Sales Price YoY: 15.6%<br>New Listings YoY: -4.6%<br>Median Days on Market: 7.0<br>Avg Sales-to-Listing Price: 1.04",
          "Cluster Description:<br>Comment 1<br><br>Zip Code: Zip Code: 20105<br>Metro: Washington, DC<br>Homes Sold: 124.0<br>Median Sales Price: $959500.0<br>Median Sales Price YoY: 16.3%<br>New Listings YoY: -10.3%<br>Median Days on Market: 10.0<br>Avg Sales-to-Listing Price: 1.03",
          "Cluster Description:<br>Comment 1<br><br>Zip Code: Zip Code: 23838<br>Metro: Richmond, VA<br>Homes Sold: 108.0<br>Median Sales Price: $442000.0<br>Median Sales Price YoY: 10.6%<br>New Listings YoY: -5.9%<br>Median Days on Market: 8.0<br>Avg Sales-to-Listing Price: 1.02"
         ],
         "type": "scatter",
         "x": [
          -0.1735886391824027,
          -0.1997124725283814,
          -0.4563099343373052,
          -0.5175348183595763,
          -0.1443684666649208,
          -0.3567679492288802,
          -0.2222202309023261,
          -0.557855998183962,
          -0.2136208657480651,
          -0.5045731820108086,
          -0.2121367439328915,
          -0.2631508120624523,
          -0.1538881733421598,
          -0.4797420766395174,
          -0.4567968759467696,
          -0.5189978777887487,
          -0.4257681945112886,
          -0.2231755963201128,
          -0.49048657450366,
          -0.4280660744870078,
          -0.301971708045666,
          -0.4452949144900773,
          -0.3376294712195578,
          -0.420787242880505,
          -0.4227870407873995,
          -0.232319567225302,
          -0.3226446838664703,
          -0.3737879418949578,
          -0.2151425997389064,
          -0.5000914321877425,
          -0.2527781581065584,
          -0.3818487197763521,
          -0.1782892333051234,
          -0.3600906395624605,
          -0.2905228200055069,
          -0.4339044016726917,
          -0.2445405210055856,
          -0.2053936423451843,
          -0.3802663260939422,
          -0.4231065881106113,
          -0.2802367655281194,
          -0.4089458681546126,
          -0.1999189707135922,
          -0.261519392603341,
          -0.3708284813312851,
          -0.4956202417652739,
          -0.2237585973956187,
          -0.332627481503256,
          -0.464094984607486,
          -0.4428917874154382,
          -0.5030400568755291,
          -0.4684833142305757,
          -0.3066993693601665,
          -0.2867610804012402
         ],
         "y": [
          -0.1243755447487914,
          -0.0483535043853893,
          -0.0414976351920715,
          -0.1329845707837907,
          -0.0468118770685682,
          -0.0715153945502588,
          0.0743949099741695,
          -0.0779334586945908,
          -0.0111342122311699,
          0.1477853152688813,
          -0.0781058329029377,
          -0.3381903151941454,
          0.0876250831864476,
          -0.2952674963430212,
          0.2145664762762246,
          0.147861542351553,
          0.0888739552744342,
          -0.1794721277401689,
          0.0719178803244045,
          -0.0020041451880137,
          0.2420724150333581,
          0.2019330680030703,
          -0.0796491915010489,
          -0.2503819777741465,
          -0.4461422839473497,
          0.0099306747090422,
          -0.190159227297037,
          -0.0059008916614519,
          -0.0263238495848955,
          -0.0879195410491285,
          -0.0135586804275522,
          -0.0599457010437645,
          -0.2138026445603578,
          -0.1469170745477333,
          -0.1110987352058749,
          0.0635419629965122,
          -0.0670936616652101,
          -0.3940452661181862,
          0.084399057013682,
          -0.1273770216678346,
          -0.137026138080995,
          -0.1255367709219964,
          -0.1982053630283992,
          0.1897512058838656,
          0.0784915672620167,
          -0.0640771185334296,
          -0.0505740996332666,
          -0.1839706575247627,
          0.1485870429531408,
          -0.179327142293756,
          -0.2439588413644646,
          -0.0970744453467,
          -0.1636149442860877,
          -0.1124974690809803
         ]
        },
        {
         "marker": {
          "color": [
           "#E12906",
           "#E12906",
           "#E12906",
           "#E12906",
           "#E12906",
           "#E12906",
           "#E12906",
           "#E12906",
           "#E12906",
           "#E12906",
           "#E12906",
           "#E12906",
           "#E12906",
           "#E12906",
           "#E12906",
           "#E12906",
           "#E12906",
           "#E12906",
           "#E12906",
           "#E12906",
           "#E12906",
           "#E12906",
           "#E12906",
           "#E12906",
           "#E12906",
           "#E12906",
           "#E12906",
           "#E12906",
           "#E12906",
           "#E12906",
           "#E12906",
           "#E12906",
           "#E12906",
           "#E12906",
           "#E12906",
           "#E12906",
           "#E12906",
           "#E12906",
           "#E12906",
           "#E12906",
           "#E12906",
           "#E12906",
           "#E12906",
           "#E12906",
           "#E12906",
           "#E12906",
           "#E12906",
           "#E12906",
           "#E12906",
           "#E12906",
           "#E12906",
           "#E12906",
           "#E12906",
           "#E12906",
           "#E12906",
           "#E12906",
           "#E12906",
           "#E12906",
           "#E12906",
           "#E12906",
           "#E12906",
           "#E12906",
           "#E12906",
           "#E12906",
           "#E12906",
           "#E12906",
           "#E12906",
           "#E12906",
           "#E12906",
           "#E12906",
           "#E12906",
           "#E12906",
           "#E12906",
           "#E12906",
           "#E12906",
           "#E12906",
           "#E12906",
           "#E12906",
           "#E12906"
          ],
          "line": {
           "width": 2
          },
          "size": [
           0.29521872509458696,
           0.49434386977029315,
           0.42678577606254753,
           0.4058471525821891,
           0.5024489435063213,
           0.38935688146711234,
           0.43104400421778066,
           0.4512207210465542,
           0.3562510906125765,
           0.32877380986475824,
           0.45482834234653785,
           0.45429758642029866,
           0.427009411040214,
           0.3199658757509111,
           0.4496589059954278,
           0.45417563279323403,
           0.34102126070379524,
           0.40857473256122356,
           0.48372276927066404,
           0.3979980015633853,
           0.27833225458035005,
           0.3568031664207069,
           0.43957152305300473,
           0.4516491356638648,
           0.3252845968989898,
           0.45661868208323564,
           0.3605053795904622,
           0.4470629576451285,
           0.38832950530304633,
           0.21425555818886657,
           0.49496610239222116,
           0.39661218616890603,
           0.2960734708945895,
           0.4190451202226777,
           0.3878491806015723,
           0.38551071585165203,
           0.25617489380485503,
           0.4885269206966669,
           0.3693583310459924,
           0.4600869349570893,
           0.43964079990876687,
           0.390035094732715,
           0.44812464225722115,
           0.4384961885503118,
           0.3736037477550299,
           0.474036652058047,
           0.30292362681081625,
           0.34471173925900633,
           0.43255058882016845,
           0.4460141689422471,
           0.39471586206621817,
           0.3693252221677745,
           0.3751618778180532,
           0.4320051753975913,
           0.43422520524168295,
           0.4016974626469806,
           0.45869401467597887,
           0,
           0.35035961869497156,
           0.3785917688096531,
           0.21895957926170623,
           0.31543669680947206,
           0.3168219727109302,
           0.3663690213066924,
           0.47040955102209725,
           0.43877952649795926,
           0.44395304934810975,
           0.3965404256861028,
           0.37973202512334997,
           0.41568657700320233,
           0.34859370490906316,
           0.38809766177957694,
           0.5005357017093005,
           0.45576035367727186,
           0.3274590984287782,
           0.323287138753981,
           0.5822937041456316,
           0.4275276065094674,
           0.39246325368793067
          ],
          "sizemode": "area",
          "sizeref": 0.006172839506172839
         },
         "mode": "markers",
         "name": "1",
         "text": [
          "Cluster Description:<br>Comment 2<br><br>Zip Code: Zip Code: 23487<br>Metro: Virginia Beach, VA<br>Homes Sold: 25.0<br>Median Sales Price: $300000.0<br>Median Sales Price YoY: -0.7%<br>New Listings YoY: -14.3%<br>Median Days on Market: 12.0<br>Avg Sales-to-Listing Price: 0.98",
          "Cluster Description:<br>Comment 2<br><br>Zip Code: Zip Code: 20132<br>Metro: Washington, DC<br>Homes Sold: 79.0<br>Median Sales Price: $740000.0<br>Median Sales Price YoY: 16.0%<br>New Listings YoY: -12.0%<br>Median Days on Market: 26.5<br>Avg Sales-to-Listing Price: 1.03",
          "Cluster Description:<br>Comment 2<br><br>Zip Code: Zip Code: 20110<br>Metro: Washington, DC<br>Homes Sold: 108.0<br>Median Sales Price: $507500.0<br>Median Sales Price YoY: 10.3%<br>New Listings YoY: -9.5%<br>Median Days on Market: 20.5<br>Avg Sales-to-Listing Price: 1.01",
          "Cluster Description:<br>Comment 2<br><br>Zip Code: Zip Code: 22079<br>Metro: Washington, DC<br>Homes Sold: 59.0<br>Median Sales Price: $760000.0<br>Median Sales Price YoY: 8.6%<br>New Listings YoY: -1.6%<br>Median Days on Market: 15.0<br>Avg Sales-to-Listing Price: 1.0",
          "Cluster Description:<br>Comment 2<br><br>Zip Code: Zip Code: 20111<br>Metro: Washington, DC<br>Homes Sold: 95.0<br>Median Sales Price: $525000.0<br>Median Sales Price YoY: 16.7%<br>New Listings YoY: 20.0%<br>Median Days on Market: 27.0<br>Avg Sales-to-Listing Price: 1.02",
          "Cluster Description:<br>Comment 2<br><br>Zip Code: Zip Code: 23692<br>Metro: Virginia Beach, VA<br>Homes Sold: 67.0<br>Median Sales Price: $410000.0<br>Median Sales Price YoY: 7.2%<br>New Listings YoY: -3.1%<br>Median Days on Market: 18.0<br>Avg Sales-to-Listing Price: 1.01",
          "Cluster Description:<br>Comment 2<br><br>Zip Code: Zip Code: 22031<br>Metro: Washington, DC<br>Homes Sold: 47.0<br>Median Sales Price: $907600.0<br>Median Sales Price YoY: 10.7%<br>New Listings YoY: -5.4%<br>Median Days on Market: 18.0<br>Avg Sales-to-Listing Price: 1.02",
          "Cluster Description:<br>Comment 2<br><br>Zip Code: Zip Code: 23701<br>Metro: Virginia Beach, VA<br>Homes Sold: 148.0<br>Median Sales Price: $222500.0<br>Median Sales Price YoY: 12.4%<br>New Listings YoY: 2.8%<br>Median Days on Market: 21.0<br>Avg Sales-to-Listing Price: 1.02",
          "Cluster Description:<br>Comment 2<br><br>Zip Code: Zip Code: 23693<br>Metro: Virginia Beach, VA<br>Homes Sold: 108.0<br>Median Sales Price: $437500.0<br>Median Sales Price YoY: 4.4%<br>New Listings YoY: 1.3%<br>Median Days on Market: 26.0<br>Avg Sales-to-Listing Price: 1.01",
          "Cluster Description:<br>Comment 2<br><br>Zip Code: Zip Code: 20120<br>Metro: Washington, DC<br>Homes Sold: 86.0<br>Median Sales Price: $725000.0<br>Median Sales Price YoY: 2.1%<br>New Listings YoY: -7.5%<br>Median Days on Market: 16.0<br>Avg Sales-to-Listing Price: 1.02",
          "Cluster Description:<br>Comment 2<br><br>Zip Code: Zip Code: 23434<br>Metro: Virginia Beach, VA<br>Homes Sold: 357.0<br>Median Sales Price: $320000.0<br>Median Sales Price YoY: 12.7%<br>New Listings YoY: 2.0%<br>Median Days on Market: 23.5<br>Avg Sales-to-Listing Price: 1.02",
          "Cluster Description:<br>Comment 2<br><br>Zip Code: Zip Code: 23805<br>Metro: Richmond, VA<br>Homes Sold: 65.0<br>Median Sales Price: $214000.0<br>Median Sales Price YoY: 12.6%<br>New Listings YoY: -16.1%<br>Median Days on Market: 13.0<br>Avg Sales-to-Listing Price: 1.01",
          "Cluster Description:<br>Comment 2<br><br>Zip Code: Zip Code: 22601<br>Metro: Winchester, VA<br>Homes Sold: 113.0<br>Median Sales Price: $320000.0<br>Median Sales Price YoY: 10.3%<br>New Listings YoY: 16.7%<br>Median Days on Market: 25.0<br>Avg Sales-to-Listing Price: 1.0",
          "Cluster Description:<br>Comment 2<br><br>Zip Code: Zip Code: 23606<br>Metro: Virginia Beach, VA<br>Homes Sold: 84.0<br>Median Sales Price: $295000.0<br>Median Sales Price YoY: 1.4%<br>New Listings YoY: 7.5%<br>Median Days on Market: 21.0<br>Avg Sales-to-Listing Price: 1.01",
          "Cluster Description:<br>Comment 2<br><br>Zip Code: Zip Code: 22408<br>Metro: Washington, DC<br>Homes Sold: 143.0<br>Median Sales Price: $392850.0<br>Median Sales Price YoY: 12.2%<br>New Listings YoY: 10.3%<br>Median Days on Market: 14.0<br>Avg Sales-to-Listing Price: 1.01",
          "Cluster Description:<br>Comment 2<br><br>Zip Code: Zip Code: 23505<br>Metro: Virginia Beach, VA<br>Homes Sold: 121.0<br>Median Sales Price: $290000.0<br>Median Sales Price YoY: 12.6%<br>New Listings YoY: 0.8%<br>Median Days on Market: 15.0<br>Avg Sales-to-Listing Price: 1.0",
          "Cluster Description:<br>Comment 2<br><br>Zip Code: Zip Code: 22301<br>Metro: Washington, DC<br>Homes Sold: 25.0<br>Median Sales Price: $1150000.0<br>Median Sales Price YoY: 3.1%<br>New Listings YoY: -50.0%<br>Median Days on Market: 16.0<br>Avg Sales-to-Listing Price: 1.02",
          "Cluster Description:<br>Comment 2<br><br>Zip Code: Zip Code: 22066<br>Metro: Washington, DC<br>Homes Sold: 93.0<br>Median Sales Price: $1360000.0<br>Median Sales Price YoY: 8.8%<br>New Listings YoY: -6.1%<br>Median Days on Market: 19.0<br>Avg Sales-to-Listing Price: 1.02",
          "Cluster Description:<br>Comment 2<br><br>Zip Code: Zip Code: 23430<br>Metro: Virginia Beach, VA<br>Homes Sold: 90.0<br>Median Sales Price: $410000.0<br>Median Sales Price YoY: 15.1%<br>New Listings YoY: 20.0%<br>Median Days on Market: 24.0<br>Avg Sales-to-Listing Price: 1.01",
          "Cluster Description:<br>Comment 2<br><br>Zip Code: Zip Code: 23669<br>Metro: Virginia Beach, VA<br>Homes Sold: 197.0<br>Median Sales Price: $240000.0<br>Median Sales Price YoY: 7.9%<br>New Listings YoY: 9.5%<br>Median Days on Market: 19.0<br>Avg Sales-to-Listing Price: 1.01",
          "Cluster Description:<br>Comment 2<br><br>Zip Code: Zip Code: 22207<br>Metro: Washington, DC<br>Homes Sold: 117.0<br>Median Sales Price: $1250000.0<br>Median Sales Price YoY: -2.1%<br>New Listings YoY: -17.0%<br>Median Days on Market: 28.0<br>Avg Sales-to-Listing Price: 1.0",
          "Cluster Description:<br>Comment 2<br><br>Zip Code: Zip Code: 22309<br>Metro: Washington, DC<br>Homes Sold: 80.0<br>Median Sales Price: $679000.0<br>Median Sales Price YoY: 4.5%<br>New Listings YoY: 8.0%<br>Median Days on Market: 26.0<br>Avg Sales-to-Listing Price: 1.01",
          "Cluster Description:<br>Comment 2<br><br>Zip Code: Zip Code: 22172<br>Metro: Washington, DC<br>Homes Sold: 31.0<br>Median Sales Price: $549900.0<br>Median Sales Price YoY: 11.4%<br>New Listings YoY: 12.5%<br>Median Days on Market: 16.0<br>Avg Sales-to-Listing Price: 1.01",
          "Cluster Description:<br>Comment 2<br><br>Zip Code: Zip Code: 23518<br>Metro: Virginia Beach, VA<br>Homes Sold: 145.0<br>Median Sales Price: $279900.0<br>Median Sales Price YoY: 12.4%<br>New Listings YoY: 9.4%<br>Median Days on Market: 15.0<br>Avg Sales-to-Listing Price: 1.02",
          "Cluster Description:<br>Comment 2<br><br>Zip Code: Zip Code: 23451<br>Metro: Virginia Beach, VA<br>Homes Sold: 98.0<br>Median Sales Price: $728015.0<br>Median Sales Price YoY: 1.8%<br>New Listings YoY: -15.0%<br>Median Days on Market: 18.0<br>Avg Sales-to-Listing Price: 1.0",
          "Cluster Description:<br>Comment 2<br><br>Zip Code: Zip Code: 23502<br>Metro: Virginia Beach, VA<br>Homes Sold: 97.0<br>Median Sales Price: $259500.0<br>Median Sales Price YoY: 12.8%<br>New Listings YoY: 2.2%<br>Median Days on Market: 18.0<br>Avg Sales-to-Listing Price: 1.02",
          "Cluster Description:<br>Comment 2<br><br>Zip Code: Zip Code: 22046<br>Metro: Washington, DC<br>Homes Sold: 43.0<br>Median Sales Price: $1010000.0<br>Median Sales Price YoY: 4.8%<br>New Listings YoY: -18.2%<br>Median Days on Market: 20.0<br>Avg Sales-to-Listing Price: 1.01",
          "Cluster Description:<br>Comment 2<br><br>Zip Code: Zip Code: 20176<br>Metro: Washington, DC<br>Homes Sold: 137.0<br>Median Sales Price: $885000.0<br>Median Sales Price YoY: 12.0%<br>New Listings YoY: -20.7%<br>Median Days on Market: 15.0<br>Avg Sales-to-Listing Price: 1.01",
          "Cluster Description:<br>Comment 2<br><br>Zip Code: Zip Code: 22101<br>Metro: Washington, DC<br>Homes Sold: 139.0<br>Median Sales Price: $1553000.0<br>Median Sales Price YoY: 7.1%<br>New Listings YoY: -19.9%<br>Median Days on Market: 26.5<br>Avg Sales-to-Listing Price: 1.01",
          "Cluster Description:<br>Comment 2<br><br>Zip Code: Zip Code: 20151<br>Metro: Washington, DC<br>Homes Sold: 55.0<br>Median Sales Price: $649000.0<br>Median Sales Price YoY: -7.5%<br>New Listings YoY: -13.0%<br>Median Days on Market: 18.0<br>Avg Sales-to-Listing Price: 1.02",
          "Cluster Description:<br>Comment 2<br><br>Zip Code: Zip Code: 22192<br>Metro: Washington, DC<br>Homes Sold: 146.0<br>Median Sales Price: $586000.0<br>Median Sales Price YoY: 16.0%<br>New Listings YoY: -0.7%<br>Median Days on Market: 23.0<br>Avg Sales-to-Listing Price: 1.02",
          "Cluster Description:<br>Comment 2<br><br>Zip Code: Zip Code: 23454<br>Metro: Virginia Beach, VA<br>Homes Sold: 212.0<br>Median Sales Price: $394000.0<br>Median Sales Price YoY: 7.8%<br>New Listings YoY: 0.5%<br>Median Days on Market: 14.0<br>Avg Sales-to-Listing Price: 1.02",
          "Cluster Description:<br>Comment 2<br><br>Zip Code: Zip Code: 22205<br>Metro: Washington, DC<br>Homes Sold: 69.0<br>Median Sales Price: $950000.0<br>Median Sales Price YoY: -0.6%<br>New Listings YoY: -12.3%<br>Median Days on Market: 21.0<br>Avg Sales-to-Listing Price: 1.01",
          "Cluster Description:<br>Comment 2<br><br>Zip Code: Zip Code: 23464<br>Metro: Virginia Beach, VA<br>Homes Sold: 318.0<br>Median Sales Price: $340000.0<br>Median Sales Price YoY: 9.7%<br>New Listings YoY: 4.6%<br>Median Days on Market: 15.0<br>Avg Sales-to-Listing Price: 1.02",
          "Cluster Description:<br>Comment 2<br><br>Zip Code: Zip Code: 22153<br>Metro: Washington, DC<br>Homes Sold: 97.0<br>Median Sales Price: $720000.0<br>Median Sales Price YoY: 7.1%<br>New Listings YoY: 18.2%<br>Median Days on Market: 25.0<br>Avg Sales-to-Listing Price: 1.02",
          "Cluster Description:<br>Comment 2<br><br>Zip Code: Zip Code: 22030<br>Metro: Washington, DC<br>Homes Sold: 107.0<br>Median Sales Price: $817000.0<br>Median Sales Price YoY: 6.9%<br>New Listings YoY: -17.9%<br>Median Days on Market: 26.5<br>Avg Sales-to-Listing Price: 1.01",
          "Cluster Description:<br>Comment 2<br><br>Zip Code: Zip Code: 22312<br>Metro: Washington, DC<br>Homes Sold: 43.0<br>Median Sales Price: $665000.0<br>Median Sales Price YoY: -4.0%<br>New Listings YoY: 4.5%<br>Median Days on Market: 30.0<br>Avg Sales-to-Listing Price: 1.01",
          "Cluster Description:<br>Comment 2<br><br>Zip Code: Zip Code: 20186<br>Metro: Washington, DC<br>Homes Sold: 67.0<br>Median Sales Price: $577500.0<br>Median Sales Price YoY: 15.5%<br>New Listings YoY: -9.2%<br>Median Days on Market: 21.0<br>Avg Sales-to-Listing Price: 1.02",
          "Cluster Description:<br>Comment 2<br><br>Zip Code: Zip Code: 23456<br>Metro: Virginia Beach, VA<br>Homes Sold: 357.0<br>Median Sales Price: $460000.0<br>Median Sales Price YoY: 5.5%<br>New Listings YoY: -8.9%<br>Median Days on Market: 22.0<br>Avg Sales-to-Listing Price: 1.02",
          "Cluster Description:<br>Comment 2<br><br>Zip Code: Zip Code: 23322<br>Metro: Virginia Beach, VA<br>Homes Sold: 347.0<br>Median Sales Price: $470000.0<br>Median Sales Price YoY: 13.1%<br>New Listings YoY: -8.6%<br>Median Days on Market: 17.0<br>Avg Sales-to-Listing Price: 1.02",
          "Cluster Description:<br>Comment 2<br><br>Zip Code: Zip Code: 23140<br>Metro: Richmond, VA<br>Homes Sold: 40.0<br>Median Sales Price: $379950.0<br>Median Sales Price YoY: 11.4%<br>New Listings YoY: 18.9%<br>Median Days on Market: 17.0<br>Avg Sales-to-Listing Price: 1.02",
          "Cluster Description:<br>Comment 2<br><br>Zip Code: Zip Code: 22032<br>Metro: Washington, DC<br>Homes Sold: 105.0<br>Median Sales Price: $740000.0<br>Median Sales Price YoY: 7.2%<br>New Listings YoY: -2.9%<br>Median Days on Market: 19.0<br>Avg Sales-to-Listing Price: 1.02",
          "Cluster Description:<br>Comment 2<br><br>Zip Code: Zip Code: 22039<br>Metro: Washington, DC<br>Homes Sold: 74.0<br>Median Sales Price: $981000.0<br>Median Sales Price YoY: 12.1%<br>New Listings YoY: -18.6%<br>Median Days on Market: 26.5<br>Avg Sales-to-Listing Price: 1.02",
          "Cluster Description:<br>Comment 2<br><br>Zip Code: Zip Code: 20112<br>Metro: Washington, DC<br>Homes Sold: 177.0<br>Median Sales Price: $630000.0<br>Median Sales Price YoY: 11.3%<br>New Listings YoY: -1.3%<br>Median Days on Market: 19.0<br>Avg Sales-to-Listing Price: 1.02",
          "Cluster Description:<br>Comment 2<br><br>Zip Code: Zip Code: 22655<br>Metro: Winchester, VA<br>Homes Sold: 114.0<br>Median Sales Price: $370543.0<br>Median Sales Price YoY: 5.9%<br>New Listings YoY: 17.6%<br>Median Days on Market: 30.0<br>Avg Sales-to-Listing Price: 1.02",
          "Cluster Description:<br>Comment 2<br><br>Zip Code: Zip Code: 23435<br>Metro: Virginia Beach, VA<br>Homes Sold: 208.0<br>Median Sales Price: $400000.0<br>Median Sales Price YoY: 14.3%<br>New Listings YoY: 16.1%<br>Median Days on Market: 23.5<br>Avg Sales-to-Listing Price: 1.02",
          "Cluster Description:<br>Comment 2<br><br>Zip Code: Zip Code: 23842<br>Metro: Richmond, VA<br>Homes Sold: 28.0<br>Median Sales Price: $279850.0<br>Median Sales Price YoY: -0.1%<br>New Listings YoY: 0.0%<br>Median Days on Market: 18.0<br>Avg Sales-to-Listing Price: 1.0",
          "Cluster Description:<br>Comment 2<br><br>Zip Code: Zip Code: 22003<br>Metro: Washington, DC<br>Homes Sold: 135.0<br>Median Sales Price: $750000.0<br>Median Sales Price YoY: 3.4%<br>New Listings YoY: 4.3%<br>Median Days on Market: 25.0<br>Avg Sales-to-Listing Price: 1.01",
          "Cluster Description:<br>Comment 2<br><br>Zip Code: Zip Code: 22034<br>Metro: Washington, DC<br>Homes Sold: 22.0<br>Median Sales Price: $917500.0<br>Median Sales Price YoY: 10.8%<br>New Listings YoY: -42.4%<br>Median Days on Market: 13.5<br>Avg Sales-to-Listing Price: 1.02",
          "Cluster Description:<br>Comment 2<br><br>Zip Code: Zip Code: 22553<br>Metro: Washington, DC<br>Homes Sold: 89.0<br>Median Sales Price: $436500.0<br>Median Sales Price YoY: 11.9%<br>New Listings YoY: -13.8%<br>Median Days on Market: 22.0<br>Avg Sales-to-Listing Price: 1.01",
          "Cluster Description:<br>Comment 2<br><br>Zip Code: Zip Code: 22315<br>Metro: Washington, DC<br>Homes Sold: 32.0<br>Median Sales Price: $709500.0<br>Median Sales Price YoY: 7.6%<br>New Listings YoY: -32.4%<br>Median Days on Market: 19.5<br>Avg Sales-to-Listing Price: 1.01",
          "Cluster Description:<br>Comment 2<br><br>Zip Code: Zip Code: 22310<br>Metro: Washington, DC<br>Homes Sold: 73.0<br>Median Sales Price: $629900.0<br>Median Sales Price YoY: 5.5%<br>New Listings YoY: 14.1%<br>Median Days on Market: 19.0<br>Avg Sales-to-Listing Price: 1.01",
          "Cluster Description:<br>Comment 2<br><br>Zip Code: Zip Code: 22124<br>Metro: Washington, DC<br>Homes Sold: 51.0<br>Median Sales Price: $1060000.0<br>Median Sales Price YoY: 6.0%<br>New Listings YoY: 14.5%<br>Median Days on Market: 24.0<br>Avg Sales-to-Listing Price: 1.01",
          "Cluster Description:<br>Comment 2<br><br>Zip Code: Zip Code: 23702<br>Metro: Virginia Beach, VA<br>Homes Sold: 66.0<br>Median Sales Price: $184975.0<br>Median Sales Price YoY: 10.8%<br>New Listings YoY: 16.2%<br>Median Days on Market: 24.0<br>Avg Sales-to-Listing Price: 1.01",
          "Cluster Description:<br>Comment 2<br><br>Zip Code: Zip Code: 20164<br>Metro: Washington, DC<br>Homes Sold: 105.0<br>Median Sales Price: $534000.0<br>Median Sales Price YoY: 10.9%<br>New Listings YoY: 11.6%<br>Median Days on Market: 22.0<br>Avg Sales-to-Listing Price: 1.01",
          "Cluster Description:<br>Comment 2<br><br>Zip Code: Zip Code: 22308<br>Metro: Washington, DC<br>Homes Sold: 81.0<br>Median Sales Price: $822500.0<br>Median Sales Price YoY: 8.2%<br>New Listings YoY: -20.2%<br>Median Days on Market: 25.0<br>Avg Sales-to-Listing Price: 1.02",
          "Cluster Description:<br>Comment 2<br><br>Zip Code: Zip Code: 23608<br>Metro: Virginia Beach, VA<br>Homes Sold: 194.0<br>Median Sales Price: $259900.0<br>Median Sales Price YoY: 13.0%<br>New Listings YoY: 3.1%<br>Median Days on Market: 18.0<br>Avg Sales-to-Listing Price: 1.01",
          "Cluster Description:<br>Comment 2<br><br>Zip Code: Zip Code: 23220<br>Metro: Richmond, VA<br>Homes Sold: 55.0<br>Median Sales Price: $340000.0<br>Median Sales Price YoY: -25.4%<br>New Listings YoY: -3.2%<br>Median Days on Market: 11.5<br>Avg Sales-to-Listing Price: 1.02",
          "Cluster Description:<br>Comment 2<br><br>Zip Code: Zip Code: 23661<br>Metro: Virginia Beach, VA<br>Homes Sold: 93.0<br>Median Sales Price: $212000.0<br>Median Sales Price YoY: 3.9%<br>New Listings YoY: 13.8%<br>Median Days on Market: 23.0<br>Avg Sales-to-Listing Price: 1.01",
          "Cluster Description:<br>Comment 2<br><br>Zip Code: Zip Code: 23453<br>Metro: Virginia Beach, VA<br>Homes Sold: 125.0<br>Median Sales Price: $355000.0<br>Median Sales Price YoY: 6.3%<br>New Listings YoY: 13.5%<br>Median Days on Market: 19.0<br>Avg Sales-to-Listing Price: 1.02",
          "Cluster Description:<br>Comment 2<br><br>Zip Code: Zip Code: 22307<br>Metro: Washington, DC<br>Homes Sold: 40.0<br>Median Sales Price: $812500.0<br>Median Sales Price YoY: -7.1%<br>New Listings YoY: 20.0%<br>Median Days on Market: 19.0<br>Avg Sales-to-Listing Price: 1.0",
          "Cluster Description:<br>Comment 2<br><br>Zip Code: Zip Code: 22204<br>Metro: Washington, DC<br>Homes Sold: 53.0<br>Median Sales Price: $812000.0<br>Median Sales Price YoY: 1.0%<br>New Listings YoY: 6.8%<br>Median Days on Market: 22.0<br>Avg Sales-to-Listing Price: 1.01",
          "Cluster Description:<br>Comment 2<br><br>Zip Code: Zip Code: 20158<br>Metro: Washington, DC<br>Homes Sold: 26.0<br>Median Sales Price: $682500.0<br>Median Sales Price YoY: 1.1%<br>New Listings YoY: -29.2%<br>Median Days on Market: 15.0<br>Avg Sales-to-Listing Price: 1.02",
          "Cluster Description:<br>Comment 2<br><br>Zip Code: Zip Code: 22302<br>Metro: Washington, DC<br>Homes Sold: 25.0<br>Median Sales Price: $1000000.0<br>Median Sales Price YoY: 5.3%<br>New Listings YoY: -10.7%<br>Median Days on Market: 24.0<br>Avg Sales-to-Listing Price: 1.0",
          "Cluster Description:<br>Comment 2<br><br>Zip Code: Zip Code: 23321<br>Metro: Virginia Beach, VA<br>Homes Sold: 170.0<br>Median Sales Price: $375000.0<br>Median Sales Price YoY: 14.0%<br>New Listings YoY: 16.6%<br>Median Days on Market: 18.0<br>Avg Sales-to-Listing Price: 1.01",
          "Cluster Description:<br>Comment 2<br><br>Zip Code: Zip Code: 23323<br>Metro: Virginia Beach, VA<br>Homes Sold: 299.0<br>Median Sales Price: $393500.0<br>Median Sales Price YoY: 11.3%<br>New Listings YoY: -1.0%<br>Median Days on Market: 17.5<br>Avg Sales-to-Listing Price: 1.03",
          "Cluster Description:<br>Comment 2<br><br>Zip Code: Zip Code: 22407<br>Metro: Washington, DC<br>Homes Sold: 333.0<br>Median Sales Price: $380000.0<br>Median Sales Price YoY: 11.8%<br>New Listings YoY: 5.8%<br>Median Days on Market: 18.0<br>Avg Sales-to-Listing Price: 1.01",
          "Cluster Description:<br>Comment 2<br><br>Zip Code: Zip Code: 22405<br>Metro: Washington, DC<br>Homes Sold: 172.0<br>Median Sales Price: $409500.0<br>Median Sales Price YoY: 7.8%<br>New Listings YoY: 20.5%<br>Median Days on Market: 15.0<br>Avg Sales-to-Listing Price: 1.01",
          "Cluster Description:<br>Comment 2<br><br>Zip Code: Zip Code: 22306<br>Metro: Washington, DC<br>Homes Sold: 56.0<br>Median Sales Price: $687500.0<br>Median Sales Price YoY: 6.4%<br>New Listings YoY: 15.5%<br>Median Days on Market: 23.0<br>Avg Sales-to-Listing Price: 1.02",
          "Cluster Description:<br>Comment 2<br><br>Zip Code: Zip Code: 20171<br>Metro: Washington, DC<br>Homes Sold: 103.0<br>Median Sales Price: $815000.0<br>Median Sales Price YoY: 9.4%<br>New Listings YoY: -6.9%<br>Median Days on Market: 17.0<br>Avg Sales-to-Listing Price: 1.02",
          "Cluster Description:<br>Comment 2<br><br>Zip Code: Zip Code: 23602<br>Metro: Virginia Beach, VA<br>Homes Sold: 197.0<br>Median Sales Price: $275000.0<br>Median Sales Price YoY: 3.8%<br>New Listings YoY: 6.5%<br>Median Days on Market: 19.0<br>Avg Sales-to-Listing Price: 1.02",
          "Cluster Description:<br>Comment 2<br><br>Zip Code: Zip Code: 23452<br>Metro: Virginia Beach, VA<br>Homes Sold: 235.0<br>Median Sales Price: $325000.0<br>Median Sales Price YoY: 7.1%<br>New Listings YoY: 7.6%<br>Median Days on Market: 18.0<br>Avg Sales-to-Listing Price: 1.02",
          "Cluster Description:<br>Comment 2<br><br>Zip Code: Zip Code: 23320<br>Metro: Virginia Beach, VA<br>Homes Sold: 224.0<br>Median Sales Price: $381500.0<br>Median Sales Price YoY: 16.5%<br>New Listings YoY: 7.5%<br>Median Days on Market: 19.0<br>Avg Sales-to-Listing Price: 1.02",
          "Cluster Description:<br>Comment 2<br><br>Zip Code: Zip Code: 23462<br>Metro: Virginia Beach, VA<br>Homes Sold: 163.0<br>Median Sales Price: $305000.0<br>Median Sales Price YoY: 12.8%<br>New Listings YoY: 3.4%<br>Median Days on Market: 20.0<br>Avg Sales-to-Listing Price: 1.02",
          "Cluster Description:<br>Comment 2<br><br>Zip Code: Zip Code: 23455<br>Metro: Virginia Beach, VA<br>Homes Sold: 172.0<br>Median Sales Price: $407500.0<br>Median Sales Price YoY: 2.0%<br>New Listings YoY: -2.4%<br>Median Days on Market: 18.0<br>Avg Sales-to-Listing Price: 1.01",
          "Cluster Description:<br>Comment 2<br><br>Zip Code: Zip Code: 20181<br>Metro: Washington, DC<br>Homes Sold: 38.0<br>Median Sales Price: $615000.0<br>Median Sales Price YoY: 1.7%<br>New Listings YoY: 4.3%<br>Median Days on Market: 19.0<br>Avg Sales-to-Listing Price: 1.0",
          "Cluster Description:<br>Comment 2<br><br>Zip Code: Zip Code: 20175<br>Metro: Washington, DC<br>Homes Sold: 93.0<br>Median Sales Price: $845000.0<br>Median Sales Price YoY: 23.4%<br>New Listings YoY: -5.4%<br>Median Days on Market: 19.0<br>Avg Sales-to-Listing Price: 1.01",
          "Cluster Description:<br>Comment 2<br><br>Zip Code: Zip Code: 20187<br>Metro: Washington, DC<br>Homes Sold: 112.0<br>Median Sales Price: $607025.0<br>Median Sales Price YoY: 10.4%<br>New Listings YoY: -13.3%<br>Median Days on Market: 27.0<br>Avg Sales-to-Listing Price: 1.01",
          "Cluster Description:<br>Comment 2<br><br>Zip Code: Zip Code: 23803<br>Metro: Richmond, VA<br>Homes Sold: 151.0<br>Median Sales Price: $187500.0<br>Median Sales Price YoY: 7.4%<br>New Listings YoY: -2.0%<br>Median Days on Market: 13.0<br>Avg Sales-to-Listing Price: 1.0"
         ],
         "type": "scatter",
         "x": [
          0.1381310102292336,
          0.0402964219594527,
          0.0791364626362813,
          0.0144327600160776,
          0.1553355173325471,
          0.0729495027552105,
          -0.0313038251875095,
          0.01446841771649,
          0.2051303084769044,
          -0.0972860081871353,
          0.0969348185028939,
          -0.1007893361003482,
          0.2561438540945686,
          0.0552827634321027,
          -0.0840132928435545,
          0.0234762431203574,
          -0.1493022149427425,
          -0.0314813900262101,
          0.1793141106729882,
          0.096595300148565,
          0.3130956079099552,
          0.1841509341910933,
          -0.0130201667210976,
          -0.0948516960158018,
          0.1424092200873361,
          -0.0356328816242131,
          0.0930896569000093,
          -0.0847173718075493,
          0.2042715889840665,
          -0.0715488542195814,
          0.0659282695956756,
          -0.1504605254823071,
          0.1256992592762645,
          -0.1377258727595476,
          0.1396155285656179,
          0.1626666742208667,
          0.2829043064734606,
          -0.0280856187230732,
          0.0362882205100472,
          -0.0699810734259786,
          -0.0644893943724151,
          -0.0215503739804921,
          0.1446243963859186,
          -0.0614082722261727,
          0.2476178387533622,
          0.0795721781524732,
          0.0842759746789327,
          0.2139924650857174,
          -0.1567241902000898,
          0.1212812338199983,
          0.073489108000718,
          0.0682095830645171,
          0.1203832801043167,
          0.1355476560015851,
          0.1295794382581389,
          0.1193593931032523,
          -0.0097559714585791,
          -0.205625635354422,
          0.1655975571021314,
          -0.0644369112040877,
          0.1396995562307253,
          0.1261957998978039,
          -0.1637160974173836,
          0.211469527371351,
          -0.0069132000550226,
          -0.1204602202389128,
          -0.0011043473649198,
          -0.0616074281060892,
          0.0717982017052662,
          -0.074453308155445,
          -0.0374500842074616,
          -0.0208376150681666,
          -0.0259086563407155,
          0.0004497819281817,
          -0.0108650047854411,
          0.1217081013811117,
          0.0274883864027012,
          0.228471641492001,
          0.0177339484622973
         ],
         "y": [
          -0.0987417265305131,
          -0.2334904390314231,
          -0.1639828288247885,
          -0.12877831413548,
          0.0631875288275157,
          -0.0901262873808577,
          -0.1420344169229057,
          -0.0631414528466141,
          -0.0514711800256464,
          -0.121788914070729,
          -0.0424396813247712,
          -0.2216889353254409,
          0.0507471651261939,
          -0.0616004769468815,
          0.0116144610839038,
          -0.0452436595145777,
          -0.467943823583936,
          -0.1671526766830901,
          0.0587025101083367,
          0.0040438568692543,
          -0.2558757190954503,
          -0.0311653768855965,
          -0.0150568045983988,
          0.0180903636049342,
          -0.2101142171038451,
          -0.0574929408972718,
          -0.241591369194758,
          -0.2349901733701358,
          -0.2318375741685985,
          -0.1788486131043667,
          -0.0623618080740343,
          -0.099556216673225,
          -0.1472864307345698,
          -0.0340177854857669,
          0.0540982838838104,
          -0.2510457086551755,
          -0.0242274129066323,
          -0.1515260054679147,
          -0.183814284359936,
          -0.1493127581332668,
          0.0750351781037533,
          -0.0961865071796116,
          -0.2766460402867503,
          -0.0936113707159161,
          0.0005142986926702,
          0.0782343700417017,
          -0.0302538351399856,
          -0.0255039201569823,
          -0.4572739821773631,
          -0.1895330818094227,
          -0.3538897495180838,
          0.0029500469434764,
          -0.0234753564229011,
          0.0484499231190821,
          0.0330324697691839,
          -0.2503783719840863,
          -0.0136070385655107,
          -0.1112484710817506,
          0.0077847443758755,
          -0.0178011648544151,
          0.0228544351547338,
          -0.0593596357399287,
          -0.3398929932503546,
          -0.21661006396343,
          0.0410580928624396,
          -0.0859091567890004,
          -0.0240516124839808,
          0.0805908035656247,
          0.0675017687105267,
          -0.1019941706521211,
          -0.0178119676284004,
          -0.0312136716446342,
          -0.0343539641426982,
          -0.0482927717490993,
          -0.0890664809382248,
          -0.0519841208055588,
          -0.1446355399980987,
          -0.1683474425717838,
          -0.0468331062430409
         ]
        }
       ],
       "layout": {
        "showlegend": false,
        "template": {
         "data": {
          "bar": [
           {
            "error_x": {
             "color": "#2a3f5f"
            },
            "error_y": {
             "color": "#2a3f5f"
            },
            "marker": {
             "line": {
              "color": "#E5ECF6",
              "width": 0.5
             },
             "pattern": {
              "fillmode": "overlay",
              "size": 10,
              "solidity": 0.2
             }
            },
            "type": "bar"
           }
          ],
          "barpolar": [
           {
            "marker": {
             "line": {
              "color": "#E5ECF6",
              "width": 0.5
             },
             "pattern": {
              "fillmode": "overlay",
              "size": 10,
              "solidity": 0.2
             }
            },
            "type": "barpolar"
           }
          ],
          "carpet": [
           {
            "aaxis": {
             "endlinecolor": "#2a3f5f",
             "gridcolor": "white",
             "linecolor": "white",
             "minorgridcolor": "white",
             "startlinecolor": "#2a3f5f"
            },
            "baxis": {
             "endlinecolor": "#2a3f5f",
             "gridcolor": "white",
             "linecolor": "white",
             "minorgridcolor": "white",
             "startlinecolor": "#2a3f5f"
            },
            "type": "carpet"
           }
          ],
          "choropleth": [
           {
            "colorbar": {
             "outlinewidth": 0,
             "ticks": ""
            },
            "type": "choropleth"
           }
          ],
          "contour": [
           {
            "colorbar": {
             "outlinewidth": 0,
             "ticks": ""
            },
            "colorscale": [
             [
              0,
              "#0d0887"
             ],
             [
              0.1111111111111111,
              "#46039f"
             ],
             [
              0.2222222222222222,
              "#7201a8"
             ],
             [
              0.3333333333333333,
              "#9c179e"
             ],
             [
              0.4444444444444444,
              "#bd3786"
             ],
             [
              0.5555555555555556,
              "#d8576b"
             ],
             [
              0.6666666666666666,
              "#ed7953"
             ],
             [
              0.7777777777777778,
              "#fb9f3a"
             ],
             [
              0.8888888888888888,
              "#fdca26"
             ],
             [
              1,
              "#f0f921"
             ]
            ],
            "type": "contour"
           }
          ],
          "contourcarpet": [
           {
            "colorbar": {
             "outlinewidth": 0,
             "ticks": ""
            },
            "type": "contourcarpet"
           }
          ],
          "heatmap": [
           {
            "colorbar": {
             "outlinewidth": 0,
             "ticks": ""
            },
            "colorscale": [
             [
              0,
              "#0d0887"
             ],
             [
              0.1111111111111111,
              "#46039f"
             ],
             [
              0.2222222222222222,
              "#7201a8"
             ],
             [
              0.3333333333333333,
              "#9c179e"
             ],
             [
              0.4444444444444444,
              "#bd3786"
             ],
             [
              0.5555555555555556,
              "#d8576b"
             ],
             [
              0.6666666666666666,
              "#ed7953"
             ],
             [
              0.7777777777777778,
              "#fb9f3a"
             ],
             [
              0.8888888888888888,
              "#fdca26"
             ],
             [
              1,
              "#f0f921"
             ]
            ],
            "type": "heatmap"
           }
          ],
          "heatmapgl": [
           {
            "colorbar": {
             "outlinewidth": 0,
             "ticks": ""
            },
            "colorscale": [
             [
              0,
              "#0d0887"
             ],
             [
              0.1111111111111111,
              "#46039f"
             ],
             [
              0.2222222222222222,
              "#7201a8"
             ],
             [
              0.3333333333333333,
              "#9c179e"
             ],
             [
              0.4444444444444444,
              "#bd3786"
             ],
             [
              0.5555555555555556,
              "#d8576b"
             ],
             [
              0.6666666666666666,
              "#ed7953"
             ],
             [
              0.7777777777777778,
              "#fb9f3a"
             ],
             [
              0.8888888888888888,
              "#fdca26"
             ],
             [
              1,
              "#f0f921"
             ]
            ],
            "type": "heatmapgl"
           }
          ],
          "histogram": [
           {
            "marker": {
             "pattern": {
              "fillmode": "overlay",
              "size": 10,
              "solidity": 0.2
             }
            },
            "type": "histogram"
           }
          ],
          "histogram2d": [
           {
            "colorbar": {
             "outlinewidth": 0,
             "ticks": ""
            },
            "colorscale": [
             [
              0,
              "#0d0887"
             ],
             [
              0.1111111111111111,
              "#46039f"
             ],
             [
              0.2222222222222222,
              "#7201a8"
             ],
             [
              0.3333333333333333,
              "#9c179e"
             ],
             [
              0.4444444444444444,
              "#bd3786"
             ],
             [
              0.5555555555555556,
              "#d8576b"
             ],
             [
              0.6666666666666666,
              "#ed7953"
             ],
             [
              0.7777777777777778,
              "#fb9f3a"
             ],
             [
              0.8888888888888888,
              "#fdca26"
             ],
             [
              1,
              "#f0f921"
             ]
            ],
            "type": "histogram2d"
           }
          ],
          "histogram2dcontour": [
           {
            "colorbar": {
             "outlinewidth": 0,
             "ticks": ""
            },
            "colorscale": [
             [
              0,
              "#0d0887"
             ],
             [
              0.1111111111111111,
              "#46039f"
             ],
             [
              0.2222222222222222,
              "#7201a8"
             ],
             [
              0.3333333333333333,
              "#9c179e"
             ],
             [
              0.4444444444444444,
              "#bd3786"
             ],
             [
              0.5555555555555556,
              "#d8576b"
             ],
             [
              0.6666666666666666,
              "#ed7953"
             ],
             [
              0.7777777777777778,
              "#fb9f3a"
             ],
             [
              0.8888888888888888,
              "#fdca26"
             ],
             [
              1,
              "#f0f921"
             ]
            ],
            "type": "histogram2dcontour"
           }
          ],
          "mesh3d": [
           {
            "colorbar": {
             "outlinewidth": 0,
             "ticks": ""
            },
            "type": "mesh3d"
           }
          ],
          "parcoords": [
           {
            "line": {
             "colorbar": {
              "outlinewidth": 0,
              "ticks": ""
             }
            },
            "type": "parcoords"
           }
          ],
          "pie": [
           {
            "automargin": true,
            "type": "pie"
           }
          ],
          "scatter": [
           {
            "marker": {
             "colorbar": {
              "outlinewidth": 0,
              "ticks": ""
             }
            },
            "type": "scatter"
           }
          ],
          "scatter3d": [
           {
            "line": {
             "colorbar": {
              "outlinewidth": 0,
              "ticks": ""
             }
            },
            "marker": {
             "colorbar": {
              "outlinewidth": 0,
              "ticks": ""
             }
            },
            "type": "scatter3d"
           }
          ],
          "scattercarpet": [
           {
            "marker": {
             "colorbar": {
              "outlinewidth": 0,
              "ticks": ""
             }
            },
            "type": "scattercarpet"
           }
          ],
          "scattergeo": [
           {
            "marker": {
             "colorbar": {
              "outlinewidth": 0,
              "ticks": ""
             }
            },
            "type": "scattergeo"
           }
          ],
          "scattergl": [
           {
            "marker": {
             "colorbar": {
              "outlinewidth": 0,
              "ticks": ""
             }
            },
            "type": "scattergl"
           }
          ],
          "scattermapbox": [
           {
            "marker": {
             "colorbar": {
              "outlinewidth": 0,
              "ticks": ""
             }
            },
            "type": "scattermapbox"
           }
          ],
          "scatterpolar": [
           {
            "marker": {
             "colorbar": {
              "outlinewidth": 0,
              "ticks": ""
             }
            },
            "type": "scatterpolar"
           }
          ],
          "scatterpolargl": [
           {
            "marker": {
             "colorbar": {
              "outlinewidth": 0,
              "ticks": ""
             }
            },
            "type": "scatterpolargl"
           }
          ],
          "scatterternary": [
           {
            "marker": {
             "colorbar": {
              "outlinewidth": 0,
              "ticks": ""
             }
            },
            "type": "scatterternary"
           }
          ],
          "surface": [
           {
            "colorbar": {
             "outlinewidth": 0,
             "ticks": ""
            },
            "colorscale": [
             [
              0,
              "#0d0887"
             ],
             [
              0.1111111111111111,
              "#46039f"
             ],
             [
              0.2222222222222222,
              "#7201a8"
             ],
             [
              0.3333333333333333,
              "#9c179e"
             ],
             [
              0.4444444444444444,
              "#bd3786"
             ],
             [
              0.5555555555555556,
              "#d8576b"
             ],
             [
              0.6666666666666666,
              "#ed7953"
             ],
             [
              0.7777777777777778,
              "#fb9f3a"
             ],
             [
              0.8888888888888888,
              "#fdca26"
             ],
             [
              1,
              "#f0f921"
             ]
            ],
            "type": "surface"
           }
          ],
          "table": [
           {
            "cells": {
             "fill": {
              "color": "#EBF0F8"
             },
             "line": {
              "color": "white"
             }
            },
            "header": {
             "fill": {
              "color": "#C8D4E3"
             },
             "line": {
              "color": "white"
             }
            },
            "type": "table"
           }
          ]
         },
         "layout": {
          "annotationdefaults": {
           "arrowcolor": "#2a3f5f",
           "arrowhead": 0,
           "arrowwidth": 1
          },
          "autotypenumbers": "strict",
          "coloraxis": {
           "colorbar": {
            "outlinewidth": 0,
            "ticks": ""
           }
          },
          "colorscale": {
           "diverging": [
            [
             0,
             "#8e0152"
            ],
            [
             0.1,
             "#c51b7d"
            ],
            [
             0.2,
             "#de77ae"
            ],
            [
             0.3,
             "#f1b6da"
            ],
            [
             0.4,
             "#fde0ef"
            ],
            [
             0.5,
             "#f7f7f7"
            ],
            [
             0.6,
             "#e6f5d0"
            ],
            [
             0.7,
             "#b8e186"
            ],
            [
             0.8,
             "#7fbc41"
            ],
            [
             0.9,
             "#4d9221"
            ],
            [
             1,
             "#276419"
            ]
           ],
           "sequential": [
            [
             0,
             "#0d0887"
            ],
            [
             0.1111111111111111,
             "#46039f"
            ],
            [
             0.2222222222222222,
             "#7201a8"
            ],
            [
             0.3333333333333333,
             "#9c179e"
            ],
            [
             0.4444444444444444,
             "#bd3786"
            ],
            [
             0.5555555555555556,
             "#d8576b"
            ],
            [
             0.6666666666666666,
             "#ed7953"
            ],
            [
             0.7777777777777778,
             "#fb9f3a"
            ],
            [
             0.8888888888888888,
             "#fdca26"
            ],
            [
             1,
             "#f0f921"
            ]
           ],
           "sequentialminus": [
            [
             0,
             "#0d0887"
            ],
            [
             0.1111111111111111,
             "#46039f"
            ],
            [
             0.2222222222222222,
             "#7201a8"
            ],
            [
             0.3333333333333333,
             "#9c179e"
            ],
            [
             0.4444444444444444,
             "#bd3786"
            ],
            [
             0.5555555555555556,
             "#d8576b"
            ],
            [
             0.6666666666666666,
             "#ed7953"
            ],
            [
             0.7777777777777778,
             "#fb9f3a"
            ],
            [
             0.8888888888888888,
             "#fdca26"
            ],
            [
             1,
             "#f0f921"
            ]
           ]
          },
          "colorway": [
           "#636efa",
           "#EF553B",
           "#00cc96",
           "#ab63fa",
           "#FFA15A",
           "#19d3f3",
           "#FF6692",
           "#B6E880",
           "#FF97FF",
           "#FECB52"
          ],
          "font": {
           "color": "#2a3f5f"
          },
          "geo": {
           "bgcolor": "white",
           "lakecolor": "white",
           "landcolor": "#E5ECF6",
           "showlakes": true,
           "showland": true,
           "subunitcolor": "white"
          },
          "hoverlabel": {
           "align": "left"
          },
          "hovermode": "closest",
          "mapbox": {
           "style": "light"
          },
          "paper_bgcolor": "white",
          "plot_bgcolor": "#E5ECF6",
          "polar": {
           "angularaxis": {
            "gridcolor": "white",
            "linecolor": "white",
            "ticks": ""
           },
           "bgcolor": "#E5ECF6",
           "radialaxis": {
            "gridcolor": "white",
            "linecolor": "white",
            "ticks": ""
           }
          },
          "scene": {
           "xaxis": {
            "backgroundcolor": "#E5ECF6",
            "gridcolor": "white",
            "gridwidth": 2,
            "linecolor": "white",
            "showbackground": true,
            "ticks": "",
            "zerolinecolor": "white"
           },
           "yaxis": {
            "backgroundcolor": "#E5ECF6",
            "gridcolor": "white",
            "gridwidth": 2,
            "linecolor": "white",
            "showbackground": true,
            "ticks": "",
            "zerolinecolor": "white"
           },
           "zaxis": {
            "backgroundcolor": "#E5ECF6",
            "gridcolor": "white",
            "gridwidth": 2,
            "linecolor": "white",
            "showbackground": true,
            "ticks": "",
            "zerolinecolor": "white"
           }
          },
          "shapedefaults": {
           "line": {
            "color": "#2a3f5f"
           }
          },
          "ternary": {
           "aaxis": {
            "gridcolor": "white",
            "linecolor": "white",
            "ticks": ""
           },
           "baxis": {
            "gridcolor": "white",
            "linecolor": "white",
            "ticks": ""
           },
           "bgcolor": "#E5ECF6",
           "caxis": {
            "gridcolor": "white",
            "linecolor": "white",
            "ticks": ""
           }
          },
          "title": {
           "x": 0.05
          },
          "xaxis": {
           "automargin": true,
           "gridcolor": "white",
           "linecolor": "white",
           "ticks": "",
           "title": {
            "standoff": 15
           },
           "zerolinecolor": "white",
           "zerolinewidth": 2
          },
          "yaxis": {
           "automargin": true,
           "gridcolor": "white",
           "linecolor": "white",
           "ticks": "",
           "title": {
            "standoff": 15
           },
           "zerolinecolor": "white",
           "zerolinewidth": 2
          }
         }
        },
        "title": {
         "text": "NC Neighborhoods Housing Market Segments",
         "x": 0.5
        },
        "xaxis": {
         "showticklabels": false,
         "title": {
          "text": "Shorter Days on Market <-------------> Longer Days on Market"
         }
        },
        "yaxis": {
         "showticklabels": false,
         "title": {
          "text": "Lower Supply <------------> Higher Supply"
         }
        }
       }
      }
     },
     "metadata": {},
     "output_type": "display_data"
    }
   ],
   "source": [
    "# Dictionary with dataframes for each cluster\n",
    "cluster_name=df[\"cluster_nbr\"].unique()\n",
    "cluster_data = {cluster: df.loc[df[\"cluster_nbr\"] == cluster].copy()\n",
    "                            for cluster in cluster_name}\n",
    "\n",
    "layout = go.Layout(\n",
    "    title_text='VA Neighborhoods Housing Market Segments', \n",
    "    title_x=0.5,\n",
    "    xaxis = go.XAxis(\n",
    "        title = 'Shorter Days on Market <-------------> Longer Days on Market',\n",
    "        showticklabels=False),\n",
    "    yaxis = go.YAxis(\n",
    "        title = 'Lower Supply <------------> Higher Supply',\n",
    "        showticklabels=False\n",
    "    )\n",
    ")\n",
    "\n",
    "# Create figure\n",
    "fig = go.Figure(layout=layout)\n",
    "for cluster_name, cluster in cluster_data.items():\n",
    "    fig.add_trace(go.Scatter(\n",
    "        x=cluster['PC1'], y=cluster['PC2'],\n",
    "        marker = dict(color=cluster['color']),\n",
    "        name=cluster_name, text=cluster['text'],\n",
    "        marker_size=cluster['size']\n",
    "        ))\n",
    "\n",
    "# Tune marker appearance and layout\n",
    "sizeref = 2.*max(df['size'])/(18**2) \n",
    "fig.update_traces(mode='markers', marker=dict(sizemode='area',sizeref=sizeref, line_width=2))\n",
    "\n",
    "fig.update_layout(showlegend=False)\n",
    "fig.show()"
   ]
  },
  {
   "cell_type": "code",
   "execution_count": null,
   "metadata": {},
   "outputs": [],
   "source": []
  }
 ],
 "metadata": {
  "interpreter": {
   "hash": "c9a7628a65e68ccc20513d12bf4a0fc8d0fbbedc53273c46e8f8a64a81c216c6"
  },
  "kernelspec": {
   "display_name": "Python 3.10.2 64-bit ('realestate_env': conda)",
   "language": "python",
   "name": "python3"
  },
  "language_info": {
   "codemirror_mode": {
    "name": "ipython",
    "version": 3
   },
   "file_extension": ".py",
   "mimetype": "text/x-python",
   "name": "python",
   "nbconvert_exporter": "python",
   "pygments_lexer": "ipython3",
   "version": "3.10.2"
  },
  "orig_nbformat": 4
 },
 "nbformat": 4,
 "nbformat_minor": 2
}
